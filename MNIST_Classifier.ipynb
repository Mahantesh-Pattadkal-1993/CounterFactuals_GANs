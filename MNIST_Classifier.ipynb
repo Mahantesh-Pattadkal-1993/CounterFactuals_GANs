{
  "nbformat": 4,
  "nbformat_minor": 0,
  "metadata": {
    "colab": {
      "name": "MNIST Classifier.ipynb",
      "provenance": [],
      "authorship_tag": "ABX9TyPbhkErS2O5WtbhxPNgU/hQ",
      "include_colab_link": true
    },
    "kernelspec": {
      "name": "python3",
      "display_name": "Python 3"
    },
    "language_info": {
      "name": "python"
    },
    "accelerator": "GPU",
    "widgets": {
      "application/vnd.jupyter.widget-state+json": {
        "c1731dda5c434e179e87e790debfdd45": {
          "model_module": "@jupyter-widgets/controls",
          "model_name": "HBoxModel",
          "model_module_version": "1.5.0",
          "state": {
            "_view_name": "HBoxView",
            "_dom_classes": [],
            "_model_name": "HBoxModel",
            "_view_module": "@jupyter-widgets/controls",
            "_model_module_version": "1.5.0",
            "_view_count": null,
            "_view_module_version": "1.5.0",
            "box_style": "",
            "layout": "IPY_MODEL_c5e3e19251fa4f8fb0686d40db642c1c",
            "_model_module": "@jupyter-widgets/controls",
            "children": [
              "IPY_MODEL_12e871d9c0004621ba6b8e8eb2d094c7",
              "IPY_MODEL_def664d8422d41c39aac53cd8d5bec5a",
              "IPY_MODEL_46dc0a299e1a4ea781af1356b0692b43"
            ]
          }
        },
        "c5e3e19251fa4f8fb0686d40db642c1c": {
          "model_module": "@jupyter-widgets/base",
          "model_name": "LayoutModel",
          "model_module_version": "1.2.0",
          "state": {
            "_view_name": "LayoutView",
            "grid_template_rows": null,
            "right": null,
            "justify_content": null,
            "_view_module": "@jupyter-widgets/base",
            "overflow": null,
            "_model_module_version": "1.2.0",
            "_view_count": null,
            "flex_flow": null,
            "width": null,
            "min_width": null,
            "border": null,
            "align_items": null,
            "bottom": null,
            "_model_module": "@jupyter-widgets/base",
            "top": null,
            "grid_column": null,
            "overflow_y": null,
            "overflow_x": null,
            "grid_auto_flow": null,
            "grid_area": null,
            "grid_template_columns": null,
            "flex": null,
            "_model_name": "LayoutModel",
            "justify_items": null,
            "grid_row": null,
            "max_height": null,
            "align_content": null,
            "visibility": null,
            "align_self": null,
            "height": null,
            "min_height": null,
            "padding": null,
            "grid_auto_rows": null,
            "grid_gap": null,
            "max_width": null,
            "order": null,
            "_view_module_version": "1.2.0",
            "grid_template_areas": null,
            "object_position": null,
            "object_fit": null,
            "grid_auto_columns": null,
            "margin": null,
            "display": null,
            "left": null
          }
        },
        "12e871d9c0004621ba6b8e8eb2d094c7": {
          "model_module": "@jupyter-widgets/controls",
          "model_name": "HTMLModel",
          "model_module_version": "1.5.0",
          "state": {
            "_view_name": "HTMLView",
            "style": "IPY_MODEL_11508a3e43774632bb351a8645209ef4",
            "_dom_classes": [],
            "description": "",
            "_model_name": "HTMLModel",
            "placeholder": "​",
            "_view_module": "@jupyter-widgets/controls",
            "_model_module_version": "1.5.0",
            "value": "",
            "_view_count": null,
            "_view_module_version": "1.5.0",
            "description_tooltip": null,
            "_model_module": "@jupyter-widgets/controls",
            "layout": "IPY_MODEL_efbe6910015249eabaa224bec5ad1405"
          }
        },
        "def664d8422d41c39aac53cd8d5bec5a": {
          "model_module": "@jupyter-widgets/controls",
          "model_name": "FloatProgressModel",
          "model_module_version": "1.5.0",
          "state": {
            "_view_name": "ProgressView",
            "style": "IPY_MODEL_966378ce1b7649809361bf178aa08e82",
            "_dom_classes": [],
            "description": "",
            "_model_name": "FloatProgressModel",
            "bar_style": "success",
            "max": 9912422,
            "_view_module": "@jupyter-widgets/controls",
            "_model_module_version": "1.5.0",
            "value": 9912422,
            "_view_count": null,
            "_view_module_version": "1.5.0",
            "orientation": "horizontal",
            "min": 0,
            "description_tooltip": null,
            "_model_module": "@jupyter-widgets/controls",
            "layout": "IPY_MODEL_f3a97a627a294fb986b424fb123bfeaf"
          }
        },
        "46dc0a299e1a4ea781af1356b0692b43": {
          "model_module": "@jupyter-widgets/controls",
          "model_name": "HTMLModel",
          "model_module_version": "1.5.0",
          "state": {
            "_view_name": "HTMLView",
            "style": "IPY_MODEL_08167b8ee8d845e7a515a65b2716268c",
            "_dom_classes": [],
            "description": "",
            "_model_name": "HTMLModel",
            "placeholder": "​",
            "_view_module": "@jupyter-widgets/controls",
            "_model_module_version": "1.5.0",
            "value": " 9913344/? [00:00&lt;00:00, 17530968.62it/s]",
            "_view_count": null,
            "_view_module_version": "1.5.0",
            "description_tooltip": null,
            "_model_module": "@jupyter-widgets/controls",
            "layout": "IPY_MODEL_f5655865a3ab40b69230d16304b60fd1"
          }
        },
        "11508a3e43774632bb351a8645209ef4": {
          "model_module": "@jupyter-widgets/controls",
          "model_name": "DescriptionStyleModel",
          "model_module_version": "1.5.0",
          "state": {
            "_view_name": "StyleView",
            "_model_name": "DescriptionStyleModel",
            "description_width": "",
            "_view_module": "@jupyter-widgets/base",
            "_model_module_version": "1.5.0",
            "_view_count": null,
            "_view_module_version": "1.2.0",
            "_model_module": "@jupyter-widgets/controls"
          }
        },
        "efbe6910015249eabaa224bec5ad1405": {
          "model_module": "@jupyter-widgets/base",
          "model_name": "LayoutModel",
          "model_module_version": "1.2.0",
          "state": {
            "_view_name": "LayoutView",
            "grid_template_rows": null,
            "right": null,
            "justify_content": null,
            "_view_module": "@jupyter-widgets/base",
            "overflow": null,
            "_model_module_version": "1.2.0",
            "_view_count": null,
            "flex_flow": null,
            "width": null,
            "min_width": null,
            "border": null,
            "align_items": null,
            "bottom": null,
            "_model_module": "@jupyter-widgets/base",
            "top": null,
            "grid_column": null,
            "overflow_y": null,
            "overflow_x": null,
            "grid_auto_flow": null,
            "grid_area": null,
            "grid_template_columns": null,
            "flex": null,
            "_model_name": "LayoutModel",
            "justify_items": null,
            "grid_row": null,
            "max_height": null,
            "align_content": null,
            "visibility": null,
            "align_self": null,
            "height": null,
            "min_height": null,
            "padding": null,
            "grid_auto_rows": null,
            "grid_gap": null,
            "max_width": null,
            "order": null,
            "_view_module_version": "1.2.0",
            "grid_template_areas": null,
            "object_position": null,
            "object_fit": null,
            "grid_auto_columns": null,
            "margin": null,
            "display": null,
            "left": null
          }
        },
        "966378ce1b7649809361bf178aa08e82": {
          "model_module": "@jupyter-widgets/controls",
          "model_name": "ProgressStyleModel",
          "model_module_version": "1.5.0",
          "state": {
            "_view_name": "StyleView",
            "_model_name": "ProgressStyleModel",
            "description_width": "",
            "_view_module": "@jupyter-widgets/base",
            "_model_module_version": "1.5.0",
            "_view_count": null,
            "_view_module_version": "1.2.0",
            "bar_color": null,
            "_model_module": "@jupyter-widgets/controls"
          }
        },
        "f3a97a627a294fb986b424fb123bfeaf": {
          "model_module": "@jupyter-widgets/base",
          "model_name": "LayoutModel",
          "model_module_version": "1.2.0",
          "state": {
            "_view_name": "LayoutView",
            "grid_template_rows": null,
            "right": null,
            "justify_content": null,
            "_view_module": "@jupyter-widgets/base",
            "overflow": null,
            "_model_module_version": "1.2.0",
            "_view_count": null,
            "flex_flow": null,
            "width": null,
            "min_width": null,
            "border": null,
            "align_items": null,
            "bottom": null,
            "_model_module": "@jupyter-widgets/base",
            "top": null,
            "grid_column": null,
            "overflow_y": null,
            "overflow_x": null,
            "grid_auto_flow": null,
            "grid_area": null,
            "grid_template_columns": null,
            "flex": null,
            "_model_name": "LayoutModel",
            "justify_items": null,
            "grid_row": null,
            "max_height": null,
            "align_content": null,
            "visibility": null,
            "align_self": null,
            "height": null,
            "min_height": null,
            "padding": null,
            "grid_auto_rows": null,
            "grid_gap": null,
            "max_width": null,
            "order": null,
            "_view_module_version": "1.2.0",
            "grid_template_areas": null,
            "object_position": null,
            "object_fit": null,
            "grid_auto_columns": null,
            "margin": null,
            "display": null,
            "left": null
          }
        },
        "08167b8ee8d845e7a515a65b2716268c": {
          "model_module": "@jupyter-widgets/controls",
          "model_name": "DescriptionStyleModel",
          "model_module_version": "1.5.0",
          "state": {
            "_view_name": "StyleView",
            "_model_name": "DescriptionStyleModel",
            "description_width": "",
            "_view_module": "@jupyter-widgets/base",
            "_model_module_version": "1.5.0",
            "_view_count": null,
            "_view_module_version": "1.2.0",
            "_model_module": "@jupyter-widgets/controls"
          }
        },
        "f5655865a3ab40b69230d16304b60fd1": {
          "model_module": "@jupyter-widgets/base",
          "model_name": "LayoutModel",
          "model_module_version": "1.2.0",
          "state": {
            "_view_name": "LayoutView",
            "grid_template_rows": null,
            "right": null,
            "justify_content": null,
            "_view_module": "@jupyter-widgets/base",
            "overflow": null,
            "_model_module_version": "1.2.0",
            "_view_count": null,
            "flex_flow": null,
            "width": null,
            "min_width": null,
            "border": null,
            "align_items": null,
            "bottom": null,
            "_model_module": "@jupyter-widgets/base",
            "top": null,
            "grid_column": null,
            "overflow_y": null,
            "overflow_x": null,
            "grid_auto_flow": null,
            "grid_area": null,
            "grid_template_columns": null,
            "flex": null,
            "_model_name": "LayoutModel",
            "justify_items": null,
            "grid_row": null,
            "max_height": null,
            "align_content": null,
            "visibility": null,
            "align_self": null,
            "height": null,
            "min_height": null,
            "padding": null,
            "grid_auto_rows": null,
            "grid_gap": null,
            "max_width": null,
            "order": null,
            "_view_module_version": "1.2.0",
            "grid_template_areas": null,
            "object_position": null,
            "object_fit": null,
            "grid_auto_columns": null,
            "margin": null,
            "display": null,
            "left": null
          }
        },
        "3f7ec2503f3442398e5e9ce1e1807c78": {
          "model_module": "@jupyter-widgets/controls",
          "model_name": "HBoxModel",
          "model_module_version": "1.5.0",
          "state": {
            "_view_name": "HBoxView",
            "_dom_classes": [],
            "_model_name": "HBoxModel",
            "_view_module": "@jupyter-widgets/controls",
            "_model_module_version": "1.5.0",
            "_view_count": null,
            "_view_module_version": "1.5.0",
            "box_style": "",
            "layout": "IPY_MODEL_42eea3d07588475ba5a9d14c40dcd3ff",
            "_model_module": "@jupyter-widgets/controls",
            "children": [
              "IPY_MODEL_eb9c6cea2f6a421a8abee5e3d0c27da0",
              "IPY_MODEL_2144b5e0b0f24b55930fbef62ad5106b",
              "IPY_MODEL_ab84b9f0a66441cabac191c0f78c1953"
            ]
          }
        },
        "42eea3d07588475ba5a9d14c40dcd3ff": {
          "model_module": "@jupyter-widgets/base",
          "model_name": "LayoutModel",
          "model_module_version": "1.2.0",
          "state": {
            "_view_name": "LayoutView",
            "grid_template_rows": null,
            "right": null,
            "justify_content": null,
            "_view_module": "@jupyter-widgets/base",
            "overflow": null,
            "_model_module_version": "1.2.0",
            "_view_count": null,
            "flex_flow": null,
            "width": null,
            "min_width": null,
            "border": null,
            "align_items": null,
            "bottom": null,
            "_model_module": "@jupyter-widgets/base",
            "top": null,
            "grid_column": null,
            "overflow_y": null,
            "overflow_x": null,
            "grid_auto_flow": null,
            "grid_area": null,
            "grid_template_columns": null,
            "flex": null,
            "_model_name": "LayoutModel",
            "justify_items": null,
            "grid_row": null,
            "max_height": null,
            "align_content": null,
            "visibility": null,
            "align_self": null,
            "height": null,
            "min_height": null,
            "padding": null,
            "grid_auto_rows": null,
            "grid_gap": null,
            "max_width": null,
            "order": null,
            "_view_module_version": "1.2.0",
            "grid_template_areas": null,
            "object_position": null,
            "object_fit": null,
            "grid_auto_columns": null,
            "margin": null,
            "display": null,
            "left": null
          }
        },
        "eb9c6cea2f6a421a8abee5e3d0c27da0": {
          "model_module": "@jupyter-widgets/controls",
          "model_name": "HTMLModel",
          "model_module_version": "1.5.0",
          "state": {
            "_view_name": "HTMLView",
            "style": "IPY_MODEL_465fad655d3d4064b8f9c80412f7f9c4",
            "_dom_classes": [],
            "description": "",
            "_model_name": "HTMLModel",
            "placeholder": "​",
            "_view_module": "@jupyter-widgets/controls",
            "_model_module_version": "1.5.0",
            "value": "",
            "_view_count": null,
            "_view_module_version": "1.5.0",
            "description_tooltip": null,
            "_model_module": "@jupyter-widgets/controls",
            "layout": "IPY_MODEL_19a658eb7b934509beb96cb8bce1f13b"
          }
        },
        "2144b5e0b0f24b55930fbef62ad5106b": {
          "model_module": "@jupyter-widgets/controls",
          "model_name": "FloatProgressModel",
          "model_module_version": "1.5.0",
          "state": {
            "_view_name": "ProgressView",
            "style": "IPY_MODEL_82f6904c0c45472ca58f85276348f336",
            "_dom_classes": [],
            "description": "",
            "_model_name": "FloatProgressModel",
            "bar_style": "success",
            "max": 28881,
            "_view_module": "@jupyter-widgets/controls",
            "_model_module_version": "1.5.0",
            "value": 28881,
            "_view_count": null,
            "_view_module_version": "1.5.0",
            "orientation": "horizontal",
            "min": 0,
            "description_tooltip": null,
            "_model_module": "@jupyter-widgets/controls",
            "layout": "IPY_MODEL_e9783478c1cf4e38b2f9650e487f485f"
          }
        },
        "ab84b9f0a66441cabac191c0f78c1953": {
          "model_module": "@jupyter-widgets/controls",
          "model_name": "HTMLModel",
          "model_module_version": "1.5.0",
          "state": {
            "_view_name": "HTMLView",
            "style": "IPY_MODEL_f9b8b32e76ef4a93bbb70203c1513ffe",
            "_dom_classes": [],
            "description": "",
            "_model_name": "HTMLModel",
            "placeholder": "​",
            "_view_module": "@jupyter-widgets/controls",
            "_model_module_version": "1.5.0",
            "value": " 29696/? [00:00&lt;00:00, 357932.46it/s]",
            "_view_count": null,
            "_view_module_version": "1.5.0",
            "description_tooltip": null,
            "_model_module": "@jupyter-widgets/controls",
            "layout": "IPY_MODEL_f3cc6bed6ec64403b5c85bf856ad14eb"
          }
        },
        "465fad655d3d4064b8f9c80412f7f9c4": {
          "model_module": "@jupyter-widgets/controls",
          "model_name": "DescriptionStyleModel",
          "model_module_version": "1.5.0",
          "state": {
            "_view_name": "StyleView",
            "_model_name": "DescriptionStyleModel",
            "description_width": "",
            "_view_module": "@jupyter-widgets/base",
            "_model_module_version": "1.5.0",
            "_view_count": null,
            "_view_module_version": "1.2.0",
            "_model_module": "@jupyter-widgets/controls"
          }
        },
        "19a658eb7b934509beb96cb8bce1f13b": {
          "model_module": "@jupyter-widgets/base",
          "model_name": "LayoutModel",
          "model_module_version": "1.2.0",
          "state": {
            "_view_name": "LayoutView",
            "grid_template_rows": null,
            "right": null,
            "justify_content": null,
            "_view_module": "@jupyter-widgets/base",
            "overflow": null,
            "_model_module_version": "1.2.0",
            "_view_count": null,
            "flex_flow": null,
            "width": null,
            "min_width": null,
            "border": null,
            "align_items": null,
            "bottom": null,
            "_model_module": "@jupyter-widgets/base",
            "top": null,
            "grid_column": null,
            "overflow_y": null,
            "overflow_x": null,
            "grid_auto_flow": null,
            "grid_area": null,
            "grid_template_columns": null,
            "flex": null,
            "_model_name": "LayoutModel",
            "justify_items": null,
            "grid_row": null,
            "max_height": null,
            "align_content": null,
            "visibility": null,
            "align_self": null,
            "height": null,
            "min_height": null,
            "padding": null,
            "grid_auto_rows": null,
            "grid_gap": null,
            "max_width": null,
            "order": null,
            "_view_module_version": "1.2.0",
            "grid_template_areas": null,
            "object_position": null,
            "object_fit": null,
            "grid_auto_columns": null,
            "margin": null,
            "display": null,
            "left": null
          }
        },
        "82f6904c0c45472ca58f85276348f336": {
          "model_module": "@jupyter-widgets/controls",
          "model_name": "ProgressStyleModel",
          "model_module_version": "1.5.0",
          "state": {
            "_view_name": "StyleView",
            "_model_name": "ProgressStyleModel",
            "description_width": "",
            "_view_module": "@jupyter-widgets/base",
            "_model_module_version": "1.5.0",
            "_view_count": null,
            "_view_module_version": "1.2.0",
            "bar_color": null,
            "_model_module": "@jupyter-widgets/controls"
          }
        },
        "e9783478c1cf4e38b2f9650e487f485f": {
          "model_module": "@jupyter-widgets/base",
          "model_name": "LayoutModel",
          "model_module_version": "1.2.0",
          "state": {
            "_view_name": "LayoutView",
            "grid_template_rows": null,
            "right": null,
            "justify_content": null,
            "_view_module": "@jupyter-widgets/base",
            "overflow": null,
            "_model_module_version": "1.2.0",
            "_view_count": null,
            "flex_flow": null,
            "width": null,
            "min_width": null,
            "border": null,
            "align_items": null,
            "bottom": null,
            "_model_module": "@jupyter-widgets/base",
            "top": null,
            "grid_column": null,
            "overflow_y": null,
            "overflow_x": null,
            "grid_auto_flow": null,
            "grid_area": null,
            "grid_template_columns": null,
            "flex": null,
            "_model_name": "LayoutModel",
            "justify_items": null,
            "grid_row": null,
            "max_height": null,
            "align_content": null,
            "visibility": null,
            "align_self": null,
            "height": null,
            "min_height": null,
            "padding": null,
            "grid_auto_rows": null,
            "grid_gap": null,
            "max_width": null,
            "order": null,
            "_view_module_version": "1.2.0",
            "grid_template_areas": null,
            "object_position": null,
            "object_fit": null,
            "grid_auto_columns": null,
            "margin": null,
            "display": null,
            "left": null
          }
        },
        "f9b8b32e76ef4a93bbb70203c1513ffe": {
          "model_module": "@jupyter-widgets/controls",
          "model_name": "DescriptionStyleModel",
          "model_module_version": "1.5.0",
          "state": {
            "_view_name": "StyleView",
            "_model_name": "DescriptionStyleModel",
            "description_width": "",
            "_view_module": "@jupyter-widgets/base",
            "_model_module_version": "1.5.0",
            "_view_count": null,
            "_view_module_version": "1.2.0",
            "_model_module": "@jupyter-widgets/controls"
          }
        },
        "f3cc6bed6ec64403b5c85bf856ad14eb": {
          "model_module": "@jupyter-widgets/base",
          "model_name": "LayoutModel",
          "model_module_version": "1.2.0",
          "state": {
            "_view_name": "LayoutView",
            "grid_template_rows": null,
            "right": null,
            "justify_content": null,
            "_view_module": "@jupyter-widgets/base",
            "overflow": null,
            "_model_module_version": "1.2.0",
            "_view_count": null,
            "flex_flow": null,
            "width": null,
            "min_width": null,
            "border": null,
            "align_items": null,
            "bottom": null,
            "_model_module": "@jupyter-widgets/base",
            "top": null,
            "grid_column": null,
            "overflow_y": null,
            "overflow_x": null,
            "grid_auto_flow": null,
            "grid_area": null,
            "grid_template_columns": null,
            "flex": null,
            "_model_name": "LayoutModel",
            "justify_items": null,
            "grid_row": null,
            "max_height": null,
            "align_content": null,
            "visibility": null,
            "align_self": null,
            "height": null,
            "min_height": null,
            "padding": null,
            "grid_auto_rows": null,
            "grid_gap": null,
            "max_width": null,
            "order": null,
            "_view_module_version": "1.2.0",
            "grid_template_areas": null,
            "object_position": null,
            "object_fit": null,
            "grid_auto_columns": null,
            "margin": null,
            "display": null,
            "left": null
          }
        },
        "2eaa8024c360469eaec2ba7824510ba9": {
          "model_module": "@jupyter-widgets/controls",
          "model_name": "HBoxModel",
          "model_module_version": "1.5.0",
          "state": {
            "_view_name": "HBoxView",
            "_dom_classes": [],
            "_model_name": "HBoxModel",
            "_view_module": "@jupyter-widgets/controls",
            "_model_module_version": "1.5.0",
            "_view_count": null,
            "_view_module_version": "1.5.0",
            "box_style": "",
            "layout": "IPY_MODEL_151b7a701d7e43558f86112ed0ac8d61",
            "_model_module": "@jupyter-widgets/controls",
            "children": [
              "IPY_MODEL_cee3f9797ebc45dba8fc5e553b27f9ee",
              "IPY_MODEL_0e0b79a0980f4d07bb7a90ee3cb3e502",
              "IPY_MODEL_de0d3cc22aaf48e2badd560ea08c275b"
            ]
          }
        },
        "151b7a701d7e43558f86112ed0ac8d61": {
          "model_module": "@jupyter-widgets/base",
          "model_name": "LayoutModel",
          "model_module_version": "1.2.0",
          "state": {
            "_view_name": "LayoutView",
            "grid_template_rows": null,
            "right": null,
            "justify_content": null,
            "_view_module": "@jupyter-widgets/base",
            "overflow": null,
            "_model_module_version": "1.2.0",
            "_view_count": null,
            "flex_flow": null,
            "width": null,
            "min_width": null,
            "border": null,
            "align_items": null,
            "bottom": null,
            "_model_module": "@jupyter-widgets/base",
            "top": null,
            "grid_column": null,
            "overflow_y": null,
            "overflow_x": null,
            "grid_auto_flow": null,
            "grid_area": null,
            "grid_template_columns": null,
            "flex": null,
            "_model_name": "LayoutModel",
            "justify_items": null,
            "grid_row": null,
            "max_height": null,
            "align_content": null,
            "visibility": null,
            "align_self": null,
            "height": null,
            "min_height": null,
            "padding": null,
            "grid_auto_rows": null,
            "grid_gap": null,
            "max_width": null,
            "order": null,
            "_view_module_version": "1.2.0",
            "grid_template_areas": null,
            "object_position": null,
            "object_fit": null,
            "grid_auto_columns": null,
            "margin": null,
            "display": null,
            "left": null
          }
        },
        "cee3f9797ebc45dba8fc5e553b27f9ee": {
          "model_module": "@jupyter-widgets/controls",
          "model_name": "HTMLModel",
          "model_module_version": "1.5.0",
          "state": {
            "_view_name": "HTMLView",
            "style": "IPY_MODEL_7985234e2bdb419bbdc08a00072584ef",
            "_dom_classes": [],
            "description": "",
            "_model_name": "HTMLModel",
            "placeholder": "​",
            "_view_module": "@jupyter-widgets/controls",
            "_model_module_version": "1.5.0",
            "value": "",
            "_view_count": null,
            "_view_module_version": "1.5.0",
            "description_tooltip": null,
            "_model_module": "@jupyter-widgets/controls",
            "layout": "IPY_MODEL_d7e6fddca03849c4bcd399966261c99a"
          }
        },
        "0e0b79a0980f4d07bb7a90ee3cb3e502": {
          "model_module": "@jupyter-widgets/controls",
          "model_name": "FloatProgressModel",
          "model_module_version": "1.5.0",
          "state": {
            "_view_name": "ProgressView",
            "style": "IPY_MODEL_6a3d2ad0936545029f1103021a9c54f3",
            "_dom_classes": [],
            "description": "",
            "_model_name": "FloatProgressModel",
            "bar_style": "success",
            "max": 1648877,
            "_view_module": "@jupyter-widgets/controls",
            "_model_module_version": "1.5.0",
            "value": 1648877,
            "_view_count": null,
            "_view_module_version": "1.5.0",
            "orientation": "horizontal",
            "min": 0,
            "description_tooltip": null,
            "_model_module": "@jupyter-widgets/controls",
            "layout": "IPY_MODEL_9e21d5f3c88447b280b17b8606df69bb"
          }
        },
        "de0d3cc22aaf48e2badd560ea08c275b": {
          "model_module": "@jupyter-widgets/controls",
          "model_name": "HTMLModel",
          "model_module_version": "1.5.0",
          "state": {
            "_view_name": "HTMLView",
            "style": "IPY_MODEL_c7289d4158754a1bb2f333e4cb48fe78",
            "_dom_classes": [],
            "description": "",
            "_model_name": "HTMLModel",
            "placeholder": "​",
            "_view_module": "@jupyter-widgets/controls",
            "_model_module_version": "1.5.0",
            "value": " 1649664/? [00:00&lt;00:00, 1680127.43it/s]",
            "_view_count": null,
            "_view_module_version": "1.5.0",
            "description_tooltip": null,
            "_model_module": "@jupyter-widgets/controls",
            "layout": "IPY_MODEL_0059c34d18c2488e8996ed0012e751cf"
          }
        },
        "7985234e2bdb419bbdc08a00072584ef": {
          "model_module": "@jupyter-widgets/controls",
          "model_name": "DescriptionStyleModel",
          "model_module_version": "1.5.0",
          "state": {
            "_view_name": "StyleView",
            "_model_name": "DescriptionStyleModel",
            "description_width": "",
            "_view_module": "@jupyter-widgets/base",
            "_model_module_version": "1.5.0",
            "_view_count": null,
            "_view_module_version": "1.2.0",
            "_model_module": "@jupyter-widgets/controls"
          }
        },
        "d7e6fddca03849c4bcd399966261c99a": {
          "model_module": "@jupyter-widgets/base",
          "model_name": "LayoutModel",
          "model_module_version": "1.2.0",
          "state": {
            "_view_name": "LayoutView",
            "grid_template_rows": null,
            "right": null,
            "justify_content": null,
            "_view_module": "@jupyter-widgets/base",
            "overflow": null,
            "_model_module_version": "1.2.0",
            "_view_count": null,
            "flex_flow": null,
            "width": null,
            "min_width": null,
            "border": null,
            "align_items": null,
            "bottom": null,
            "_model_module": "@jupyter-widgets/base",
            "top": null,
            "grid_column": null,
            "overflow_y": null,
            "overflow_x": null,
            "grid_auto_flow": null,
            "grid_area": null,
            "grid_template_columns": null,
            "flex": null,
            "_model_name": "LayoutModel",
            "justify_items": null,
            "grid_row": null,
            "max_height": null,
            "align_content": null,
            "visibility": null,
            "align_self": null,
            "height": null,
            "min_height": null,
            "padding": null,
            "grid_auto_rows": null,
            "grid_gap": null,
            "max_width": null,
            "order": null,
            "_view_module_version": "1.2.0",
            "grid_template_areas": null,
            "object_position": null,
            "object_fit": null,
            "grid_auto_columns": null,
            "margin": null,
            "display": null,
            "left": null
          }
        },
        "6a3d2ad0936545029f1103021a9c54f3": {
          "model_module": "@jupyter-widgets/controls",
          "model_name": "ProgressStyleModel",
          "model_module_version": "1.5.0",
          "state": {
            "_view_name": "StyleView",
            "_model_name": "ProgressStyleModel",
            "description_width": "",
            "_view_module": "@jupyter-widgets/base",
            "_model_module_version": "1.5.0",
            "_view_count": null,
            "_view_module_version": "1.2.0",
            "bar_color": null,
            "_model_module": "@jupyter-widgets/controls"
          }
        },
        "9e21d5f3c88447b280b17b8606df69bb": {
          "model_module": "@jupyter-widgets/base",
          "model_name": "LayoutModel",
          "model_module_version": "1.2.0",
          "state": {
            "_view_name": "LayoutView",
            "grid_template_rows": null,
            "right": null,
            "justify_content": null,
            "_view_module": "@jupyter-widgets/base",
            "overflow": null,
            "_model_module_version": "1.2.0",
            "_view_count": null,
            "flex_flow": null,
            "width": null,
            "min_width": null,
            "border": null,
            "align_items": null,
            "bottom": null,
            "_model_module": "@jupyter-widgets/base",
            "top": null,
            "grid_column": null,
            "overflow_y": null,
            "overflow_x": null,
            "grid_auto_flow": null,
            "grid_area": null,
            "grid_template_columns": null,
            "flex": null,
            "_model_name": "LayoutModel",
            "justify_items": null,
            "grid_row": null,
            "max_height": null,
            "align_content": null,
            "visibility": null,
            "align_self": null,
            "height": null,
            "min_height": null,
            "padding": null,
            "grid_auto_rows": null,
            "grid_gap": null,
            "max_width": null,
            "order": null,
            "_view_module_version": "1.2.0",
            "grid_template_areas": null,
            "object_position": null,
            "object_fit": null,
            "grid_auto_columns": null,
            "margin": null,
            "display": null,
            "left": null
          }
        },
        "c7289d4158754a1bb2f333e4cb48fe78": {
          "model_module": "@jupyter-widgets/controls",
          "model_name": "DescriptionStyleModel",
          "model_module_version": "1.5.0",
          "state": {
            "_view_name": "StyleView",
            "_model_name": "DescriptionStyleModel",
            "description_width": "",
            "_view_module": "@jupyter-widgets/base",
            "_model_module_version": "1.5.0",
            "_view_count": null,
            "_view_module_version": "1.2.0",
            "_model_module": "@jupyter-widgets/controls"
          }
        },
        "0059c34d18c2488e8996ed0012e751cf": {
          "model_module": "@jupyter-widgets/base",
          "model_name": "LayoutModel",
          "model_module_version": "1.2.0",
          "state": {
            "_view_name": "LayoutView",
            "grid_template_rows": null,
            "right": null,
            "justify_content": null,
            "_view_module": "@jupyter-widgets/base",
            "overflow": null,
            "_model_module_version": "1.2.0",
            "_view_count": null,
            "flex_flow": null,
            "width": null,
            "min_width": null,
            "border": null,
            "align_items": null,
            "bottom": null,
            "_model_module": "@jupyter-widgets/base",
            "top": null,
            "grid_column": null,
            "overflow_y": null,
            "overflow_x": null,
            "grid_auto_flow": null,
            "grid_area": null,
            "grid_template_columns": null,
            "flex": null,
            "_model_name": "LayoutModel",
            "justify_items": null,
            "grid_row": null,
            "max_height": null,
            "align_content": null,
            "visibility": null,
            "align_self": null,
            "height": null,
            "min_height": null,
            "padding": null,
            "grid_auto_rows": null,
            "grid_gap": null,
            "max_width": null,
            "order": null,
            "_view_module_version": "1.2.0",
            "grid_template_areas": null,
            "object_position": null,
            "object_fit": null,
            "grid_auto_columns": null,
            "margin": null,
            "display": null,
            "left": null
          }
        },
        "2cb999c941ea4f50ba1d600a4687100c": {
          "model_module": "@jupyter-widgets/controls",
          "model_name": "HBoxModel",
          "model_module_version": "1.5.0",
          "state": {
            "_view_name": "HBoxView",
            "_dom_classes": [],
            "_model_name": "HBoxModel",
            "_view_module": "@jupyter-widgets/controls",
            "_model_module_version": "1.5.0",
            "_view_count": null,
            "_view_module_version": "1.5.0",
            "box_style": "",
            "layout": "IPY_MODEL_7320cd629be74145a93d97e23f104e6e",
            "_model_module": "@jupyter-widgets/controls",
            "children": [
              "IPY_MODEL_7ab33b1a00ba480aa974264c61876c24",
              "IPY_MODEL_8baeff60b148418ab201a6af0628668b",
              "IPY_MODEL_24ac3c594e2442febf37462e2589589b"
            ]
          }
        },
        "7320cd629be74145a93d97e23f104e6e": {
          "model_module": "@jupyter-widgets/base",
          "model_name": "LayoutModel",
          "model_module_version": "1.2.0",
          "state": {
            "_view_name": "LayoutView",
            "grid_template_rows": null,
            "right": null,
            "justify_content": null,
            "_view_module": "@jupyter-widgets/base",
            "overflow": null,
            "_model_module_version": "1.2.0",
            "_view_count": null,
            "flex_flow": null,
            "width": null,
            "min_width": null,
            "border": null,
            "align_items": null,
            "bottom": null,
            "_model_module": "@jupyter-widgets/base",
            "top": null,
            "grid_column": null,
            "overflow_y": null,
            "overflow_x": null,
            "grid_auto_flow": null,
            "grid_area": null,
            "grid_template_columns": null,
            "flex": null,
            "_model_name": "LayoutModel",
            "justify_items": null,
            "grid_row": null,
            "max_height": null,
            "align_content": null,
            "visibility": null,
            "align_self": null,
            "height": null,
            "min_height": null,
            "padding": null,
            "grid_auto_rows": null,
            "grid_gap": null,
            "max_width": null,
            "order": null,
            "_view_module_version": "1.2.0",
            "grid_template_areas": null,
            "object_position": null,
            "object_fit": null,
            "grid_auto_columns": null,
            "margin": null,
            "display": null,
            "left": null
          }
        },
        "7ab33b1a00ba480aa974264c61876c24": {
          "model_module": "@jupyter-widgets/controls",
          "model_name": "HTMLModel",
          "model_module_version": "1.5.0",
          "state": {
            "_view_name": "HTMLView",
            "style": "IPY_MODEL_f0f4fa789afd49c194aa9f07f88e4af1",
            "_dom_classes": [],
            "description": "",
            "_model_name": "HTMLModel",
            "placeholder": "​",
            "_view_module": "@jupyter-widgets/controls",
            "_model_module_version": "1.5.0",
            "value": "",
            "_view_count": null,
            "_view_module_version": "1.5.0",
            "description_tooltip": null,
            "_model_module": "@jupyter-widgets/controls",
            "layout": "IPY_MODEL_96037d9af800472ca1e02c3d222b211d"
          }
        },
        "8baeff60b148418ab201a6af0628668b": {
          "model_module": "@jupyter-widgets/controls",
          "model_name": "FloatProgressModel",
          "model_module_version": "1.5.0",
          "state": {
            "_view_name": "ProgressView",
            "style": "IPY_MODEL_72478c0096a644f09efd3e9b74bec64e",
            "_dom_classes": [],
            "description": "",
            "_model_name": "FloatProgressModel",
            "bar_style": "success",
            "max": 4542,
            "_view_module": "@jupyter-widgets/controls",
            "_model_module_version": "1.5.0",
            "value": 4542,
            "_view_count": null,
            "_view_module_version": "1.5.0",
            "orientation": "horizontal",
            "min": 0,
            "description_tooltip": null,
            "_model_module": "@jupyter-widgets/controls",
            "layout": "IPY_MODEL_1d9cff86c7a1452e93583040e0d7106f"
          }
        },
        "24ac3c594e2442febf37462e2589589b": {
          "model_module": "@jupyter-widgets/controls",
          "model_name": "HTMLModel",
          "model_module_version": "1.5.0",
          "state": {
            "_view_name": "HTMLView",
            "style": "IPY_MODEL_4e2bf8b945674f6da751cc7540fa33d1",
            "_dom_classes": [],
            "description": "",
            "_model_name": "HTMLModel",
            "placeholder": "​",
            "_view_module": "@jupyter-widgets/controls",
            "_model_module_version": "1.5.0",
            "value": " 5120/? [00:00&lt;00:00, 142614.14it/s]",
            "_view_count": null,
            "_view_module_version": "1.5.0",
            "description_tooltip": null,
            "_model_module": "@jupyter-widgets/controls",
            "layout": "IPY_MODEL_e528f6fea513409db88154d4ef9b999b"
          }
        },
        "f0f4fa789afd49c194aa9f07f88e4af1": {
          "model_module": "@jupyter-widgets/controls",
          "model_name": "DescriptionStyleModel",
          "model_module_version": "1.5.0",
          "state": {
            "_view_name": "StyleView",
            "_model_name": "DescriptionStyleModel",
            "description_width": "",
            "_view_module": "@jupyter-widgets/base",
            "_model_module_version": "1.5.0",
            "_view_count": null,
            "_view_module_version": "1.2.0",
            "_model_module": "@jupyter-widgets/controls"
          }
        },
        "96037d9af800472ca1e02c3d222b211d": {
          "model_module": "@jupyter-widgets/base",
          "model_name": "LayoutModel",
          "model_module_version": "1.2.0",
          "state": {
            "_view_name": "LayoutView",
            "grid_template_rows": null,
            "right": null,
            "justify_content": null,
            "_view_module": "@jupyter-widgets/base",
            "overflow": null,
            "_model_module_version": "1.2.0",
            "_view_count": null,
            "flex_flow": null,
            "width": null,
            "min_width": null,
            "border": null,
            "align_items": null,
            "bottom": null,
            "_model_module": "@jupyter-widgets/base",
            "top": null,
            "grid_column": null,
            "overflow_y": null,
            "overflow_x": null,
            "grid_auto_flow": null,
            "grid_area": null,
            "grid_template_columns": null,
            "flex": null,
            "_model_name": "LayoutModel",
            "justify_items": null,
            "grid_row": null,
            "max_height": null,
            "align_content": null,
            "visibility": null,
            "align_self": null,
            "height": null,
            "min_height": null,
            "padding": null,
            "grid_auto_rows": null,
            "grid_gap": null,
            "max_width": null,
            "order": null,
            "_view_module_version": "1.2.0",
            "grid_template_areas": null,
            "object_position": null,
            "object_fit": null,
            "grid_auto_columns": null,
            "margin": null,
            "display": null,
            "left": null
          }
        },
        "72478c0096a644f09efd3e9b74bec64e": {
          "model_module": "@jupyter-widgets/controls",
          "model_name": "ProgressStyleModel",
          "model_module_version": "1.5.0",
          "state": {
            "_view_name": "StyleView",
            "_model_name": "ProgressStyleModel",
            "description_width": "",
            "_view_module": "@jupyter-widgets/base",
            "_model_module_version": "1.5.0",
            "_view_count": null,
            "_view_module_version": "1.2.0",
            "bar_color": null,
            "_model_module": "@jupyter-widgets/controls"
          }
        },
        "1d9cff86c7a1452e93583040e0d7106f": {
          "model_module": "@jupyter-widgets/base",
          "model_name": "LayoutModel",
          "model_module_version": "1.2.0",
          "state": {
            "_view_name": "LayoutView",
            "grid_template_rows": null,
            "right": null,
            "justify_content": null,
            "_view_module": "@jupyter-widgets/base",
            "overflow": null,
            "_model_module_version": "1.2.0",
            "_view_count": null,
            "flex_flow": null,
            "width": null,
            "min_width": null,
            "border": null,
            "align_items": null,
            "bottom": null,
            "_model_module": "@jupyter-widgets/base",
            "top": null,
            "grid_column": null,
            "overflow_y": null,
            "overflow_x": null,
            "grid_auto_flow": null,
            "grid_area": null,
            "grid_template_columns": null,
            "flex": null,
            "_model_name": "LayoutModel",
            "justify_items": null,
            "grid_row": null,
            "max_height": null,
            "align_content": null,
            "visibility": null,
            "align_self": null,
            "height": null,
            "min_height": null,
            "padding": null,
            "grid_auto_rows": null,
            "grid_gap": null,
            "max_width": null,
            "order": null,
            "_view_module_version": "1.2.0",
            "grid_template_areas": null,
            "object_position": null,
            "object_fit": null,
            "grid_auto_columns": null,
            "margin": null,
            "display": null,
            "left": null
          }
        },
        "4e2bf8b945674f6da751cc7540fa33d1": {
          "model_module": "@jupyter-widgets/controls",
          "model_name": "DescriptionStyleModel",
          "model_module_version": "1.5.0",
          "state": {
            "_view_name": "StyleView",
            "_model_name": "DescriptionStyleModel",
            "description_width": "",
            "_view_module": "@jupyter-widgets/base",
            "_model_module_version": "1.5.0",
            "_view_count": null,
            "_view_module_version": "1.2.0",
            "_model_module": "@jupyter-widgets/controls"
          }
        },
        "e528f6fea513409db88154d4ef9b999b": {
          "model_module": "@jupyter-widgets/base",
          "model_name": "LayoutModel",
          "model_module_version": "1.2.0",
          "state": {
            "_view_name": "LayoutView",
            "grid_template_rows": null,
            "right": null,
            "justify_content": null,
            "_view_module": "@jupyter-widgets/base",
            "overflow": null,
            "_model_module_version": "1.2.0",
            "_view_count": null,
            "flex_flow": null,
            "width": null,
            "min_width": null,
            "border": null,
            "align_items": null,
            "bottom": null,
            "_model_module": "@jupyter-widgets/base",
            "top": null,
            "grid_column": null,
            "overflow_y": null,
            "overflow_x": null,
            "grid_auto_flow": null,
            "grid_area": null,
            "grid_template_columns": null,
            "flex": null,
            "_model_name": "LayoutModel",
            "justify_items": null,
            "grid_row": null,
            "max_height": null,
            "align_content": null,
            "visibility": null,
            "align_self": null,
            "height": null,
            "min_height": null,
            "padding": null,
            "grid_auto_rows": null,
            "grid_gap": null,
            "max_width": null,
            "order": null,
            "_view_module_version": "1.2.0",
            "grid_template_areas": null,
            "object_position": null,
            "object_fit": null,
            "grid_auto_columns": null,
            "margin": null,
            "display": null,
            "left": null
          }
        }
      }
    }
  },
  "cells": [
    {
      "cell_type": "markdown",
      "metadata": {
        "id": "view-in-github",
        "colab_type": "text"
      },
      "source": [
        "<a href=\"https://colab.research.google.com/github/Mahantesh-Pattadkal-1993/CounterFactuals_GANs/blob/main/MNIST_Classifier.ipynb\" target=\"_parent\"><img src=\"https://colab.research.google.com/assets/colab-badge.svg\" alt=\"Open In Colab\"/></a>"
      ]
    },
    {
      "cell_type": "markdown",
      "metadata": {
        "id": "XQkpL_051_Hn"
      },
      "source": [
        "Aim : The intention of this notebook is to create the MNIST Classifer which uses CNN to classify the images into specific digits. This classifer will be used to explain the counterfactuals images of the instances"
      ]
    },
    {
      "cell_type": "code",
      "metadata": {
        "id": "sdHfo0lu18aK"
      },
      "source": [
        "#Import the libraries \n",
        "import torch\n",
        "import torch.optim as opt\n",
        "import torch.nn as nn\n",
        "import torch.nn.functional as F\n",
        "import torchvision\n",
        "import torchvision.transforms as transforms\n",
        "\n",
        "import random\n",
        "import numpy as np\n",
        "import matplotlib.pyplot as plt\n",
        "%matplotlib inline\n"
      ],
      "execution_count": 1,
      "outputs": []
    },
    {
      "cell_type": "code",
      "metadata": {
        "id": "xY_1pJJVo2R0",
        "colab": {
          "base_uri": "https://localhost:8080/",
          "height": 635,
          "referenced_widgets": [
            "c1731dda5c434e179e87e790debfdd45",
            "c5e3e19251fa4f8fb0686d40db642c1c",
            "12e871d9c0004621ba6b8e8eb2d094c7",
            "def664d8422d41c39aac53cd8d5bec5a",
            "46dc0a299e1a4ea781af1356b0692b43",
            "11508a3e43774632bb351a8645209ef4",
            "efbe6910015249eabaa224bec5ad1405",
            "966378ce1b7649809361bf178aa08e82",
            "f3a97a627a294fb986b424fb123bfeaf",
            "08167b8ee8d845e7a515a65b2716268c",
            "f5655865a3ab40b69230d16304b60fd1",
            "3f7ec2503f3442398e5e9ce1e1807c78",
            "42eea3d07588475ba5a9d14c40dcd3ff",
            "eb9c6cea2f6a421a8abee5e3d0c27da0",
            "2144b5e0b0f24b55930fbef62ad5106b",
            "ab84b9f0a66441cabac191c0f78c1953",
            "465fad655d3d4064b8f9c80412f7f9c4",
            "19a658eb7b934509beb96cb8bce1f13b",
            "82f6904c0c45472ca58f85276348f336",
            "e9783478c1cf4e38b2f9650e487f485f",
            "f9b8b32e76ef4a93bbb70203c1513ffe",
            "f3cc6bed6ec64403b5c85bf856ad14eb",
            "2eaa8024c360469eaec2ba7824510ba9",
            "151b7a701d7e43558f86112ed0ac8d61",
            "cee3f9797ebc45dba8fc5e553b27f9ee",
            "0e0b79a0980f4d07bb7a90ee3cb3e502",
            "de0d3cc22aaf48e2badd560ea08c275b",
            "7985234e2bdb419bbdc08a00072584ef",
            "d7e6fddca03849c4bcd399966261c99a",
            "6a3d2ad0936545029f1103021a9c54f3",
            "9e21d5f3c88447b280b17b8606df69bb",
            "c7289d4158754a1bb2f333e4cb48fe78",
            "0059c34d18c2488e8996ed0012e751cf",
            "2cb999c941ea4f50ba1d600a4687100c",
            "7320cd629be74145a93d97e23f104e6e",
            "7ab33b1a00ba480aa974264c61876c24",
            "8baeff60b148418ab201a6af0628668b",
            "24ac3c594e2442febf37462e2589589b",
            "f0f4fa789afd49c194aa9f07f88e4af1",
            "96037d9af800472ca1e02c3d222b211d",
            "72478c0096a644f09efd3e9b74bec64e",
            "1d9cff86c7a1452e93583040e0d7106f",
            "4e2bf8b945674f6da751cc7540fa33d1",
            "e528f6fea513409db88154d4ef9b999b"
          ]
        },
        "outputId": "aec0b4ee-a2d0-41fd-f2f0-543d0007748f"
      },
      "source": [
        "mb_size = 64\n",
        "\n",
        "transform = transforms.Compose(\n",
        "\t\t[transforms.ToTensor(),\n",
        "\t\t transforms.Normalize((0.5,), (0.5,))])\n",
        "\n",
        "trainData = torchvision.datasets.MNIST('./data/', download=True, transform=transform, train=True)\n",
        "\n",
        "trainLoader = torch.utils.data.DataLoader(trainData, shuffle=True, batch_size=mb_size)\n",
        "\n",
        "\n"
      ],
      "execution_count": 2,
      "outputs": [
        {
          "output_type": "stream",
          "text": [
            "Downloading http://yann.lecun.com/exdb/mnist/train-images-idx3-ubyte.gz\n",
            "Downloading http://yann.lecun.com/exdb/mnist/train-images-idx3-ubyte.gz to ./data/MNIST/raw/train-images-idx3-ubyte.gz\n",
            "Failed to download (trying next):\n",
            "HTTP Error 503: Service Unavailable\n",
            "\n",
            "Downloading https://ossci-datasets.s3.amazonaws.com/mnist/train-images-idx3-ubyte.gz\n",
            "Downloading https://ossci-datasets.s3.amazonaws.com/mnist/train-images-idx3-ubyte.gz to ./data/MNIST/raw/train-images-idx3-ubyte.gz\n"
          ],
          "name": "stdout"
        },
        {
          "output_type": "display_data",
          "data": {
            "application/vnd.jupyter.widget-view+json": {
              "model_id": "c1731dda5c434e179e87e790debfdd45",
              "version_minor": 0,
              "version_major": 2
            },
            "text/plain": [
              "  0%|          | 0/9912422 [00:00<?, ?it/s]"
            ]
          },
          "metadata": {}
        },
        {
          "output_type": "stream",
          "text": [
            "Extracting ./data/MNIST/raw/train-images-idx3-ubyte.gz to ./data/MNIST/raw\n",
            "\n",
            "Downloading http://yann.lecun.com/exdb/mnist/train-labels-idx1-ubyte.gz\n",
            "Downloading http://yann.lecun.com/exdb/mnist/train-labels-idx1-ubyte.gz to ./data/MNIST/raw/train-labels-idx1-ubyte.gz\n"
          ],
          "name": "stdout"
        },
        {
          "output_type": "display_data",
          "data": {
            "application/vnd.jupyter.widget-view+json": {
              "model_id": "3f7ec2503f3442398e5e9ce1e1807c78",
              "version_minor": 0,
              "version_major": 2
            },
            "text/plain": [
              "  0%|          | 0/28881 [00:00<?, ?it/s]"
            ]
          },
          "metadata": {}
        },
        {
          "output_type": "stream",
          "text": [
            "Extracting ./data/MNIST/raw/train-labels-idx1-ubyte.gz to ./data/MNIST/raw\n",
            "\n",
            "Downloading http://yann.lecun.com/exdb/mnist/t10k-images-idx3-ubyte.gz\n",
            "Downloading http://yann.lecun.com/exdb/mnist/t10k-images-idx3-ubyte.gz to ./data/MNIST/raw/t10k-images-idx3-ubyte.gz\n",
            "Failed to download (trying next):\n",
            "HTTP Error 503: Service Unavailable\n",
            "\n",
            "Downloading https://ossci-datasets.s3.amazonaws.com/mnist/t10k-images-idx3-ubyte.gz\n",
            "Downloading https://ossci-datasets.s3.amazonaws.com/mnist/t10k-images-idx3-ubyte.gz to ./data/MNIST/raw/t10k-images-idx3-ubyte.gz\n"
          ],
          "name": "stdout"
        },
        {
          "output_type": "display_data",
          "data": {
            "application/vnd.jupyter.widget-view+json": {
              "model_id": "2eaa8024c360469eaec2ba7824510ba9",
              "version_minor": 0,
              "version_major": 2
            },
            "text/plain": [
              "  0%|          | 0/1648877 [00:00<?, ?it/s]"
            ]
          },
          "metadata": {}
        },
        {
          "output_type": "stream",
          "text": [
            "Extracting ./data/MNIST/raw/t10k-images-idx3-ubyte.gz to ./data/MNIST/raw\n",
            "\n",
            "Downloading http://yann.lecun.com/exdb/mnist/t10k-labels-idx1-ubyte.gz\n",
            "Downloading http://yann.lecun.com/exdb/mnist/t10k-labels-idx1-ubyte.gz to ./data/MNIST/raw/t10k-labels-idx1-ubyte.gz\n"
          ],
          "name": "stdout"
        },
        {
          "output_type": "display_data",
          "data": {
            "application/vnd.jupyter.widget-view+json": {
              "model_id": "2cb999c941ea4f50ba1d600a4687100c",
              "version_minor": 0,
              "version_major": 2
            },
            "text/plain": [
              "  0%|          | 0/4542 [00:00<?, ?it/s]"
            ]
          },
          "metadata": {}
        },
        {
          "output_type": "stream",
          "text": [
            "Extracting ./data/MNIST/raw/t10k-labels-idx1-ubyte.gz to ./data/MNIST/raw\n",
            "\n"
          ],
          "name": "stdout"
        },
        {
          "output_type": "stream",
          "text": [
            "/usr/local/lib/python3.7/dist-packages/torchvision/datasets/mnist.py:498: UserWarning: The given NumPy array is not writeable, and PyTorch does not support non-writeable tensors. This means you can write to the underlying (supposedly non-writeable) NumPy array using the tensor. You may want to copy the array to protect its data or make it writeable before converting it to a tensor. This type of warning will be suppressed for the rest of this program. (Triggered internally at  /pytorch/torch/csrc/utils/tensor_numpy.cpp:180.)\n",
            "  return torch.from_numpy(parsed.astype(m[2], copy=False)).view(*s)\n"
          ],
          "name": "stderr"
        }
      ]
    },
    {
      "cell_type": "code",
      "metadata": {
        "id": "QMR2AnKcBjZB"
      },
      "source": [
        "testData = torchvision.datasets.MNIST('./data/', download=True, transform=transform, train=False)\n",
        "\n",
        "testLoader = torch.utils.data.DataLoader(testData, shuffle=True, batch_size=mb_size)"
      ],
      "execution_count": 3,
      "outputs": []
    },
    {
      "cell_type": "code",
      "metadata": {
        "id": "g7Q8ubfPjTk5"
      },
      "source": [
        "class Net(nn.Module):\n",
        "    def __init__(self):\n",
        "        super(Net, self).__init__()\n",
        "        self.conv1 = nn.Conv2d(1, 32, 3, 1)\n",
        "        self.conv2 = nn.Conv2d(32, 64, 3, 1)\n",
        "        self.dropout1 = nn.Dropout(0.25)\n",
        "        self.dropout2 = nn.Dropout(0.5)\n",
        "        self.fc1 = nn.Linear(9216, 128)\n",
        "        self.fc2 = nn.Linear(128, 10)\n",
        "\n",
        "    def forward(self, x):\n",
        "        x = self.conv1(x)\n",
        "        x = F.relu(x)\n",
        "        x = self.conv2(x)\n",
        "        x = F.relu(x)\n",
        "        x = F.max_pool2d(x, 2)\n",
        "        x = self.dropout1(x)\n",
        "        x = torch.flatten(x, 1)\n",
        "        x = self.fc1(x)\n",
        "        x = F.relu(x)\n",
        "        x = self.dropout2(x)\n",
        "        x = self.fc2(x)\n",
        "        output = F.softmax(x, dim=1)\n",
        "        return output\n"
      ],
      "execution_count": 3,
      "outputs": []
    },
    {
      "cell_type": "code",
      "metadata": {
        "id": "T1vXPSUnCFQ0"
      },
      "source": [
        "class Net_logits(nn.Module):\n",
        "    def __init__(self):\n",
        "        super(Net_logits, self).__init__()\n",
        "        self.conv1 = nn.Conv2d(1, 32, 3, 1)\n",
        "        self.conv2 = nn.Conv2d(32, 64, 3, 1)\n",
        "        self.dropout1 = nn.Dropout(0.25)\n",
        "        self.dropout2 = nn.Dropout(0.5)\n",
        "        self.fc1 = nn.Linear(9216, 128)\n",
        "        self.fc2 = nn.Linear(128, 10)\n",
        "\n",
        "    def forward(self, x):\n",
        "        x = self.conv1(x)\n",
        "        x = F.relu(x)\n",
        "        x = self.conv2(x)\n",
        "        x = F.relu(x)\n",
        "        x = F.max_pool2d(x, 2)\n",
        "        x = self.dropout1(x)\n",
        "        x = torch.flatten(x, 1)\n",
        "        x = self.fc1(x)\n",
        "        x = F.relu(x)\n",
        "        x = self.dropout2(x)\n",
        "        x = self.fc2(x)\n",
        "        output = F.softmax(x, dim=1)\n",
        "        \n",
        "        return output , x"
      ],
      "execution_count": 19,
      "outputs": []
    },
    {
      "cell_type": "code",
      "metadata": {
        "colab": {
          "base_uri": "https://localhost:8080/"
        },
        "id": "8RjQDnLEsZ69",
        "outputId": "2dd2116e-7b52-4f4d-eade-07773851a104"
      },
      "source": [
        "from torchsummary import summary\n",
        "\n",
        "device = torch.device(\"cuda\" if torch.cuda.is_available() else \"cpu\") # PyTorch v0.4.0\n",
        "#model = Generator(nc=1,nz=100,ngf=28).to(device)\n",
        "#input for Generator = (bs,100,1,1)\n",
        "\n",
        "model = Net_logits().to(device)\n",
        "summary(model, (1,28,28))"
      ],
      "execution_count": 20,
      "outputs": [
        {
          "output_type": "stream",
          "text": [
            "----------------------------------------------------------------\n",
            "        Layer (type)               Output Shape         Param #\n",
            "================================================================\n",
            "            Conv2d-1           [-1, 32, 26, 26]             320\n",
            "            Conv2d-2           [-1, 64, 24, 24]          18,496\n",
            "           Dropout-3           [-1, 64, 12, 12]               0\n",
            "            Linear-4                  [-1, 128]       1,179,776\n",
            "           Dropout-5                  [-1, 128]               0\n",
            "            Linear-6                   [-1, 10]           1,290\n",
            "================================================================\n",
            "Total params: 1,199,882\n",
            "Trainable params: 1,199,882\n",
            "Non-trainable params: 0\n",
            "----------------------------------------------------------------\n",
            "Input size (MB): 0.00\n",
            "Forward/backward pass size (MB): 0.52\n",
            "Params size (MB): 4.58\n",
            "Estimated Total Size (MB): 5.10\n",
            "----------------------------------------------------------------\n"
          ],
          "name": "stdout"
        }
      ]
    },
    {
      "cell_type": "code",
      "metadata": {
        "colab": {
          "base_uri": "https://localhost:8080/"
        },
        "id": "9JeIO9w5qX5-",
        "outputId": "e82e61e9-afc7-469d-997e-165f83e2d73e"
      },
      "source": [
        "\n",
        "criterion = nn.CrossEntropyLoss()\n",
        "\n",
        "images, labels = next(iter(trainLoader))\n",
        "images, labels = images.cuda(), labels.cuda() # add this line\n",
        "print(images.shape)\n",
        "\n",
        "model = Net_logits().to(device)\n",
        "\n",
        "softmax, logits = model(images) #log probabilities\n",
        "loss = criterion(softmax, labels) #calculate the NLL loss\n",
        "print(loss)"
      ],
      "execution_count": 21,
      "outputs": [
        {
          "output_type": "stream",
          "text": [
            "torch.Size([64, 1, 28, 28])\n",
            "tensor(2.3011, device='cuda:0', grad_fn=<NllLossBackward>)\n"
          ],
          "name": "stdout"
        }
      ]
    },
    {
      "cell_type": "code",
      "metadata": {
        "colab": {
          "base_uri": "https://localhost:8080/"
        },
        "id": "JG7C0Y6uqpjR",
        "outputId": "ae2ed437-d5db-4eb8-87db-32e8d40a1121"
      },
      "source": [
        "optimizer = opt.SGD(model.parameters(), lr=0.003, momentum=0.9)\n",
        "model.train()\n",
        "\n",
        "epochs = 25\n",
        "for e in range(epochs):\n",
        "    running_loss = 0\n",
        "    for images, labels in trainLoader:\n",
        "        images, labels = images.cuda(), labels.cuda() # add this line\n",
        "\n",
        "        # Flatten MNIST images into a 784 long vector\n",
        "        #images = images.view(images.shape[0], -1)\n",
        "    \n",
        "        # Training pass\n",
        "        optimizer.zero_grad()\n",
        "        \n",
        "        output, logits = model(images)\n",
        "        loss = criterion(logits, labels)\n",
        "        \n",
        "        #This is where the model learns by backpropagating\n",
        "        loss.backward()\n",
        "        \n",
        "        #And optimizes its weights here\n",
        "        optimizer.step()\n",
        "        \n",
        "        running_loss += loss.item()\n",
        "    else:\n",
        "        print(\"Epoch {} - Training loss: {}\".format(e, running_loss/len(trainLoader)))\n"
      ],
      "execution_count": 23,
      "outputs": [
        {
          "output_type": "stream",
          "text": [
            "Epoch 0 - Training loss: 0.1289606428236516\n",
            "Epoch 1 - Training loss: 0.09363741369899124\n",
            "Epoch 2 - Training loss: 0.08054533977109168\n",
            "Epoch 3 - Training loss: 0.07275224948969128\n",
            "Epoch 4 - Training loss: 0.06589480808654082\n",
            "Epoch 5 - Training loss: 0.05854395793444082\n",
            "Epoch 6 - Training loss: 0.05221783510793541\n",
            "Epoch 7 - Training loss: 0.05128319307452819\n",
            "Epoch 8 - Training loss: 0.0460883591449194\n",
            "Epoch 9 - Training loss: 0.04401897547281544\n",
            "Epoch 10 - Training loss: 0.041673411275503405\n",
            "Epoch 11 - Training loss: 0.0401965947759371\n",
            "Epoch 12 - Training loss: 0.038607924055037046\n",
            "Epoch 13 - Training loss: 0.03341246478035917\n",
            "Epoch 14 - Training loss: 0.033763119564287424\n",
            "Epoch 15 - Training loss: 0.03262542902657301\n",
            "Epoch 16 - Training loss: 0.03047589677405099\n",
            "Epoch 17 - Training loss: 0.029658424090653626\n",
            "Epoch 18 - Training loss: 0.02791286877992286\n",
            "Epoch 19 - Training loss: 0.027999489589955216\n",
            "Epoch 20 - Training loss: 0.02556001979953155\n",
            "Epoch 21 - Training loss: 0.025731891606044995\n",
            "Epoch 22 - Training loss: 0.024767556797471276\n",
            "Epoch 23 - Training loss: 0.02291638698396104\n",
            "Epoch 24 - Training loss: 0.023582383013680513\n"
          ],
          "name": "stdout"
        }
      ]
    },
    {
      "cell_type": "code",
      "metadata": {
        "colab": {
          "base_uri": "https://localhost:8080/"
        },
        "id": "4pN3u-l692DI",
        "outputId": "24f4d7ac-ec28-47d3-eca0-6b3ffcd6d52e"
      },
      "source": [
        "model.eval()\n",
        "\n",
        "\n",
        "for images, labels in testLoader:\n",
        "    images, labels = images.cuda(), labels.cuda() # add this line\n",
        "\n",
        "    # Flatten MNIST images into a 784 long vector\n",
        "    #images = images.view(images.shape[0], -1)\n",
        "\n",
        "    # Training pass\n",
        "    #optimizer.zero_grad()\n",
        "    \n",
        "    output, logits = model(images)\n",
        "    loss = criterion(logits, labels)\n",
        "    \n",
        "    #This is where the model learns by backpropagating\n",
        "    #loss.backward()\n",
        "    \n",
        "    #And optimizes its weights here\n",
        "    #optimizer.step()\n",
        "    \n",
        "    \n",
        "    print(\"Test loss: {}\".format( loss/len(testLoader)))\n",
        "\n",
        "    \n"
      ],
      "execution_count": 25,
      "outputs": [
        {
          "output_type": "stream",
          "text": [
            "Test loss: 0.0002618887519929558\n",
            "Test loss: 2.0959527319064364e-05\n",
            "Test loss: 1.0653126992110629e-05\n",
            "Test loss: 0.0002865306450985372\n",
            "Test loss: 4.629607246897649e-06\n",
            "Test loss: 5.717557723983191e-05\n",
            "Test loss: 0.0005927718011662364\n",
            "Test loss: 0.00012817887181881815\n",
            "Test loss: 0.0005612976965494454\n",
            "Test loss: 2.685259642021265e-05\n",
            "Test loss: 1.8271188309881836e-05\n",
            "Test loss: 0.00023353256983682513\n",
            "Test loss: 2.5148774511762895e-06\n",
            "Test loss: 2.9379400530160638e-06\n",
            "Test loss: 3.133785503450781e-05\n",
            "Test loss: 5.356207566364901e-06\n",
            "Test loss: 7.572844424430514e-06\n",
            "Test loss: 2.7425952794146724e-05\n",
            "Test loss: 0.0005745754460804164\n",
            "Test loss: 7.65832228353247e-05\n",
            "Test loss: 4.8644553316989914e-05\n",
            "Test loss: 3.322844349895604e-05\n",
            "Test loss: 1.1071354037994752e-06\n",
            "Test loss: 1.1555080163816456e-05\n",
            "Test loss: 0.0005792220472358167\n",
            "Test loss: 2.3892629542388022e-05\n",
            "Test loss: 7.935428584460169e-06\n",
            "Test loss: 5.011589109926717e-06\n",
            "Test loss: 7.167064268287504e-06\n",
            "Test loss: 2.8640053642448038e-05\n",
            "Test loss: 0.00010040906636277214\n",
            "Test loss: 6.015592134644976e-06\n",
            "Test loss: 0.0003064956399612129\n",
            "Test loss: 4.3009295040974393e-05\n",
            "Test loss: 0.0005124493036419153\n",
            "Test loss: 1.2000634342257399e-05\n",
            "Test loss: 1.2482873898989055e-05\n",
            "Test loss: 0.0001619268296053633\n",
            "Test loss: 0.00034978281473740935\n",
            "Test loss: 0.00041795417200773954\n",
            "Test loss: 1.0248472790408414e-05\n",
            "Test loss: 0.0002901802072301507\n",
            "Test loss: 0.0003820162091869861\n",
            "Test loss: 6.311438482953236e-05\n",
            "Test loss: 0.0003035325207747519\n",
            "Test loss: 1.0061385182780214e-06\n",
            "Test loss: 0.00013493125152308494\n",
            "Test loss: 0.00026151680503971875\n",
            "Test loss: 0.0002815703919623047\n",
            "Test loss: 6.43255261820741e-05\n",
            "Test loss: 0.00011649454972939566\n",
            "Test loss: 7.524855755036697e-05\n",
            "Test loss: 2.76061546173878e-05\n",
            "Test loss: 0.00012302999675739557\n",
            "Test loss: 1.9241626432631165e-05\n",
            "Test loss: 2.4349319573957473e-05\n",
            "Test loss: 0.00021250285499263555\n",
            "Test loss: 9.784132271306589e-05\n",
            "Test loss: 0.0005895604263059795\n",
            "Test loss: 0.00017903523985296488\n",
            "Test loss: 1.2671404874708969e-05\n",
            "Test loss: 9.808189497562125e-05\n",
            "Test loss: 7.311803983611753e-06\n",
            "Test loss: 7.989126970642246e-06\n",
            "Test loss: 0.00015800415712874383\n",
            "Test loss: 9.154486906481907e-05\n",
            "Test loss: 0.00029702018946409225\n",
            "Test loss: 0.0001380827307002619\n",
            "Test loss: 0.00015403152792714536\n",
            "Test loss: 0.000429514009738341\n",
            "Test loss: 9.488579235039651e-05\n",
            "Test loss: 6.790666520828381e-05\n",
            "Test loss: 0.0001328939397353679\n",
            "Test loss: 0.0006491952226497233\n",
            "Test loss: 0.0007936871843412519\n",
            "Test loss: 0.00023771815176587552\n",
            "Test loss: 0.00017106247832998633\n",
            "Test loss: 1.7422622704543755e-06\n",
            "Test loss: 2.7582057100516977e-06\n",
            "Test loss: 0.00013856010627932847\n",
            "Test loss: 0.0006487290374934673\n",
            "Test loss: 1.0408450634713518e-06\n",
            "Test loss: 3.135003134957515e-05\n",
            "Test loss: 5.734823571401648e-05\n",
            "Test loss: 1.3727095392823685e-05\n",
            "Test loss: 4.697688200394623e-05\n",
            "Test loss: 3.418880078243092e-05\n",
            "Test loss: 0.0002342941879760474\n",
            "Test loss: 0.0002918408717960119\n",
            "Test loss: 1.3367508472583722e-05\n",
            "Test loss: 5.8270885347155854e-05\n",
            "Test loss: 7.179349267971702e-06\n",
            "Test loss: 0.00043836611439473927\n",
            "Test loss: 0.00011563938460312784\n",
            "Test loss: 0.0003449245705269277\n",
            "Test loss: 0.00013279418635647744\n",
            "Test loss: 8.868297300068662e-06\n",
            "Test loss: 9.972853149520233e-06\n",
            "Test loss: 1.9204046111553907e-05\n",
            "Test loss: 0.0011327136307954788\n",
            "Test loss: 9.7151096269954e-05\n",
            "Test loss: 1.7667999827608583e-06\n",
            "Test loss: 0.0001229911285918206\n",
            "Test loss: 1.0932313671219163e-05\n",
            "Test loss: 5.974891337245936e-07\n",
            "Test loss: 2.010000025620684e-05\n",
            "Test loss: 0.00014833200839348137\n",
            "Test loss: 2.8699749236693606e-05\n",
            "Test loss: 0.00022461697517428547\n",
            "Test loss: 0.0003711062599904835\n",
            "Test loss: 4.246394382789731e-06\n",
            "Test loss: 0.0003186204703524709\n",
            "Test loss: 0.0001009078259812668\n",
            "Test loss: 2.0116135601710994e-06\n",
            "Test loss: 2.92869153781794e-05\n",
            "Test loss: 0.0001910700520966202\n",
            "Test loss: 3.8466798287117854e-05\n",
            "Test loss: 0.0002858610823750496\n",
            "Test loss: 1.5639259800082073e-05\n",
            "Test loss: 0.0005444056005217135\n",
            "Test loss: 0.0002914334472734481\n",
            "Test loss: 0.00041826386586762965\n",
            "Test loss: 0.0001152127661043778\n",
            "Test loss: 1.2374797734082676e-05\n",
            "Test loss: 0.00018782488768920302\n",
            "Test loss: 0.0010847914963960648\n",
            "Test loss: 0.00042084994493052363\n",
            "Test loss: 1.4398291568795685e-05\n",
            "Test loss: 0.00014493677008431405\n",
            "Test loss: 3.1929113902151585e-05\n",
            "Test loss: 2.2406984498957172e-05\n",
            "Test loss: 3.184366869390942e-05\n",
            "Test loss: 0.0005118377157486975\n",
            "Test loss: 6.266536729526706e-07\n",
            "Test loss: 0.0001402658672304824\n",
            "Test loss: 4.746640843222849e-05\n",
            "Test loss: 5.2100338507443666e-05\n",
            "Test loss: 1.7964803191716783e-05\n",
            "Test loss: 2.611458876344841e-05\n",
            "Test loss: 6.961396138649434e-05\n",
            "Test loss: 0.00011040426034014672\n",
            "Test loss: 8.647027243569028e-06\n",
            "Test loss: 0.00011403389362385496\n",
            "Test loss: 0.0004777273570653051\n",
            "Test loss: 0.00046302747796289623\n",
            "Test loss: 9.353832865599543e-06\n",
            "Test loss: 7.187321170931682e-05\n",
            "Test loss: 0.001068638637661934\n",
            "Test loss: 0.00018230854766443372\n",
            "Test loss: 6.039996515028179e-05\n",
            "Test loss: 0.00021689565619453788\n",
            "Test loss: 5.5025633628247306e-05\n",
            "Test loss: 0.0004363868210930377\n",
            "Test loss: 6.0948135796934366e-05\n",
            "Test loss: 0.00015945879567880183\n",
            "Test loss: 0.00017032168398145586\n",
            "Test loss: 0.005008491221815348\n"
          ],
          "name": "stdout"
        }
      ]
    },
    {
      "cell_type": "code",
      "metadata": {
        "id": "k3uCeTJZjlw-",
        "colab": {
          "base_uri": "https://localhost:8080/"
        },
        "outputId": "dfbc46b6-2d26-44c5-ed63-46460da8d4b5"
      },
      "source": [
        "dataIter = iter(trainLoader)\n",
        "\n",
        "imgs, labels = dataIter.next()\n",
        "imgs,lables = imgs.cuda(), labels.cuda()\n",
        "labels"
      ],
      "execution_count": 26,
      "outputs": [
        {
          "output_type": "execute_result",
          "data": {
            "text/plain": [
              "tensor([6, 4, 3, 1, 3, 9, 9, 5, 9, 7, 2, 1, 8, 7, 7, 0, 4, 6, 4, 8, 2, 3, 6, 2,\n",
              "        1, 7, 5, 0, 1, 7, 7, 6, 4, 5, 3, 0, 8, 2, 4, 6, 5, 9, 2, 0, 4, 9, 2, 9,\n",
              "        7, 4, 0, 6, 0, 0, 4, 4, 3, 9, 2, 0, 2, 1, 4, 4])"
            ]
          },
          "metadata": {},
          "execution_count": 26
        }
      ]
    },
    {
      "cell_type": "code",
      "metadata": {
        "id": "P-x3wZ-w1Dji",
        "colab": {
          "base_uri": "https://localhost:8080/"
        },
        "outputId": "1b81d82a-e604-434e-e63b-6fe86dbfa219"
      },
      "source": [
        "\n",
        "pred, logits = model(imgs)\n",
        "pred_argmax = torch.argmax(pred,dim = 1)\n",
        "pred_argmax"
      ],
      "execution_count": 28,
      "outputs": [
        {
          "output_type": "execute_result",
          "data": {
            "text/plain": [
              "tensor([6, 4, 3, 1, 3, 9, 9, 5, 9, 7, 2, 1, 8, 7, 7, 0, 4, 6, 4, 8, 2, 3, 6, 2,\n",
              "        1, 7, 5, 0, 1, 7, 7, 6, 4, 5, 3, 0, 8, 2, 4, 6, 5, 9, 2, 0, 4, 9, 2, 9,\n",
              "        7, 4, 0, 6, 0, 0, 4, 4, 3, 9, 2, 0, 2, 1, 4, 4], device='cuda:0')"
            ]
          },
          "metadata": {},
          "execution_count": 28
        }
      ]
    },
    {
      "cell_type": "code",
      "metadata": {
        "colab": {
          "base_uri": "https://localhost:8080/",
          "height": 282
        },
        "id": "XsDTjlz20A6u",
        "outputId": "5ef68059-ada3-452a-a49e-156116727cad"
      },
      "source": [
        "samples = imgs.detach().cpu()\n",
        "\n",
        "npimgs = samples[1].numpy()\n",
        "#print(npimgs.shape)\n",
        "\n",
        "plt.imshow(npimgs[0],cmap='Greys_r')"
      ],
      "execution_count": 15,
      "outputs": [
        {
          "output_type": "execute_result",
          "data": {
            "text/plain": [
              "<matplotlib.image.AxesImage at 0x7f1c54190d50>"
            ]
          },
          "metadata": {},
          "execution_count": 15
        },
        {
          "output_type": "display_data",
          "data": {
            "image/png": "[encoded data removed]",
            "text/plain": [
              "<Figure size 432x288 with 1 Axes>"
            ]
          },
          "metadata": {
            "needs_background": "light"
          }
        }
      ]
    },
    {
      "cell_type": "code",
      "metadata": {
        "colab": {
          "base_uri": "https://localhost:8080/"
        },
        "id": "iF1TnM3N0UsI",
        "outputId": "7f34d45f-02eb-428d-c67e-f3bb9327f188"
      },
      "source": [
        "pred[1]"
      ],
      "execution_count": 16,
      "outputs": [
        {
          "output_type": "execute_result",
          "data": {
            "text/plain": [
              "tensor([  3.2166,  -2.4761,  -0.8830, -12.5160,   8.0146,   1.9995,  26.5229,\n",
              "        -14.2325,  -3.9779, -10.7414], device='cuda:0',\n",
              "       grad_fn=<SelectBackward>)"
            ]
          },
          "metadata": {},
          "execution_count": 16
        }
      ]
    },
    {
      "cell_type": "code",
      "metadata": {
        "colab": {
          "base_uri": "https://localhost:8080/"
        },
        "id": "GalHGUSo7QA5",
        "outputId": "62b6c635-f113-452d-f177-67669ded0112"
      },
      "source": [
        "torch.argmax(pred[1])"
      ],
      "execution_count": 17,
      "outputs": [
        {
          "output_type": "execute_result",
          "data": {
            "text/plain": [
              "tensor(6, device='cuda:0')"
            ]
          },
          "metadata": {},
          "execution_count": 17
        }
      ]
    },
    {
      "cell_type": "code",
      "metadata": {
        "id": "ucc8GrHol9Wa"
      },
      "source": [
        "#Writing the checkpoint of the model \n",
        "\n",
        "G_checkpoint = {'model': model,\n",
        "          'state_dict': model.state_dict()}\n",
        "\n",
        "\n",
        "PATH = \"/content/\" + \"Classifier_CNN_logits.pth\"\n",
        "torch.save(G_checkpoint, PATH)\n"
      ],
      "execution_count": 29,
      "outputs": []
    },
    {
      "cell_type": "code",
      "metadata": {
        "id": "ncztQypM0AK2"
      },
      "source": [
        ""
      ],
      "execution_count": null,
      "outputs": []
    }
  ]
}