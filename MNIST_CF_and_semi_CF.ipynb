{
  "nbformat": 4,
  "nbformat_minor": 0,
  "metadata": {
    "colab": {
      "name": "MNIST CF and semi CF.ipynb",
      "provenance": [],
      "collapsed_sections": [
        "IF51Brt9kAfZ",
        "teBTAvc1kOeJ",
        "kITI6XETkdZD"
      ],
      "authorship_tag": "ABX9TyNJATxk+OuZgfHfTp7K8NwU",
      "include_colab_link": true
    },
    "kernelspec": {
      "name": "python3",
      "display_name": "Python 3"
    },
    "language_info": {
      "name": "python"
    },
    "accelerator": "GPU"
  },
  "cells": [
    {
      "cell_type": "markdown",
      "metadata": {
        "id": "view-in-github",
        "colab_type": "text"
      },
      "source": [
        "<a href=\"https://colab.research.google.com/github/Mahantesh-Pattadkal-1993/CounterFactuals_GANs/blob/main/MNIST_CF_and_semi_CF.ipynb\" target=\"_parent\"><img src=\"https://colab.research.google.com/assets/colab-badge.svg\" alt=\"Open In Colab\"/></a>"
      ]
    },
    {
      "cell_type": "code",
      "metadata": {
        "id": "e7Di6TGLj3QV",
        "colab": {
          "base_uri": "https://localhost:8080/"
        },
        "outputId": "64f856f0-5e87-4610-9818-e0ec9a49a141"
      },
      "source": [
        "from google.colab import drive\n",
        "drive.mount('/content/gdrive')"
      ],
      "execution_count": 1,
      "outputs": [
        {
          "output_type": "stream",
          "text": [
            "Mounted at /content/gdrive\n"
          ],
          "name": "stdout"
        }
      ]
    },
    {
      "cell_type": "code",
      "metadata": {
        "id": "QBc47uPej8G_"
      },
      "source": [
        "#Setting up the path for GAN Training\n",
        "import os\n",
        "os.chdir('/content/gdrive/MyDrive/Github/CounterFactuals_GANs/MNIST')"
      ],
      "execution_count": 2,
      "outputs": []
    },
    {
      "cell_type": "code",
      "metadata": {
        "id": "koGFIoBnj924",
        "colab": {
          "base_uri": "https://localhost:8080/"
        },
        "outputId": "809aa017-b9e7-4e09-e4af-6dce109e6098"
      },
      "source": [
        "#Import the libraries \n",
        "import torch\n",
        "import torch.optim as opt\n",
        "import torch.nn as nn\n",
        "import torch.nn.functional as F\n",
        "import torchvision\n",
        "import torchvision.transforms as transforms\n",
        "\n",
        "import random\n",
        "import numpy as np\n",
        "import matplotlib.pyplot as plt\n",
        "%matplotlib inline\n",
        "from GAN_Models import DC_Generator, DC_Discriminator, Net, CNN, Net_logits\n",
        "from utils import imshow\n",
        "device = torch.device(\"cuda\" if torch.cuda.is_available() else \"cpu\") # PyTorch v0.4.0\n",
        "\n",
        "\n",
        "\n",
        "\n",
        "# Set random seed for reproducibility\n",
        "manualSeed = 2021\n",
        "#manualSeed = random.randint(1, 10000) # use if you want new results\n",
        "print(\"Random Seed: \", manualSeed)\n",
        "random.seed(manualSeed)\n",
        "torch.manual_seed(manualSeed)\n"
      ],
      "execution_count": 3,
      "outputs": [
        {
          "output_type": "stream",
          "text": [
            "Random Seed:  2021\n"
          ],
          "name": "stdout"
        },
        {
          "output_type": "execute_result",
          "data": {
            "text/plain": [
              "<torch._C.Generator at 0x7f630f880e10>"
            ]
          },
          "metadata": {},
          "execution_count": 3
        }
      ]
    },
    {
      "cell_type": "markdown",
      "metadata": {
        "id": "IF51Brt9kAfZ"
      },
      "source": [
        "## Loading the Models\n"
      ]
    },
    {
      "cell_type": "code",
      "metadata": {
        "id": "dSokK6-vkD4H",
        "colab": {
          "base_uri": "https://localhost:8080/"
        },
        "outputId": "fc8b5e25-bc76-4479-9b8c-85c3c82d1d0e"
      },
      "source": [
        "#Load the Generator  \n",
        "# using the 150 epochs dataset\n",
        "\n",
        "\n",
        "device = torch.device(\"cuda\" if torch.cuda.is_available() else \"cpu\") # PyTorch v0.4.0\n",
        "\n",
        "G = DC_Generator().to(device)\n",
        "D = DC_Discriminator().to(device)\n",
        "\n",
        "\n",
        "checkpoint = torch.load(\"Weights/G_checkpoint_latest_149.pth\", map_location=torch.device('cuda'))\n",
        "G.load_state_dict(checkpoint['state_dict'])\n",
        "G.eval()\n",
        "\n",
        "checkpoint = torch.load(\"Weights/D_checkpoint_latest_149.pth\", map_location=torch.device('cuda'))\n",
        "D.load_state_dict(checkpoint['state_dict'])\n",
        "D.eval()"
      ],
      "execution_count": 4,
      "outputs": [
        {
          "output_type": "execute_result",
          "data": {
            "text/plain": [
              "DC_Discriminator(\n",
              "  (network): Sequential(\n",
              "    (0): Conv2d(1, 28, kernel_size=(4, 4), stride=(2, 2), padding=(1, 1), bias=False)\n",
              "    (1): LeakyReLU(negative_slope=0.2, inplace=True)\n",
              "    (2): Conv2d(28, 56, kernel_size=(4, 4), stride=(2, 2), padding=(1, 1), bias=False)\n",
              "    (3): BatchNorm2d(56, eps=1e-05, momentum=0.1, affine=True, track_running_stats=True)\n",
              "    (4): LeakyReLU(negative_slope=0.2, inplace=True)\n",
              "    (5): Conv2d(56, 112, kernel_size=(3, 3), stride=(2, 2), padding=(1, 1), bias=False)\n",
              "    (6): BatchNorm2d(112, eps=1e-05, momentum=0.1, affine=True, track_running_stats=True)\n",
              "    (7): LeakyReLU(negative_slope=0.2, inplace=True)\n",
              "    (8): Conv2d(112, 1, kernel_size=(4, 4), stride=(1, 1), bias=False)\n",
              "    (9): Sigmoid()\n",
              "  )\n",
              ")"
            ]
          },
          "metadata": {},
          "execution_count": 4
        }
      ]
    },
    {
      "cell_type": "code",
      "metadata": {
        "id": "qs1jSpnmkIBn",
        "colab": {
          "base_uri": "https://localhost:8080/"
        },
        "outputId": "0e17ba9e-2704-4b2f-a98c-90cf69480790"
      },
      "source": [
        "#Load the Classifier Net_logits() and outputs :- softmax, logits\n",
        "Classifier_model_logits = Net_logits().to(device)\n",
        "Classifier_checkpoint = torch.load(\"Weights/Classifier_CNN_logits.pth\", map_location=torch.device('cuda'))\n",
        "Classifier_model_logits.load_state_dict(Classifier_checkpoint['state_dict'])\n",
        "Classifier_model_logits.eval()"
      ],
      "execution_count": 5,
      "outputs": [
        {
          "output_type": "execute_result",
          "data": {
            "text/plain": [
              "Net_logits(\n",
              "  (conv1): Conv2d(1, 32, kernel_size=(3, 3), stride=(1, 1))\n",
              "  (conv2): Conv2d(32, 64, kernel_size=(3, 3), stride=(1, 1))\n",
              "  (dropout1): Dropout(p=0.25, inplace=False)\n",
              "  (dropout2): Dropout(p=0.5, inplace=False)\n",
              "  (fc1): Linear(in_features=9216, out_features=128, bias=True)\n",
              "  (fc2): Linear(in_features=128, out_features=10, bias=True)\n",
              ")"
            ]
          },
          "metadata": {},
          "execution_count": 5
        }
      ]
    },
    {
      "cell_type": "markdown",
      "metadata": {
        "id": "teBTAvc1kOeJ"
      },
      "source": [
        "## Data Loaders"
      ]
    },
    {
      "cell_type": "code",
      "metadata": {
        "id": "ikEUph5RkSN2",
        "colab": {
          "base_uri": "https://localhost:8080/"
        },
        "outputId": "202ea443-1a66-4748-dea7-e0596e6bf1a9"
      },
      "source": [
        "#Loading the data\n",
        "\n",
        "mb_size = 10\n",
        "\n",
        "transform = transforms.Compose(\n",
        "\t\t[transforms.ToTensor(),\n",
        "\t\t transforms.Normalize((0.5,), (0.5,))])\n",
        "\n",
        "trainData = torchvision.datasets.MNIST('./data/', download=True, transform=transform, train=True)\n",
        "\n",
        "trainLoader = torch.utils.data.DataLoader(trainData, shuffle=False, batch_size=mb_size)\n",
        "\n",
        "dataIter = iter(trainLoader)\n",
        "\n",
        "imgs, labels = dataIter.next()\n",
        "imgs = imgs.to(device)\n",
        "\n",
        "print(imgs.shape)\n",
        "print(labels)\n",
        "imgs.is_cuda"
      ],
      "execution_count": 6,
      "outputs": [
        {
          "output_type": "stream",
          "text": [
            "/usr/local/lib/python3.7/dist-packages/torchvision/datasets/mnist.py:498: UserWarning: The given NumPy array is not writeable, and PyTorch does not support non-writeable tensors. This means you can write to the underlying (supposedly non-writeable) NumPy array using the tensor. You may want to copy the array to protect its data or make it writeable before converting it to a tensor. This type of warning will be suppressed for the rest of this program. (Triggered internally at  /pytorch/torch/csrc/utils/tensor_numpy.cpp:180.)\n",
            "  return torch.from_numpy(parsed.astype(m[2], copy=False)).view(*s)\n"
          ],
          "name": "stderr"
        },
        {
          "output_type": "stream",
          "text": [
            "torch.Size([10, 1, 28, 28])\n",
            "tensor([5, 0, 4, 1, 9, 2, 1, 3, 1, 4])\n"
          ],
          "name": "stdout"
        },
        {
          "output_type": "execute_result",
          "data": {
            "text/plain": [
              "True"
            ]
          },
          "metadata": {},
          "execution_count": 6
        }
      ]
    },
    {
      "cell_type": "code",
      "metadata": {
        "id": "bnVvHe32kUhr",
        "colab": {
          "base_uri": "https://localhost:8080/",
          "height": 315
        },
        "outputId": "2c8f1243-5602-4513-9796-e4238806a996"
      },
      "source": [
        "sample_image = imgs[1,:,:,:] #first image in this batch \n",
        "sample_image= sample_image.reshape([1,1,28,28]) #adding the dimension for batch size\n",
        "sample_image = sample_image.to('cpu') #pushing it to cpu as that numpy conversion can be done\n",
        "\n",
        "\n",
        "npimgs = sample_image[0].detach().numpy()\n",
        "plt.imshow(npimgs[0],cmap='Greys_r')\n",
        "\n",
        "sample_image = sample_image.to('cuda')\n",
        "output, logits = Classifier_model_logits(sample_image)\n",
        "print(output)"
      ],
      "execution_count": 61,
      "outputs": [
        {
          "output_type": "stream",
          "text": [
            "tensor([[1.0000e+00, 8.4316e-11, 1.7799e-08, 5.8022e-12, 1.0352e-11, 1.9533e-13,\n",
            "         2.2826e-09, 1.6658e-10, 1.5405e-11, 1.8834e-11]], device='cuda:0',\n",
            "       grad_fn=<SoftmaxBackward>)\n"
          ],
          "name": "stdout"
        },
        {
          "output_type": "display_data",
          "data": {
            "image/png": "[encoded data removed]",
            "text/plain": [
              "<Figure size 432x288 with 1 Axes>"
            ]
          },
          "metadata": {
            "needs_background": "light"
          }
        }
      ]
    },
    {
      "cell_type": "code",
      "metadata": {
        "id": "4LJ3PVDCkXHH"
      },
      "source": [
        "import torch\n",
        "torch.manual_seed(100)\n",
        "z = torch.randn(1, 100,1,1).to(device)\n",
        "step_size = 0.001"
      ],
      "execution_count": 8,
      "outputs": []
    },
    {
      "cell_type": "markdown",
      "metadata": {
        "id": "kITI6XETkdZD"
      },
      "source": [
        "## Latent Representation of the instance"
      ]
    },
    {
      "cell_type": "code",
      "metadata": {
        "id": "mza2xzYWkiIz",
        "colab": {
          "base_uri": "https://localhost:8080/",
          "height": 349
        },
        "outputId": "30f981c8-34d3-49b9-b6c2-fbced9fadee4"
      },
      "source": [
        "# Using the standard loss functions\n",
        "#find the z_org that respresents the latent representation of given image\n",
        "\n",
        "\n",
        "torch.cuda.manual_seed(123)\n",
        "torch.cuda.manual_seed_all(123)\n",
        "torch.backends.cudnn.deterministic = True\n",
        "torch.backends.cudnn.benchmark = False\n",
        "\n",
        "import torch.optim as optim\n",
        "import torch\n",
        "cos = nn.CosineSimilarity(dim=1, eps=1e-6)\n",
        "torch.manual_seed(100)\n",
        "z= torch.randn(1, 100,1,1).to(device)\n",
        "step_size = 0.1\n",
        "\n",
        "#Find the image closer to the original one but target prediction\n",
        "MSE = nn.MSELoss()\n",
        "nll = nn.NLLLoss()\n",
        "CE_loss = nn.CrossEntropyLoss()\n",
        "l1_loss = nn.L1Loss()\n",
        "#optimizer = optim.SGD([z_semi], lr=0.01) #not using optimiser here\n",
        "\n",
        "\n",
        "def latent_representation(z,sample_image):\n",
        "  overall_loss, loss , avg_loss = 0,10,0\n",
        "  i=1\n",
        "\n",
        "  while (loss>=0.09):\n",
        "    z.requires_grad = True\n",
        "    loss1 = MSE(sample_image,G(z)) #pixel loss\n",
        "    loss2 = MSE(Classifier_model_logits(G(z))[0] , Classifier_model_logits(sample_image)[0]) #diference in pred of both images\n",
        "    \n",
        "    loss = loss1 + loss2\n",
        "    #print(loss)\n",
        "\n",
        "    z.grad = None\n",
        "    loss.backward()\n",
        "    z.requires_grad = False\n",
        "    z = z - z.grad * step_size\n",
        "\n",
        " \n",
        "\n",
        "\n",
        "    i = i+1\n",
        "\n",
        "\n",
        "    overall_loss= overall_loss + loss\n",
        "    if (i%500==0):\n",
        "            \n",
        "      avg_loss = overall_loss/500.0\n",
        "      print(\"avg_loss \" + \"step \" + \" \" +str(i) + str (avg_loss))\n",
        "      overall_loss = 0 \n",
        "    \n",
        "\n",
        "  return z\n",
        "\n",
        "z_org = latent_representation(z,sample_image)\n",
        "\n",
        "G_img= G(z_org) #generate the img\n",
        "G_img = G_img.to('cpu')  # bring it to cpu\n",
        "npimgs = G_img[0].detach().numpy()  #plot the image\n",
        "print(npimgs.shape)\n",
        "plt.imshow(npimgs[0],cmap='Greys_r')\n",
        "\n",
        "\n"
      ],
      "execution_count": 65,
      "outputs": [
        {
          "output_type": "stream",
          "text": [
            "avg_loss step  500tensor(0.5141, device='cuda:0', grad_fn=<DivBackward0>)\n",
            "avg_loss step  1000tensor(0.3064, device='cuda:0', grad_fn=<DivBackward0>)\n",
            "avg_loss step  1500tensor(0.2347, device='cuda:0', grad_fn=<DivBackward0>)\n",
            "(1, 28, 28)\n"
          ],
          "name": "stdout"
        },
        {
          "output_type": "execute_result",
          "data": {
            "text/plain": [
              "<matplotlib.image.AxesImage at 0x7f62c6c890d0>"
            ]
          },
          "metadata": {},
          "execution_count": 65
        },
        {
          "output_type": "display_data",
          "data": {
            "image/png": "[encoded data removed]",
            "text/plain": [
              "<Figure size 432x288 with 1 Axes>"
            ]
          },
          "metadata": {
            "needs_background": "light"
          }
        }
      ]
    },
    {
      "cell_type": "code",
      "metadata": {
        "colab": {
          "base_uri": "https://localhost:8080/"
        },
        "id": "yKvvCbhmEjj1",
        "outputId": "e9828c6f-f0b6-4062-c1ff-2a17b4489bed"
      },
      "source": [
        "Classifier_model_logits(G(z_org))[0]"
      ],
      "execution_count": 64,
      "outputs": [
        {
          "output_type": "execute_result",
          "data": {
            "text/plain": [
              "tensor([[9.1966e-01, 2.8156e-08, 4.0090e-06, 1.0952e-04, 1.2491e-08, 1.4880e-04,\n",
              "         7.8376e-02, 5.2421e-09, 1.6444e-03, 5.6645e-05]], device='cuda:0',\n",
              "       grad_fn=<SoftmaxBackward>)"
            ]
          },
          "metadata": {},
          "execution_count": 64
        }
      ]
    },
    {
      "cell_type": "code",
      "metadata": {
        "colab": {
          "base_uri": "https://localhost:8080/"
        },
        "id": "JM5E6z1dEutW",
        "outputId": "3137ed03-ebde-4126-cd19-88dc3195b8e1"
      },
      "source": [
        "MSE(sample_image,G(z_org))"
      ],
      "execution_count": 85,
      "outputs": [
        {
          "output_type": "execute_result",
          "data": {
            "text/plain": [
              "tensor(0.2471, device='cuda:0', grad_fn=<MseLossBackward>)"
            ]
          },
          "metadata": {},
          "execution_count": 85
        }
      ]
    },
    {
      "cell_type": "markdown",
      "metadata": {
        "id": "pGGTbKsrkq_P"
      },
      "source": [
        "## Counterfactual Calculations : Using latent dimension"
      ]
    },
    {
      "cell_type": "code",
      "metadata": {
        "id": "48rfal1plLM1",
        "colab": {
          "base_uri": "https://localhost:8080/"
        },
        "outputId": "408044dc-c30f-4949-f06a-f4c903b50937"
      },
      "source": [
        "#Using nn.losses\n",
        "#find Cfs based on given set of targets\n",
        "\n",
        "torch.cuda.manual_seed(123)\n",
        "torch.cuda.manual_seed_all(123)\n",
        "torch.backends.cudnn.deterministic = True\n",
        "torch.backends.cudnn.benchmark = False\n",
        "\n",
        "import torch.optim as optim\n",
        "import torch\n",
        "cos = nn.CosineSimilarity(dim=1, eps=1e-6)\n",
        "torch.manual_seed(100)\n",
        "#z_semi = torch.randn(1, 100,1,1).to(device)\n",
        "step_size = 0.01\n",
        "\n",
        "#Find the image closer to the original one but target prediction\n",
        "criterion1 = nn.MSELoss()\n",
        "nll = nn.NLLLoss()\n",
        "CE_loss = nn.CrossEntropyLoss()\n",
        "l1_loss = nn.L1Loss()\n",
        "BCE = nn.BCELoss()\n",
        "#optimizer = optim.SGD([z_semi], lr=0.01)\n",
        "\n",
        "\n",
        "#using latent dimension distance\n",
        "latent_z = []\n",
        "for cnt in range(1,2,1):\n",
        "  z_semi = z_org.clone().detach().to(device)\n",
        "\n",
        "  overall_loss = 0\n",
        "  i=1\n",
        "  while (i<=10000):\n",
        "    z_semi.requires_grad = True\n",
        "        \n",
        "    loss1 = criterion1(z_org,z_semi) # distance using MSE\n",
        "    loss2 = CE_loss(Classifier_model_logits(G(z_semi))[1],torch.tensor([cnt]).to(device) ) # ensure the class is maintained \n",
        "    loss3 = BCE(D(G(z_semi)), torch.tensor([1.0]).to(device))\n",
        "\n",
        "       \n",
        "    #loss =  loss1 + loss2  # without PR\n",
        "    loss = loss1 + loss2 + 0.1*loss3 #with PR\n",
        "    \n",
        "    z_semi.grad = None\n",
        "    loss.backward(retain_graph=True)  \n",
        "    #optimizer.step()  \n",
        "    z_semi.requires_grad = False\n",
        "    z_semi = z_semi - z_semi.grad * step_size\n",
        "    i = i+1\n",
        "    overall_loss= overall_loss + loss \n",
        "\n",
        "    if (i%1000==0):\n",
        "           \n",
        "      avg_loss = overall_loss/1000.0\n",
        "      print(\" avg_loss \" + \" digit \"+ str(cnt) +\" step \" + \" \" +str(i) + str (avg_loss))\n",
        "     \n",
        "      overall_loss = 0 \n",
        "  latent_z.append(z_semi)\n",
        "  \n",
        "  "
      ],
      "execution_count": 24,
      "outputs": [
        {
          "output_type": "stream",
          "text": [
            " avg_loss  digit 1 step  1000tensor(0.3414, device='cuda:0', grad_fn=<DivBackward0>)\n",
            " avg_loss  digit 1 step  2000tensor(0.1017, device='cuda:0', grad_fn=<DivBackward0>)\n",
            " avg_loss  digit 1 step  3000tensor(0.0930, device='cuda:0', grad_fn=<DivBackward0>)\n",
            " avg_loss  digit 1 step  4000tensor(0.0862, device='cuda:0', grad_fn=<DivBackward0>)\n",
            " avg_loss  digit 1 step  5000tensor(0.0806, device='cuda:0', grad_fn=<DivBackward0>)\n",
            " avg_loss  digit 1 step  6000tensor(0.0763, device='cuda:0', grad_fn=<DivBackward0>)\n",
            " avg_loss  digit 1 step  7000tensor(0.0721, device='cuda:0', grad_fn=<DivBackward0>)\n",
            " avg_loss  digit 1 step  8000tensor(0.0671, device='cuda:0', grad_fn=<DivBackward0>)\n",
            " avg_loss  digit 1 step  9000tensor(0.0655, device='cuda:0', grad_fn=<DivBackward0>)\n",
            " avg_loss  digit 1 step  10000tensor(0.0649, device='cuda:0', grad_fn=<DivBackward0>)\n"
          ],
          "name": "stdout"
        }
      ]
    },
    {
      "cell_type": "code",
      "metadata": {
        "id": "bjFdI_Zs4n6p"
      },
      "source": [
        "#Find the Cfs using loss function which also takes into consideration the pixel loss\n",
        "\n",
        "\"\"\"\n",
        "Loss1 - L1 dist between z and z org\n",
        "Loss4 - L1 dist between sample img and G(z)\n",
        "Loss2 - CE loss for intended class\n",
        "Loss3 - Plausibility loss\n",
        "\"\"\"\n",
        "\n",
        "torch.cuda.manual_seed(123)\n",
        "torch.cuda.manual_seed_all(123)\n",
        "torch.backends.cudnn.deterministic = True\n",
        "torch.backends.cudnn.benchmark = False\n",
        "\n",
        "import torch.optim as optim\n",
        "import torch\n",
        "\n",
        "torch.manual_seed(100)\n",
        "#z_semi = torch.randn(1, 100,1,1).to(device)\n",
        "step_size = 0.01\n",
        "\n",
        "#Find the image closer to the original one but target prediction\n",
        "criterion1 = nn.MSELoss()\n",
        "nll = nn.NLLLoss()\n",
        "CE_loss = nn.CrossEntropyLoss()\n",
        "l1_loss = nn.L1Loss()\n",
        "BCE = nn.BCELoss()\n",
        "#optimizer = optim.Adam([z_semi], lr=0.01)\n",
        "\n",
        "\n",
        "#using latent dimension distance\n",
        "latent_z_journey = [z_org]\n",
        "for cnt in range(9,10,1):\n",
        "  z_semi = z_org.clone().detach().to(device)\n",
        "\n",
        "  overall_loss = 0\n",
        "  i=1\n",
        "  while (i<=10000):\n",
        "    z_semi.requires_grad = True\n",
        "        \n",
        "    loss1 = l1_loss(z_org,z_semi) # distance using L1\n",
        "    loss4 = l1_loss(sample_image,G(z_semi))\n",
        "    loss2 = CE_loss(Classifier_model_logits(G(z_semi))[1],torch.tensor([cnt]).to(device) ) # ensure the class is maintained \n",
        "    loss3 = BCE(D(G(z_semi)), torch.tensor([1.0]).to(device))\n",
        "\n",
        "       \n",
        "    #loss =  loss1 + loss2 + loss4 # without PR\n",
        "    loss = loss1 + loss2 + loss4 + 0.1*loss3 #with PR\n",
        "    #print(loss)\n",
        "    #optimizer.zero_grad()\n",
        "    #loss.backward()\n",
        "    #optimizer.step()\n",
        "\n",
        "    \n",
        "    z_semi.grad = None\n",
        "    loss.backward(retain_graph=True)  \n",
        "    #optimizer.step()  \n",
        "    z_semi.requires_grad = False\n",
        "    z_semi = z_semi - (z_semi.grad * step_size)\n",
        "    i = i+1\n",
        "    overall_loss= overall_loss + loss \n",
        "    \n",
        "    if (i%100==0):\n",
        "           \n",
        "      avg_loss = overall_loss/100.0\n",
        "      print(\"avg_loss \" + \"step \" + \" \" +str(i) + str (avg_loss))\n",
        "      overall_loss = 0 \n",
        "      latent_z_journey.append(z_semi)\n",
        "  \n",
        "\n",
        "  \n",
        "  "
      ],
      "execution_count": null,
      "outputs": []
    },
    {
      "cell_type": "code",
      "metadata": {
        "colab": {
          "base_uri": "https://localhost:8080/",
          "height": 282
        },
        "id": "TqZ0nakU9Gle",
        "outputId": "3f9f6a70-97d1-4af3-ffbb-8833bb6ad30a"
      },
      "source": [
        "# Plotting the semi factual image according to the cf found by the latent dimension loss and target class provided\n",
        "\n",
        "G_img= G(latent_z[0])\n",
        "G_img = G_img.to('cpu')\n",
        "npimgs = G_img[0].detach().numpy()\n",
        "#print(npimgs.shape)\n",
        "plt.imshow(npimgs[0],cmap='Greys_r')"
      ],
      "execution_count": 25,
      "outputs": [
        {
          "output_type": "execute_result",
          "data": {
            "text/plain": [
              "<matplotlib.image.AxesImage at 0x7fadf85246d0>"
            ]
          },
          "metadata": {},
          "execution_count": 25
        },
        {
          "output_type": "display_data",
          "data": {
            "image/png": "[encoded data removed]",
            "text/plain": [
              "<Figure size 432x288 with 1 Axes>"
            ]
          },
          "metadata": {
            "needs_background": "light"
          }
        }
      ]
    },
    {
      "cell_type": "code",
      "metadata": {
        "colab": {
          "base_uri": "https://localhost:8080/"
        },
        "id": "U84DSTeumuvI",
        "outputId": "2e73ed16-e084-4a33-d528-4ff02c0593e8"
      },
      "source": [
        "loss1"
      ],
      "execution_count": 20,
      "outputs": [
        {
          "output_type": "execute_result",
          "data": {
            "text/plain": [
              "tensor(0.1168, device='cuda:0', grad_fn=<MseLossBackward>)"
            ]
          },
          "metadata": {},
          "execution_count": 20
        }
      ]
    },
    {
      "cell_type": "code",
      "metadata": {
        "colab": {
          "base_uri": "https://localhost:8080/"
        },
        "id": "d-FFffyAmjLs",
        "outputId": "2eab7d07-1bec-4ec8-84a6-ec2a9e10f089"
      },
      "source": [
        "Classifier_model_logits(G(z_semi))[0]"
      ],
      "execution_count": 21,
      "outputs": [
        {
          "output_type": "execute_result",
          "data": {
            "text/plain": [
              "tensor([[0.0538, 0.0436, 0.0040, 0.0069, 0.1645, 0.1486, 0.1347, 0.0987, 0.1679,\n",
              "         0.1772]], device='cuda:0', grad_fn=<SoftmaxBackward>)"
            ]
          },
          "metadata": {},
          "execution_count": 21
        }
      ]
    },
    {
      "cell_type": "code",
      "metadata": {
        "id": "JghD2erLkrKO"
      },
      "source": [
        "#Find the journey of the digits\n",
        "\n",
        "torch.cuda.manual_seed(123)\n",
        "torch.cuda.manual_seed_all(123)\n",
        "torch.backends.cudnn.deterministic = True\n",
        "torch.backends.cudnn.benchmark = False\n",
        "\n",
        "import torch.optim as optim\n",
        "import torch\n",
        "\n",
        "torch.manual_seed(100)\n",
        "#z_semi = torch.randn(1, 100,1,1).to(device)\n",
        "step_size = 0.01\n",
        "\n",
        "#Find the image closer to the original one but target prediction\n",
        "criterion1 = nn.MSELoss()\n",
        "nll = nn.NLLLoss()\n",
        "CE_loss = nn.CrossEntropyLoss()\n",
        "l1_loss = nn.L1Loss()\n",
        "BCE = nn.BCELoss()\n",
        "#optimizer = optim.Adam([z_semi], lr=0.01)\n",
        "\n",
        "\n",
        "#using latent dimension distance\n",
        "latent_z_journey = [z_org]\n",
        "for cnt in range(0,1,1):\n",
        "  z_semi = z_org.clone().detach().to(device)\n",
        "\n",
        "  overall_loss = 0\n",
        "  i=1\n",
        "  while (i<=10000):\n",
        "    z_semi.requires_grad = True\n",
        "        \n",
        "    loss1 = criterion1(z_org,z_semi) # distance using MSE\n",
        "    loss2 = CE_loss(Classifier_model_logits(G(z_semi))[1],torch.tensor([cnt]).to(device) ) # ensure the class is maintained \n",
        "    loss3 = BCE(D(G(z_semi)), torch.tensor([1.0]).to(device))\n",
        "\n",
        "       \n",
        "    #loss =  loss1 + loss2  # without PR\n",
        "    loss = loss1 + loss2 + 0.1*loss3 #with PR\n",
        "    #print(loss)\n",
        "    #optimizer.zero_grad()\n",
        "    #loss.backward()\n",
        "    #optimizer.step()\n",
        "\n",
        "    \n",
        "    z_semi.grad = None\n",
        "    loss.backward(retain_graph=True)  \n",
        "    #optimizer.step()  \n",
        "    z_semi.requires_grad = False\n",
        "    z_semi = z_semi - (z_semi.grad * step_size)\n",
        "    i = i+1\n",
        "    overall_loss= overall_loss + loss \n",
        "    \n",
        "    if (i%100==0):\n",
        "           \n",
        "      avg_loss = overall_loss/50.0\n",
        "      print(\"avg_loss \" + \"step \" + \" \" +str(i) + str (avg_loss))\n",
        "      overall_loss = 0 \n",
        "      latent_z_journey.append(z_semi)\n",
        "  \n",
        "\n",
        "  \n",
        "  "
      ],
      "execution_count": null,
      "outputs": []
    },
    {
      "cell_type": "code",
      "metadata": {
        "id": "pCRccRgWd26u"
      },
      "source": [
        "####----------Baseline------------------------\n",
        "#Find the journey of the digits \n",
        "\n",
        "import torch.optim as optim\n",
        "import torch\n",
        "torch.cuda.manual_seed(123)\n",
        "torch.cuda.manual_seed_all(123)\n",
        "torch.backends.cudnn.deterministic = True\n",
        "torch.backends.cudnn.benchmark = False\n",
        "torch.manual_seed(100)\n",
        "\n",
        "step_size = 0.01\n",
        "\n",
        "#Find the image closer to the original one but target prediction\n",
        "criterion1 = nn.MSELoss()\n",
        "nll = nn.NLLLoss()\n",
        "CE_loss = nn.CrossEntropyLoss()\n",
        "l1_loss = nn.L1Loss()\n",
        "BCE = nn.BCELoss()\n",
        "#optimizer = optim.Adam([z_base], lr=0.01)\n",
        "\n",
        "\n",
        "#using latent dimension distance\n",
        "latent_z_journey_base = [z_org]\n",
        "for cnt in range(0,1,1):\n",
        "  z_base = z_org.clone().detach().to(device)\n",
        "\n",
        "  overall_loss = 0\n",
        "  i=1\n",
        "  while (i<=4000):\n",
        "    z_base.requires_grad = True\n",
        "        \n",
        "    loss1 = criterion1(z_org,z_base) # distance using MSE\n",
        "    loss2 = CE_loss(Classifier_model_logits(G(z_base))[1],torch.tensor([cnt]).to(device) ) # ensure the class is maintained \n",
        "    loss3 = BCE(D(G(z_base)), torch.tensor([1.0]).to(device))\n",
        "\n",
        "       \n",
        "    loss =  loss1 + loss2  # without PR\n",
        "    z_semi.grad = None\n",
        "    loss.backward(retain_graph=True)  \n",
        "    \n",
        "    z_base.requires_grad = False\n",
        "    z_base = z_base - z_base.grad * step_size\n",
        "    i = i+1\n",
        "    overall_loss= overall_loss + loss \n",
        "\n",
        "    if (i%50==0):\n",
        "           \n",
        "      avg_loss = overall_loss/50.0\n",
        "      print(\"avg_loss \" + \"step \" + \" \" +str(i) + str (avg_loss))\n",
        "      overall_loss = 0 \n",
        "      latent_z_journey_base.append(z_base)\n",
        " \n",
        "\n",
        "  \n",
        "  "
      ],
      "execution_count": null,
      "outputs": []
    },
    {
      "cell_type": "code",
      "metadata": {
        "id": "N7cVGmOKk5-h",
        "colab": {
          "base_uri": "https://localhost:8080/",
          "height": 282
        },
        "outputId": "91e63fd2-f56e-4864-ffea-49fa8b4c7f5f"
      },
      "source": [
        "# Plotting the semi factual image according to the cf found by the latent dimension loss and target class provided\n",
        "\n",
        "G_img= G(z_base)\n",
        "G_img = G_img.to('cpu')\n",
        "npimgs = G_img[0].detach().numpy()\n",
        "#print(npimgs.shape)\n",
        "plt.imshow(npimgs[0],cmap='Greys_r')"
      ],
      "execution_count": 35,
      "outputs": [
        {
          "output_type": "execute_result",
          "data": {
            "text/plain": [
              "<matplotlib.image.AxesImage at 0x7f0053487c10>"
            ]
          },
          "metadata": {},
          "execution_count": 35
        },
        {
          "output_type": "display_data",
          "data": {
            "image/png": "[encoded data removed]",
            "text/plain": [
              "<Figure size 432x288 with 1 Axes>"
            ]
          },
          "metadata": {
            "needs_background": "light"
          }
        }
      ]
    },
    {
      "cell_type": "code",
      "metadata": {
        "colab": {
          "base_uri": "https://localhost:8080/",
          "height": 282
        },
        "id": "Wv1Cm4JWvv3Z",
        "outputId": "75c49ff7-ad69-4be2-ce4b-ea3757cde5a7"
      },
      "source": [
        "# Plotting the semi factual image according to the cf found by the latent dimension loss and target class provided\n",
        "\n",
        "G_img= G(z_semi)\n",
        "G_img = G_img.to('cpu')\n",
        "npimgs = G_img[0].detach().numpy()\n",
        "#print(npimgs.shape)\n",
        "plt.imshow(npimgs[0],cmap='Greys_r')"
      ],
      "execution_count": 48,
      "outputs": [
        {
          "output_type": "execute_result",
          "data": {
            "text/plain": [
              "<matplotlib.image.AxesImage at 0x7f0053199f50>"
            ]
          },
          "metadata": {},
          "execution_count": 48
        },
        {
          "output_type": "display_data",
          "data": {
            "image/png": "[encoded data removed]",
            "text/plain": [
              "<Figure size 432x288 with 1 Axes>"
            ]
          },
          "metadata": {
            "needs_background": "light"
          }
        }
      ]
    },
    {
      "cell_type": "code",
      "metadata": {
        "colab": {
          "base_uri": "https://localhost:8080/",
          "height": 282
        },
        "id": "lIXgBVuiaGOG",
        "outputId": "7f6ec0f3-8075-4c4e-f9d4-beacc8ad6c90"
      },
      "source": [
        "# Plotting the semi factual image according to the cf found by the latent dimension loss and target class provided\n",
        "\n",
        "G_img= G(z_org)\n",
        "G_img = G_img.to('cpu')\n",
        "npimgs = G_img[0].detach().numpy()\n",
        "#print(npimgs.shape)\n",
        "plt.imshow(npimgs[0],cmap='Greys_r')"
      ],
      "execution_count": 127,
      "outputs": [
        {
          "output_type": "execute_result",
          "data": {
            "text/plain": [
              "<matplotlib.image.AxesImage at 0x7f001fb1e150>"
            ]
          },
          "metadata": {},
          "execution_count": 127
        },
        {
          "output_type": "display_data",
          "data": {
            "image/png": "[encoded data removed]",
            "text/plain": [
              "<Figure size 432x288 with 1 Axes>"
            ]
          },
          "metadata": {
            "needs_background": "light"
          }
        }
      ]
    },
    {
      "cell_type": "code",
      "metadata": {
        "id": "4gpWTNMXk63U",
        "colab": {
          "base_uri": "https://localhost:8080/",
          "height": 486
        },
        "outputId": "508ae971-3c8d-4fad-a3a5-9e0c20823260"
      },
      "source": [
        "imgs_grid = torch.tensor([]).to(device)\n",
        "\n",
        "for i in range(64):\n",
        "  \n",
        "   imgs_grid = torch.cat([imgs_grid,  G(latent_z_journey_base[i])], dim=0)\n",
        "\n",
        "\n",
        "imgs_grid = imgs_grid.to('cpu')\n",
        "imshow(imgs_grid)"
      ],
      "execution_count": 123,
      "outputs": [
        {
          "output_type": "stream",
          "text": [
            "Clipping input data to the valid range for imshow with RGB data ([0..1] for floats or [0..255] for integers).\n"
          ],
          "name": "stderr"
        },
        {
          "output_type": "display_data",
          "data": {
            "image/png": "[encoded data removed]",
            "text/plain": [
              "<Figure size 576x576 with 1 Axes>"
            ]
          },
          "metadata": {}
        }
      ]
    },
    {
      "cell_type": "code",
      "metadata": {
        "colab": {
          "base_uri": "https://localhost:8080/",
          "height": 486
        },
        "id": "edWgqXeldx7H",
        "outputId": "9737f9a7-164d-4e35-fc94-6356300ed0a1"
      },
      "source": [
        "imgs_grid = torch.tensor([]).to(device)\n",
        "\n",
        "for i in range(64):\n",
        "  \n",
        "   imgs_grid = torch.cat([imgs_grid,  G(latent_z_journey[i])], dim=0)\n",
        "\n",
        "\n",
        "imgs_grid = imgs_grid.to('cpu')\n",
        "imshow(imgs_grid)"
      ],
      "execution_count": 124,
      "outputs": [
        {
          "output_type": "stream",
          "text": [
            "Clipping input data to the valid range for imshow with RGB data ([0..1] for floats or [0..255] for integers).\n"
          ],
          "name": "stderr"
        },
        {
          "output_type": "display_data",
          "data": {
            "image/png": "[encoded data removed]",
            "text/plain": [
              "<Figure size 576x576 with 1 Axes>"
            ]
          },
          "metadata": {}
        }
      ]
    },
    {
      "cell_type": "code",
      "metadata": {
        "id": "0Gyc14WIllfS",
        "colab": {
          "base_uri": "https://localhost:8080/"
        },
        "outputId": "3f2199eb-28d7-4d5f-ea35-1b8b6bec88d9"
      },
      "source": [
        "loss1"
      ],
      "execution_count": 42,
      "outputs": [
        {
          "output_type": "execute_result",
          "data": {
            "text/plain": [
              "tensor(0.7098, device='cuda:0', grad_fn=<MseLossBackward>)"
            ]
          },
          "metadata": {},
          "execution_count": 42
        }
      ]
    },
    {
      "cell_type": "code",
      "metadata": {
        "colab": {
          "base_uri": "https://localhost:8080/"
        },
        "id": "ublbK8ZzSjaZ",
        "outputId": "89417da5-3f6e-4bc4-ffdf-1c727cc5a125"
      },
      "source": [
        "D(G(z_semi))"
      ],
      "execution_count": 49,
      "outputs": [
        {
          "output_type": "execute_result",
          "data": {
            "text/plain": [
              "tensor([0.0113], device='cuda:0', grad_fn=<SqueezeBackward1>)"
            ]
          },
          "metadata": {},
          "execution_count": 49
        }
      ]
    },
    {
      "cell_type": "code",
      "metadata": {
        "id": "L639gKIBZIaN",
        "colab": {
          "base_uri": "https://localhost:8080/"
        },
        "outputId": "57ea5802-61d8-41ed-e816-16940ea7b3d7"
      },
      "source": [
        "Classifier_model_logits(G(z_base))[0]"
      ],
      "execution_count": 126,
      "outputs": [
        {
          "output_type": "execute_result",
          "data": {
            "text/plain": [
              "tensor([[9.9376e-01, 4.7832e-07, 1.5792e-03, 1.2010e-03, 4.5152e-08, 5.4027e-06,\n",
              "         6.9405e-04, 1.1046e-07, 2.7528e-03, 1.1439e-05]], device='cuda:0',\n",
              "       grad_fn=<SoftmaxBackward>)"
            ]
          },
          "metadata": {},
          "execution_count": 126
        }
      ]
    },
    {
      "cell_type": "code",
      "metadata": {
        "colab": {
          "base_uri": "https://localhost:8080/"
        },
        "id": "MMY4Nhcq5CFP",
        "outputId": "f83342b4-173d-4712-dd24-23061723b575"
      },
      "source": [
        "Classifier_model_logits(G(z_semi))[0]"
      ],
      "execution_count": 125,
      "outputs": [
        {
          "output_type": "execute_result",
          "data": {
            "text/plain": [
              "tensor([[9.7103e-01, 3.4117e-07, 6.4125e-06, 1.5436e-04, 4.5166e-07, 1.2260e-03,\n",
              "         3.5467e-03, 2.3226e-07, 1.8697e-02, 5.3373e-03]], device='cuda:0',\n",
              "       grad_fn=<SoftmaxBackward>)"
            ]
          },
          "metadata": {},
          "execution_count": 125
        }
      ]
    },
    {
      "cell_type": "markdown",
      "metadata": {
        "id": "wWY1MlMqXbw0"
      },
      "source": [
        "## Counterfactual Based on diversity"
      ]
    },
    {
      "cell_type": "code",
      "metadata": {
        "id": "4iYwA8-BXf1R"
      },
      "source": [
        "#Find the Cfs using loss function which also takes into consideration the pixel loss\n",
        "\n",
        "\"\"\"\n",
        "Loss1 - L1 dist between z and z org\n",
        "Loss4 - L1 dist between sample img and G(z)\n",
        "Loss2 - CE loss for intended class\n",
        "Loss3 - Plausibility loss\n",
        "Loss5 - Diversity Loss based on L1 distance\n",
        "\"\"\"\n",
        "\n",
        "torch.cuda.manual_seed(123)\n",
        "torch.cuda.manual_seed_all(123)\n",
        "torch.backends.cudnn.deterministic = True\n",
        "torch.backends.cudnn.benchmark = False\n",
        "\n",
        "import torch.optim as optim\n",
        "import torch\n",
        "\n",
        "torch.manual_seed(100)\n",
        "z_semi = torch.randn(2, 100,1,1).to(device) # start with random variables\n",
        "step_size = 0.01\n",
        "\n",
        "#Find the image closer to the original one but target prediction\n",
        "criterion1 = nn.MSELoss()\n",
        "nll = nn.NLLLoss()\n",
        "CE_loss = nn.CrossEntropyLoss()\n",
        "l1_loss = nn.L1Loss()\n",
        "BCE = nn.BCELoss()\n",
        "diversity_loss = nn.CosineEmbeddingLoss()\n",
        "#print(diversity_loss(z_semi,z_org,torch.tensor([1]).to(device)))\n",
        "\n",
        "\n",
        "\n",
        "#using latent dimension distance\n",
        "latent_z_journey = []\n",
        "for cnt in range(4,5,1):\n",
        "  #z_semi = z_org.clone().detach().to(device) # starting with the same image gives same results\n",
        "  z_original_array = z_org.clone().detach().to(device)\n",
        "  sample_img_array = sample_image.clone().detach().to(device)\n",
        "  \n",
        "  for i in range(1): #Images based on \n",
        "   z_original_array = torch.cat([z_original_array, z_original_array] , dim=0)\n",
        "   sample_img_array = torch.cat([sample_img_array, sample_img_array] , dim=0)\n",
        "\n",
        "  overall_loss = 0\n",
        "  i=1\n",
        "  while (i<=10000):\n",
        "    z_semi.requires_grad = True\n",
        "        \n",
        "    loss1 = l1_loss(z_original_array,z_semi) # distance using L1\n",
        "    loss4 = l1_loss(sample_img_array,G(z_semi))\n",
        "    loss2 = CE_loss(Classifier_model_logits(G(z_semi))[1],torch.tensor([cnt,cnt]).to(device) ) # ensure the class is maintained \n",
        "    loss3 = BCE(D(G(z_semi)), torch.tensor([1.0,1.0]).to(device))\n",
        "    #loss5 = diversity_loss(z_semi[0], z_semi[1],torch.tensor([-1]).to(device))\n",
        "    loss5 = l1_loss(z_semi[0], z_semi[1]) # distance between both the images\n",
        "       \n",
        "    #loss =  loss1 + loss2 + loss4 # without PR\n",
        "    loss = loss1 + loss2 + loss4 -loss5  + loss3 #with PR\n",
        "       \n",
        "    z_semi.grad = None\n",
        "    loss.backward(retain_graph=True)  \n",
        "    \n",
        "    z_semi.requires_grad = False\n",
        "    z_semi = z_semi - (z_semi.grad * step_size)\n",
        "  \n",
        "    if (i%100==0):\n",
        "           \n",
        "      avg_loss = overall_loss/100.0\n",
        "      print(\"avg_loss \" + \"step \" + \" \" +str(i) + str (avg_loss))\n",
        "      overall_loss = 0 \n",
        "      latent_z_journey.append(z_semi)\n",
        "  \n",
        "\n",
        "  \n",
        "  "
      ],
      "execution_count": null,
      "outputs": []
    },
    {
      "cell_type": "code",
      "metadata": {
        "id": "7DDA9vpRYfeT"
      },
      "source": [
        "# Plotting the semi factual image according to the cf found by the latent dimension loss and target class provided\n",
        "\n",
        "\n",
        "G_img= G(z_semi[0,:,:,:].unsqueeze(0))\n",
        "G_img = G_img.to('cpu')\n",
        "npimgs = G_img[0].detach().numpy()\n",
        "#print(npimgs.shape)\n",
        "plt.imshow(npimgs[0],cmap='Greys_r')"
      ],
      "execution_count": null,
      "outputs": []
    },
    {
      "cell_type": "code",
      "metadata": {
        "id": "HX60BWTgYihF"
      },
      "source": [
        "# Plotting the semi factual image according to the cf found by the latent dimension loss and target class provided\n",
        "\n",
        "\n",
        "G_img= G(z_semi[1,:,:,:].unsqueeze(0))\n",
        "G_img = G_img.to('cpu')\n",
        "npimgs = G_img[0].detach().numpy()\n",
        "#print(npimgs.shape)\n",
        "plt.imshow(npimgs[0],cmap='Greys_r')"
      ],
      "execution_count": null,
      "outputs": []
    },
    {
      "cell_type": "markdown",
      "metadata": {
        "id": "ZHOoHpmQlmlq"
      },
      "source": [
        "## Semifactual calculation using standard losses"
      ]
    },
    {
      "cell_type": "code",
      "metadata": {
        "id": "i-TInI4klqi8"
      },
      "source": [
        "#Using nn.losses\n",
        "\n",
        "import torch.optim as optim\n",
        "import torch\n",
        "cos = nn.CosineSimilarity(dim=1, eps=1e-6)\n",
        "torch.manual_seed(100)\n",
        "#z_semi = torch.randn(1, 100,1,1).to(device)\n",
        "step_size = 0.1\n",
        "\n",
        "#Find the image closer to the original one but target prediction\n",
        "criterion1 = nn.MSELoss()\n",
        "nll = nn.NLLLoss()\n",
        "CE_loss = nn.CrossEntropyLoss()\n",
        "l1_loss = nn.L1Loss()\n",
        "BCE = nn.BCELoss()\n",
        "#optimizer = optim.SGD([z_semi], lr=0.01)\n",
        "\n",
        "\n",
        "#using latent dimension distance\n",
        "latent_z = []\n",
        "for cnt in range(2,3,1):\n",
        "  z_semi = z_org.to(device)\n",
        "  arg_max = 0.01\n",
        "  overall_loss = 0\n",
        "  i=1\n",
        "  \n",
        "  while (i<=5000  ):\n",
        "    z_semi.requires_grad = True\n",
        "        \n",
        "    loss1 = criterion1(z_org,z_semi) # distance using MSE\n",
        "    loss2 = criterion1(Classifier_model_logits(G(z_semi))[0][0][0],Classifier_model_logits(G(z_semi))[0][0][0] )\n",
        "    #loss2 = CE_loss(Classifier_model_logits(G(z_semi))[1],torch.tensor([cnt]).to(device) ) # ensure the class is maintained \n",
        "    loss3 = BCE(D(G(z_semi)), torch.tensor([1.0]).to(device))\n",
        "    loss4=  criterion1(Classifier_model_logits(G(z_semi))[1],torch.tensor([1.0]).to(device) )\n",
        "    arg_max = torch.argmax(Classifier_model_logits(G(z_semi))[0][0])\n",
        "    #print(arg_max)\n",
        "       \n",
        "    #loss =  loss1 + loss2  # without PR\n",
        "    loss = loss1 + loss2 + loss4 +0.01*loss3 #with PR\n",
        "    \n",
        "    z_semi.grad = None\n",
        "    loss.backward(retain_graph=True)  \n",
        "    #optimizer.step()  \n",
        "    z_semi.requires_grad = False\n",
        "    z_semi = z_semi - z_semi.grad * step_size\n",
        "    i = i+1\n",
        "    \n",
        "    overall_loss= overall_loss + loss \n",
        "\n",
        "    if (i%500==0):\n",
        "           \n",
        "      avg_loss = overall_loss/500.0\n",
        "      print(\"avg_loss \" + \"step \" + \" \" +str(i) + str (avg_loss))\n",
        "     \n",
        "      overall_loss = 0 \n",
        "  latent_z.append(z_semi)\n",
        "  \n",
        "  "
      ],
      "execution_count": null,
      "outputs": []
    },
    {
      "cell_type": "code",
      "metadata": {
        "id": "2JaB2o8nlx2g"
      },
      "source": [
        "\n",
        "\n",
        "G_img= G(z_semi) #generate the img\n",
        "G_img = G_img.to('cpu')  # bring it to cpu\n",
        "npimgs = G_img[0].detach().numpy()  #plot the image\n",
        "print(npimgs.shape)\n",
        "plt.imshow(npimgs[0],cmap='Greys_r')"
      ],
      "execution_count": null,
      "outputs": []
    },
    {
      "cell_type": "markdown",
      "metadata": {
        "id": "ArpFyGaOlyoT"
      },
      "source": [
        "##Distant and yet same prediction"
      ]
    },
    {
      "cell_type": "code",
      "metadata": {
        "id": "hn8vOowel1Ml",
        "colab": {
          "base_uri": "https://localhost:8080/"
        },
        "outputId": "3bbb5dee-0265-409d-be64-4952bbc97022"
      },
      "source": [
        "#Using latent dimension loss\n",
        "\n",
        "import torch.optim as optim\n",
        "import torch\n",
        "cos = nn.CosineSimilarity(dim=1, eps=1e-6)\n",
        "torch.manual_seed(100)\n",
        "#z_semi = torch.randn(1, 100,1,1).to(device)\n",
        "step_size = 0.1\n",
        "\n",
        "#Find the image closer to the original one but target prediction\n",
        "criterion1 = nn.MSELoss()\n",
        "nll = nn.NLLLoss()\n",
        "CE_loss = nn.CrossEntropyLoss()\n",
        "l1_loss = nn.L1Loss()\n",
        "BCE = nn.BCELoss()\n",
        "#optimizer = optim.SGD([z_semi], lr=0.01)\n",
        "\n",
        "\n",
        "#using latent dimension distance\n",
        "latent_z = []\n",
        "for cnt in range(2,3,1):\n",
        "  z_semi = z_org.to(device)\n",
        "  arg_max = 0.01\n",
        "  overall_loss = 0\n",
        "  i=1\n",
        "  \n",
        "  while (i<=30000  ):\n",
        "    z_semi.requires_grad = True\n",
        "        \n",
        "    loss1 = l1_loss(z_org,z_semi) # distance using MSE\n",
        "    #loss2 = criterion1(Classifier_model_logits(G(z_semi))[0][0][0],Classifier_model_logits(G(z_semi))[0][0][0] )\n",
        "    loss2 = CE_loss(Classifier_model_logits(G(z_semi))[1],torch.tensor([3]).to(device) ) # ensure the class is maintained \n",
        "    loss3 = BCE(D(G(z_semi)), torch.tensor([1.0]).to(device))\n",
        "    #loss4=  CE_loss(Classifier_model_logits(G(z_semi))[1],torch.tensor([3]).to(device) ) # maintain the given class\n",
        "\n",
        "\n",
        "\n",
        "    #loss =  loss1 + loss2  # without PR\n",
        "    loss = -loss1 + loss2 + loss3  #with PR\n",
        "    \n",
        "    z_semi.grad = None\n",
        "    loss.backward(retain_graph=True)  \n",
        "    #optimizer.step()  \n",
        "    z_semi.requires_grad = False\n",
        "    z_semi = z_semi - z_semi.grad * step_size\n",
        "    i = i+1\n",
        "    \n",
        "    overall_loss= overall_loss + loss \n",
        "\n",
        "    if (i%5000==0):\n",
        "           \n",
        "      avg_loss = overall_loss/5000.0\n",
        "      print(\"avg_loss \" + \"step \" + \" \" +str(i) + str (avg_loss))\n",
        "     \n",
        "      overall_loss = 0 \n",
        "  latent_z.append(z_semi)\n",
        "  \n",
        "  "
      ],
      "execution_count": 146,
      "outputs": [
        {
          "output_type": "stream",
          "text": [
            "avg_loss step  5000tensor(-3.0032, device='cuda:0', grad_fn=<DivBackward0>)\n",
            "avg_loss step  10000tensor(-7.6776, device='cuda:0', grad_fn=<DivBackward0>)\n",
            "avg_loss step  15000tensor(-12.0811, device='cuda:0', grad_fn=<DivBackward0>)\n",
            "avg_loss step  20000tensor(-16.4946, device='cuda:0', grad_fn=<DivBackward0>)\n",
            "avg_loss step  25000tensor(-20.8831, device='cuda:0', grad_fn=<DivBackward0>)\n",
            "avg_loss step  30000tensor(-25.2616, device='cuda:0', grad_fn=<DivBackward0>)\n"
          ],
          "name": "stdout"
        }
      ]
    },
    {
      "cell_type": "code",
      "metadata": {
        "id": "wx_bFcVIl94C",
        "colab": {
          "base_uri": "https://localhost:8080/",
          "height": 298
        },
        "outputId": "36870008-7dd4-4ea9-9b7b-1defbc8843fe"
      },
      "source": [
        "#Visualize the results\n",
        "\n",
        "G_img= G(z_semi) #generate the img\n",
        "G_img = G_img.to('cpu')  # bring it to cpu\n",
        "npimgs = G_img[0].detach().numpy()  #plot the image\n",
        "print(npimgs.shape)\n",
        "plt.imshow(npimgs[0],cmap='Greys_r')"
      ],
      "execution_count": 147,
      "outputs": [
        {
          "output_type": "stream",
          "text": [
            "(1, 28, 28)\n"
          ],
          "name": "stdout"
        },
        {
          "output_type": "execute_result",
          "data": {
            "text/plain": [
              "<matplotlib.image.AxesImage at 0x7f001f916a10>"
            ]
          },
          "metadata": {},
          "execution_count": 147
        },
        {
          "output_type": "display_data",
          "data": {
            "image/png": "[encoded data removed]",
            "text/plain": [
              "<Figure size 432x288 with 1 Axes>"
            ]
          },
          "metadata": {
            "needs_background": "light"
          }
        }
      ]
    },
    {
      "cell_type": "code",
      "metadata": {
        "colab": {
          "base_uri": "https://localhost:8080/"
        },
        "id": "Tpdd9PRaOeen",
        "outputId": "8178ee68-5267-4900-a80c-51e5ce88ce48"
      },
      "source": [
        "Classifier_model_logits(G(z_semi))[0]"
      ],
      "execution_count": 148,
      "outputs": [
        {
          "output_type": "execute_result",
          "data": {
            "text/plain": [
              "tensor([[1.2844e-05, 1.0625e-04, 1.6681e-03, 9.4879e-01, 8.4761e-08, 4.7154e-04,\n",
              "         2.3684e-06, 4.8433e-02, 3.3756e-05, 4.8518e-04]], device='cuda:0',\n",
              "       grad_fn=<SoftmaxBackward>)"
            ]
          },
          "metadata": {},
          "execution_count": 148
        }
      ]
    },
    {
      "cell_type": "code",
      "metadata": {
        "colab": {
          "base_uri": "https://localhost:8080/"
        },
        "id": "aotIocEJOoBN",
        "outputId": "ad9f829f-e26e-4670-de1b-17a78591f4a1"
      },
      "source": [
        "loss1"
      ],
      "execution_count": 150,
      "outputs": [
        {
          "output_type": "execute_result",
          "data": {
            "text/plain": [
              "tensor(27.5723, device='cuda:0', grad_fn=<L1LossBackward>)"
            ]
          },
          "metadata": {},
          "execution_count": 150
        }
      ]
    },
    {
      "cell_type": "code",
      "metadata": {
        "colab": {
          "base_uri": "https://localhost:8080/"
        },
        "id": "e7tb6014SE5s",
        "outputId": "556f79b6-029d-4c5f-9c60-7d2b1c5bee83"
      },
      "source": [
        "D(G(z_semi))"
      ],
      "execution_count": 149,
      "outputs": [
        {
          "output_type": "execute_result",
          "data": {
            "text/plain": [
              "tensor([0.9344], device='cuda:0', grad_fn=<SqueezeBackward1>)"
            ]
          },
          "metadata": {},
          "execution_count": 149
        }
      ]
    },
    {
      "cell_type": "code",
      "metadata": {
        "id": "Oq7TnTRbmFGo"
      },
      "source": [
        "#Visualize the original image\n",
        "\n",
        "G_img= G(z_org) #generate the img\n",
        "G_img = G_img.to('cpu')  # bring it to cpu\n",
        "npimgs = G_img[0].detach().numpy()  #plot the image\n",
        "print(npimgs.shape)\n",
        "plt.imshow(npimgs[0],cmap='Greys_r')\n"
      ],
      "execution_count": null,
      "outputs": []
    },
    {
      "cell_type": "code",
      "metadata": {
        "id": "VnyorA82mMt-"
      },
      "source": [
        "#Using pixel distance\n",
        "\n",
        "import torch.optim as optim\n",
        "import torch\n",
        "cos = nn.CosineSimilarity(dim=1, eps=1e-6)\n",
        "torch.manual_seed(100)\n",
        "#z_semi = torch.randn(1, 100,1,1).to(device)\n",
        "step_size = 0.1\n",
        "\n",
        "#Find the image closer to the original one but target prediction\n",
        "criterion1 = nn.MSELoss()\n",
        "nll = nn.NLLLoss()\n",
        "CE_loss = nn.CrossEntropyLoss()\n",
        "l1_loss = nn.L1Loss()\n",
        "BCE = nn.BCELoss()\n",
        "#optimizer = optim.SGD([z_semi], lr=0.01)\n",
        "\n",
        "\n",
        "#using latent dimension distance\n",
        "latent_z = []\n",
        "for cnt in range(2,3,1):\n",
        "  z_semi = z_org.to(device)\n",
        "  arg_max = 0.01\n",
        "  overall_loss = 0\n",
        "  i=1\n",
        "  \n",
        "  while (i<=30000  ):\n",
        "    z_semi.requires_grad = True\n",
        "        \n",
        "    loss1 = l1_loss(G(z_org),G(z_semi)) # distance using MSE\n",
        "    #loss2 = criterion1(Classifier_model_logits(G(z_semi))[0][0][0],Classifier_model_logits(G(z_semi))[0][0][0] )\n",
        "    #loss2 = CE_loss(Classifier_model_logits(G(z_semi))[1],torch.tensor([cnt]).to(device) ) # ensure the class is maintained \n",
        "    loss3 = BCE(D(G(z_semi)), torch.tensor([1.0]).to(device))\n",
        "    loss4=  CE_loss(Classifier_model_logits(G(z_semi))[1],torch.tensor([5]).to(device) )\n",
        "\n",
        "\n",
        "\n",
        "    #loss =  loss1 + loss2  # without PR\n",
        "    loss = -loss1 + loss4 + loss3 #with PR\n",
        "    \n",
        "    z_semi.grad = None\n",
        "    loss.backward(retain_graph=True)  \n",
        "    #optimizer.step()  \n",
        "    z_semi.requires_grad = False\n",
        "    z_semi = z_semi - z_semi.grad * step_size\n",
        "    i = i+1\n",
        "    \n",
        "    overall_loss= overall_loss + loss \n",
        "\n",
        "    if (i%5000==0):\n",
        "           \n",
        "      avg_loss = overall_loss/5000.0\n",
        "      print(\"avg_loss \" + \"step \" + \" \" +str(i) + str (avg_loss))\n",
        "     \n",
        "      overall_loss = 0 \n",
        "  latent_z.append(z_semi)\n",
        "  \n",
        "  "
      ],
      "execution_count": null,
      "outputs": []
    },
    {
      "cell_type": "code",
      "metadata": {
        "id": "OfDGL5HYmPEw"
      },
      "source": [
        "#Visualize the results\n",
        "\n",
        "G_img= G(z_semi) #generate the img\n",
        "G_img = G_img.to('cpu')  # bring it to cpu\n",
        "npimgs = G_img[0].detach().numpy()  #plot the image\n",
        "print(npimgs.shape)\n",
        "plt.imshow(npimgs[0],cmap='Greys_r')"
      ],
      "execution_count": null,
      "outputs": []
    },
    {
      "cell_type": "code",
      "metadata": {
        "id": "SBelnNVK2YSg"
      },
      "source": [
        ""
      ],
      "execution_count": null,
      "outputs": []
    },
    {
      "cell_type": "code",
      "metadata": {
        "id": "ZjYFx0oL2hOD"
      },
      "source": [
        ""
      ],
      "execution_count": null,
      "outputs": []
    },
    {
      "cell_type": "markdown",
      "metadata": {
        "id": "NGizVaTWoZ_b"
      },
      "source": [
        "## Experiments"
      ]
    },
    {
      "cell_type": "code",
      "metadata": {
        "colab": {
          "base_uri": "https://localhost:8080/",
          "height": 1000
        },
        "id": "pQrmgnZPoc8y",
        "outputId": "73ab68e4-e854-4851-b524-1a808f7745a1"
      },
      "source": [
        "#Find the Cfs using loss function which also takes into consideration the pixel loss\n",
        "\n",
        "\"\"\"\n",
        "Loss1 - L1 dist between z and z org\n",
        "Loss4 - L1 dist between sample img and G(z)\n",
        "Loss2 - CE loss for intended class\n",
        "Loss3 - Plausibility loss\n",
        "\"\"\"\n",
        "\n",
        "torch.cuda.manual_seed(123)\n",
        "torch.cuda.manual_seed_all(123)\n",
        "torch.backends.cudnn.deterministic = True\n",
        "torch.backends.cudnn.benchmark = False\n",
        "\n",
        "import torch.optim as optim\n",
        "import torch\n",
        "\n",
        "torch.manual_seed(100)\n",
        "z_semi = torch.randn(2, 100,1,1).to(device)\n",
        "step_size = 0.01\n",
        "min_loss = 100\n",
        "#Find the image closer to the original one but target prediction\n",
        "criterion1 = nn.MSELoss()\n",
        "nll = nn.NLLLoss()\n",
        "CE_loss = nn.CrossEntropyLoss()\n",
        "l1_loss = nn.L1Loss()\n",
        "BCE = nn.BCELoss()\n",
        "diversity_loss = nn.CosineEmbeddingLoss()\n",
        "#print(diversity_loss(z_semi,z_org,torch.tensor([1]).to(device)))\n",
        "#optimizer = optim.Adam([z_semi], lr=0.01)\n",
        "\n",
        "\n",
        "#using latent dimension distance\n",
        "latent_z_journey = []\n",
        "for cnt in range(5,6,1):\n",
        "  #z_semi = z_org.clone().detach().to(device)\n",
        "  z_original_array = z_org.clone().detach().to(device)\n",
        "  sample_img_array = sample_image.clone().detach().to(device)\n",
        "  for i in range(1):\n",
        "  \n",
        "   #z_semi = torch.cat([z_semi, z_semi] , dim=0)\n",
        "   z_original_array = torch.cat([z_original_array, z_original_array] , dim=0)\n",
        "   sample_img_array = torch.cat([sample_img_array, sample_img_array] , dim=0)\n",
        "\n",
        "  overall_loss = 0\n",
        "  i=1\n",
        "  while (i<=10000):\n",
        "    z_semi.requires_grad = True\n",
        "        \n",
        "    loss1 = torch.mean(torch.abs(z_semi)) # distance using L1\n",
        "    loss4 = l1_loss(sample_img_array,G(z_original_array + z_semi))\n",
        "    loss2 = CE_loss(Classifier_model_logits(G(z_original_array + z_semi))[1],torch.tensor([cnt,cnt]).to(device) ) # ensure the class is maintained \n",
        "    loss3 = BCE(D(G(z_original_array + z_semi)), torch.tensor([1.0,1.0]).to(device))\n",
        "    #loss5 = diversity_loss(z_semi[0], z_semi[1],torch.tensor([-1]).to(device))\n",
        "    loss5 = l1_loss(z_original_array + z_semi[0], z_semi[1])\n",
        "\n",
        "       \n",
        "    #loss =  loss1 + loss2 + loss4 # without PR\n",
        "    loss = loss1 + loss2 + loss4 -loss5  + loss3 #with PR\n",
        "    #print(loss5)\n",
        "    #optimizer.zero_grad()\n",
        "    #loss.backward()\n",
        "    #optimizer.step()\n",
        "\n",
        "    \n",
        "    z_semi.grad = None\n",
        "    loss.backward(retain_graph=True)  \n",
        "    #optimizer.step()  \n",
        "    z_semi.requires_grad = False\n",
        "    z_semi = z_semi - (z_semi.grad * step_size)\n",
        "\n",
        "    if(loss1>0.9):\n",
        "      print(\"loss 1 higher\")\n",
        "      z_semi = z_semi - (z_semi -0.9) \n",
        "    \n",
        "    i = i+1\n",
        "    overall_loss= overall_loss + loss \n",
        "    \n",
        "    if (i%100==0):\n",
        "           \n",
        "      avg_loss = overall_loss/100.0\n",
        "      print(\"avg_loss \" + \"step \" + \" \" +str(i) + str (avg_loss))\n",
        "      #print(loss5)\n",
        "      overall_loss = 0 \n",
        "      latent_z_journey.append(z_semi)\n",
        "      if(avg_loss<min_loss):\n",
        "        min_loss = avg_loss\n",
        "        z_semi_final = z_semi\n",
        "\n",
        "  \n",
        "\n",
        "  \n",
        "  "
      ],
      "execution_count": 254,
      "outputs": [
        {
          "output_type": "stream",
          "text": [
            "/usr/local/lib/python3.7/dist-packages/torch/nn/modules/loss.py:97: UserWarning: Using a target size (torch.Size([100, 1, 1])) that is different to the input size (torch.Size([2, 100, 1, 1])). This will likely lead to incorrect results due to broadcasting. Please ensure they have the same size.\n",
            "  return F.l1_loss(input, target, reduction=self.reduction)\n"
          ],
          "name": "stderr"
        },
        {
          "output_type": "stream",
          "text": [
            "avg_loss step  100tensor(0.7417, device='cuda:0', grad_fn=<DivBackward0>)\n",
            "avg_loss step  200tensor(-0.2055, device='cuda:0', grad_fn=<DivBackward0>)\n",
            "avg_loss step  300tensor(-0.3302, device='cuda:0', grad_fn=<DivBackward0>)\n",
            "avg_loss step  400tensor(-0.3988, device='cuda:0', grad_fn=<DivBackward0>)\n",
            "avg_loss step  500tensor(-0.4352, device='cuda:0', grad_fn=<DivBackward0>)\n",
            "avg_loss step  600tensor(-0.4624, device='cuda:0', grad_fn=<DivBackward0>)\n",
            "avg_loss step  700tensor(-0.4916, device='cuda:0', grad_fn=<DivBackward0>)\n",
            "avg_loss step  800tensor(-0.5225, device='cuda:0', grad_fn=<DivBackward0>)\n",
            "avg_loss step  900tensor(-0.5460, device='cuda:0', grad_fn=<DivBackward0>)\n",
            "avg_loss step  1000tensor(-0.5671, device='cuda:0', grad_fn=<DivBackward0>)\n",
            "avg_loss step  1100tensor(-0.5874, device='cuda:0', grad_fn=<DivBackward0>)\n",
            "avg_loss step  1200tensor(-0.6043, device='cuda:0', grad_fn=<DivBackward0>)\n",
            "avg_loss step  1300tensor(-0.6196, device='cuda:0', grad_fn=<DivBackward0>)\n",
            "avg_loss step  1400tensor(-0.6339, device='cuda:0', grad_fn=<DivBackward0>)\n",
            "avg_loss step  1500tensor(-0.6477, device='cuda:0', grad_fn=<DivBackward0>)\n",
            "avg_loss step  1600tensor(-0.6613, device='cuda:0', grad_fn=<DivBackward0>)\n",
            "avg_loss step  1700tensor(-0.6744, device='cuda:0', grad_fn=<DivBackward0>)\n",
            "avg_loss step  1800tensor(-0.6874, device='cuda:0', grad_fn=<DivBackward0>)\n",
            "avg_loss step  1900tensor(-0.6998, device='cuda:0', grad_fn=<DivBackward0>)\n",
            "avg_loss step  2000tensor(-0.7118, device='cuda:0', grad_fn=<DivBackward0>)\n",
            "avg_loss step  2100tensor(-0.7236, device='cuda:0', grad_fn=<DivBackward0>)\n",
            "avg_loss step  2200tensor(-0.7353, device='cuda:0', grad_fn=<DivBackward0>)\n",
            "avg_loss step  2300tensor(-0.7470, device='cuda:0', grad_fn=<DivBackward0>)\n",
            "avg_loss step  2400tensor(-0.7587, device='cuda:0', grad_fn=<DivBackward0>)\n",
            "avg_loss step  2500tensor(-0.7702, device='cuda:0', grad_fn=<DivBackward0>)\n",
            "avg_loss step  2600tensor(-0.7813, device='cuda:0', grad_fn=<DivBackward0>)\n",
            "avg_loss step  2700tensor(-0.7925, device='cuda:0', grad_fn=<DivBackward0>)\n",
            "avg_loss step  2800tensor(-0.8063, device='cuda:0', grad_fn=<DivBackward0>)\n",
            "avg_loss step  2900tensor(-0.8174, device='cuda:0', grad_fn=<DivBackward0>)\n",
            "avg_loss step  3000tensor(-0.8274, device='cuda:0', grad_fn=<DivBackward0>)\n",
            "avg_loss step  3100tensor(-0.8372, device='cuda:0', grad_fn=<DivBackward0>)\n",
            "avg_loss step  3200tensor(-0.8469, device='cuda:0', grad_fn=<DivBackward0>)\n",
            "avg_loss step  3300tensor(-0.8565, device='cuda:0', grad_fn=<DivBackward0>)\n",
            "avg_loss step  3400tensor(-0.8662, device='cuda:0', grad_fn=<DivBackward0>)\n",
            "avg_loss step  3500tensor(-0.8756, device='cuda:0', grad_fn=<DivBackward0>)\n",
            "avg_loss step  3600tensor(-0.8846, device='cuda:0', grad_fn=<DivBackward0>)\n",
            "avg_loss step  3700tensor(-0.8935, device='cuda:0', grad_fn=<DivBackward0>)\n",
            "avg_loss step  3800tensor(-0.9025, device='cuda:0', grad_fn=<DivBackward0>)\n",
            "avg_loss step  3900tensor(-0.9112, device='cuda:0', grad_fn=<DivBackward0>)\n",
            "avg_loss step  4000tensor(-0.9198, device='cuda:0', grad_fn=<DivBackward0>)\n",
            "avg_loss step  4100tensor(-0.9285, device='cuda:0', grad_fn=<DivBackward0>)\n",
            "avg_loss step  4200tensor(-0.9372, device='cuda:0', grad_fn=<DivBackward0>)\n",
            "avg_loss step  4300tensor(-0.9456, device='cuda:0', grad_fn=<DivBackward0>)\n",
            "avg_loss step  4400tensor(-0.9539, device='cuda:0', grad_fn=<DivBackward0>)\n",
            "avg_loss step  4500tensor(-0.9620, device='cuda:0', grad_fn=<DivBackward0>)\n",
            "avg_loss step  4600tensor(-0.9701, device='cuda:0', grad_fn=<DivBackward0>)\n",
            "avg_loss step  4700tensor(-0.9781, device='cuda:0', grad_fn=<DivBackward0>)\n",
            "avg_loss step  4800tensor(-0.9859, device='cuda:0', grad_fn=<DivBackward0>)\n",
            "avg_loss step  4900tensor(-0.9937, device='cuda:0', grad_fn=<DivBackward0>)\n",
            "avg_loss step  5000tensor(-1.0018, device='cuda:0', grad_fn=<DivBackward0>)\n",
            "avg_loss step  5100tensor(-1.0104, device='cuda:0', grad_fn=<DivBackward0>)\n",
            "avg_loss step  5200tensor(-1.0186, device='cuda:0', grad_fn=<DivBackward0>)\n",
            "loss 1 higher\n",
            "loss 1 higher\n",
            "loss 1 higher\n",
            "loss 1 higher\n",
            "loss 1 higher\n",
            "loss 1 higher\n",
            "loss 1 higher\n",
            "loss 1 higher\n",
            "avg_loss step  5300tensor(2.8629, device='cuda:0', grad_fn=<DivBackward0>)\n",
            "loss 1 higher\n",
            "loss 1 higher\n",
            "loss 1 higher\n",
            "loss 1 higher\n",
            "loss 1 higher\n",
            "loss 1 higher\n",
            "loss 1 higher\n",
            "loss 1 higher\n",
            "loss 1 higher\n",
            "loss 1 higher\n",
            "loss 1 higher\n",
            "loss 1 higher\n",
            "loss 1 higher\n",
            "loss 1 higher\n",
            "loss 1 higher\n",
            "loss 1 higher\n",
            "loss 1 higher\n",
            "loss 1 higher\n",
            "loss 1 higher\n",
            "loss 1 higher\n",
            "loss 1 higher\n",
            "loss 1 higher\n",
            "loss 1 higher\n",
            "loss 1 higher\n",
            "loss 1 higher\n",
            "loss 1 higher\n",
            "loss 1 higher\n",
            "loss 1 higher\n",
            "loss 1 higher\n",
            "loss 1 higher\n",
            "loss 1 higher\n",
            "loss 1 higher\n",
            "loss 1 higher\n",
            "loss 1 higher\n",
            "loss 1 higher\n",
            "loss 1 higher\n",
            "loss 1 higher\n",
            "loss 1 higher\n",
            "loss 1 higher\n",
            "loss 1 higher\n",
            "loss 1 higher\n",
            "loss 1 higher\n",
            "loss 1 higher\n",
            "loss 1 higher\n",
            "loss 1 higher\n",
            "loss 1 higher\n",
            "loss 1 higher\n",
            "loss 1 higher\n",
            "loss 1 higher\n",
            "loss 1 higher\n",
            "avg_loss step  5400tensor(24.8934, device='cuda:0', grad_fn=<DivBackward0>)\n",
            "loss 1 higher\n",
            "loss 1 higher\n",
            "loss 1 higher\n",
            "loss 1 higher\n",
            "loss 1 higher\n",
            "loss 1 higher\n",
            "loss 1 higher\n",
            "loss 1 higher\n",
            "loss 1 higher\n",
            "loss 1 higher\n",
            "loss 1 higher\n",
            "loss 1 higher\n",
            "loss 1 higher\n",
            "loss 1 higher\n",
            "loss 1 higher\n",
            "loss 1 higher\n",
            "loss 1 higher\n",
            "loss 1 higher\n",
            "loss 1 higher\n",
            "loss 1 higher\n",
            "loss 1 higher\n",
            "loss 1 higher\n",
            "loss 1 higher\n",
            "loss 1 higher\n",
            "loss 1 higher\n",
            "loss 1 higher\n",
            "loss 1 higher\n",
            "loss 1 higher\n",
            "loss 1 higher\n",
            "loss 1 higher\n",
            "loss 1 higher\n",
            "loss 1 higher\n",
            "loss 1 higher\n",
            "loss 1 higher\n",
            "loss 1 higher\n",
            "loss 1 higher\n",
            "loss 1 higher\n",
            "loss 1 higher\n",
            "loss 1 higher\n",
            "loss 1 higher\n",
            "loss 1 higher\n",
            "loss 1 higher\n",
            "loss 1 higher\n",
            "loss 1 higher\n",
            "loss 1 higher\n",
            "loss 1 higher\n",
            "loss 1 higher\n",
            "loss 1 higher\n",
            "loss 1 higher\n",
            "loss 1 higher\n",
            "avg_loss step  5500tensor(24.8934, device='cuda:0', grad_fn=<DivBackward0>)\n",
            "loss 1 higher\n",
            "loss 1 higher\n",
            "loss 1 higher\n",
            "loss 1 higher\n",
            "loss 1 higher\n",
            "loss 1 higher\n",
            "loss 1 higher\n",
            "loss 1 higher\n",
            "loss 1 higher\n",
            "loss 1 higher\n",
            "loss 1 higher\n",
            "loss 1 higher\n",
            "loss 1 higher\n",
            "loss 1 higher\n",
            "loss 1 higher\n",
            "loss 1 higher\n",
            "loss 1 higher\n",
            "loss 1 higher\n",
            "loss 1 higher\n",
            "loss 1 higher\n",
            "loss 1 higher\n",
            "loss 1 higher\n",
            "loss 1 higher\n",
            "loss 1 higher\n",
            "loss 1 higher\n",
            "loss 1 higher\n",
            "loss 1 higher\n",
            "loss 1 higher\n",
            "loss 1 higher\n",
            "loss 1 higher\n",
            "loss 1 higher\n",
            "loss 1 higher\n",
            "loss 1 higher\n",
            "loss 1 higher\n",
            "loss 1 higher\n",
            "loss 1 higher\n",
            "loss 1 higher\n",
            "loss 1 higher\n",
            "loss 1 higher\n",
            "loss 1 higher\n",
            "loss 1 higher\n",
            "loss 1 higher\n",
            "loss 1 higher\n",
            "loss 1 higher\n",
            "loss 1 higher\n",
            "loss 1 higher\n",
            "loss 1 higher\n",
            "loss 1 higher\n",
            "loss 1 higher\n",
            "loss 1 higher\n",
            "avg_loss step  5600tensor(24.8934, device='cuda:0', grad_fn=<DivBackward0>)\n",
            "loss 1 higher\n",
            "loss 1 higher\n",
            "loss 1 higher\n",
            "loss 1 higher\n",
            "loss 1 higher\n",
            "loss 1 higher\n",
            "loss 1 higher\n",
            "loss 1 higher\n",
            "loss 1 higher\n",
            "loss 1 higher\n",
            "loss 1 higher\n",
            "loss 1 higher\n",
            "loss 1 higher\n",
            "loss 1 higher\n",
            "loss 1 higher\n",
            "loss 1 higher\n",
            "loss 1 higher\n",
            "loss 1 higher\n",
            "loss 1 higher\n",
            "loss 1 higher\n",
            "loss 1 higher\n",
            "loss 1 higher\n",
            "loss 1 higher\n",
            "loss 1 higher\n",
            "loss 1 higher\n",
            "loss 1 higher\n",
            "loss 1 higher\n",
            "loss 1 higher\n",
            "loss 1 higher\n",
            "loss 1 higher\n",
            "loss 1 higher\n",
            "loss 1 higher\n",
            "loss 1 higher\n",
            "loss 1 higher\n",
            "loss 1 higher\n",
            "loss 1 higher\n",
            "loss 1 higher\n",
            "loss 1 higher\n",
            "loss 1 higher\n",
            "loss 1 higher\n",
            "loss 1 higher\n",
            "loss 1 higher\n",
            "loss 1 higher\n",
            "loss 1 higher\n",
            "loss 1 higher\n",
            "loss 1 higher\n",
            "loss 1 higher\n",
            "loss 1 higher\n",
            "loss 1 higher\n",
            "loss 1 higher\n",
            "avg_loss step  5700tensor(24.8934, device='cuda:0', grad_fn=<DivBackward0>)\n",
            "loss 1 higher\n",
            "loss 1 higher\n",
            "loss 1 higher\n",
            "loss 1 higher\n",
            "loss 1 higher\n",
            "loss 1 higher\n",
            "loss 1 higher\n",
            "loss 1 higher\n",
            "loss 1 higher\n",
            "loss 1 higher\n",
            "loss 1 higher\n",
            "loss 1 higher\n",
            "loss 1 higher\n",
            "loss 1 higher\n",
            "loss 1 higher\n",
            "loss 1 higher\n",
            "loss 1 higher\n",
            "loss 1 higher\n",
            "loss 1 higher\n",
            "loss 1 higher\n",
            "loss 1 higher\n",
            "loss 1 higher\n",
            "loss 1 higher\n",
            "loss 1 higher\n",
            "loss 1 higher\n",
            "loss 1 higher\n",
            "loss 1 higher\n",
            "loss 1 higher\n",
            "loss 1 higher\n",
            "loss 1 higher\n",
            "loss 1 higher\n",
            "loss 1 higher\n",
            "loss 1 higher\n",
            "loss 1 higher\n",
            "loss 1 higher\n",
            "loss 1 higher\n",
            "loss 1 higher\n",
            "loss 1 higher\n",
            "loss 1 higher\n",
            "loss 1 higher\n",
            "loss 1 higher\n",
            "loss 1 higher\n",
            "loss 1 higher\n",
            "loss 1 higher\n",
            "loss 1 higher\n",
            "loss 1 higher\n",
            "loss 1 higher\n",
            "loss 1 higher\n",
            "loss 1 higher\n",
            "loss 1 higher\n",
            "avg_loss step  5800tensor(24.8934, device='cuda:0', grad_fn=<DivBackward0>)\n",
            "loss 1 higher\n",
            "loss 1 higher\n",
            "loss 1 higher\n",
            "loss 1 higher\n",
            "loss 1 higher\n",
            "loss 1 higher\n",
            "loss 1 higher\n",
            "loss 1 higher\n",
            "loss 1 higher\n",
            "loss 1 higher\n",
            "loss 1 higher\n",
            "loss 1 higher\n",
            "loss 1 higher\n",
            "loss 1 higher\n",
            "loss 1 higher\n",
            "loss 1 higher\n",
            "loss 1 higher\n",
            "loss 1 higher\n",
            "loss 1 higher\n",
            "loss 1 higher\n",
            "loss 1 higher\n",
            "loss 1 higher\n",
            "loss 1 higher\n",
            "loss 1 higher\n",
            "loss 1 higher\n",
            "loss 1 higher\n",
            "loss 1 higher\n",
            "loss 1 higher\n",
            "loss 1 higher\n",
            "loss 1 higher\n",
            "loss 1 higher\n",
            "loss 1 higher\n",
            "loss 1 higher\n",
            "loss 1 higher\n",
            "loss 1 higher\n",
            "loss 1 higher\n",
            "loss 1 higher\n",
            "loss 1 higher\n",
            "loss 1 higher\n",
            "loss 1 higher\n",
            "loss 1 higher\n",
            "loss 1 higher\n",
            "loss 1 higher\n",
            "loss 1 higher\n",
            "loss 1 higher\n",
            "loss 1 higher\n",
            "loss 1 higher\n",
            "loss 1 higher\n",
            "loss 1 higher\n",
            "loss 1 higher\n",
            "avg_loss step  5900tensor(24.8934, device='cuda:0', grad_fn=<DivBackward0>)\n",
            "loss 1 higher\n",
            "loss 1 higher\n",
            "loss 1 higher\n",
            "loss 1 higher\n",
            "loss 1 higher\n",
            "loss 1 higher\n",
            "loss 1 higher\n",
            "loss 1 higher\n",
            "loss 1 higher\n",
            "loss 1 higher\n",
            "loss 1 higher\n",
            "loss 1 higher\n",
            "loss 1 higher\n",
            "loss 1 higher\n",
            "loss 1 higher\n",
            "loss 1 higher\n",
            "loss 1 higher\n",
            "loss 1 higher\n",
            "loss 1 higher\n",
            "loss 1 higher\n",
            "loss 1 higher\n",
            "loss 1 higher\n",
            "loss 1 higher\n",
            "loss 1 higher\n",
            "loss 1 higher\n",
            "loss 1 higher\n",
            "loss 1 higher\n",
            "loss 1 higher\n",
            "loss 1 higher\n",
            "loss 1 higher\n",
            "loss 1 higher\n",
            "loss 1 higher\n",
            "loss 1 higher\n",
            "loss 1 higher\n",
            "loss 1 higher\n",
            "loss 1 higher\n",
            "loss 1 higher\n",
            "loss 1 higher\n",
            "loss 1 higher\n",
            "loss 1 higher\n",
            "loss 1 higher\n",
            "loss 1 higher\n",
            "loss 1 higher\n",
            "loss 1 higher\n",
            "loss 1 higher\n",
            "loss 1 higher\n",
            "loss 1 higher\n",
            "loss 1 higher\n",
            "loss 1 higher\n",
            "loss 1 higher\n",
            "avg_loss step  6000tensor(24.8934, device='cuda:0', grad_fn=<DivBackward0>)\n",
            "loss 1 higher\n",
            "loss 1 higher\n",
            "loss 1 higher\n",
            "loss 1 higher\n",
            "loss 1 higher\n",
            "loss 1 higher\n",
            "loss 1 higher\n",
            "loss 1 higher\n",
            "loss 1 higher\n",
            "loss 1 higher\n",
            "loss 1 higher\n",
            "loss 1 higher\n",
            "loss 1 higher\n",
            "loss 1 higher\n",
            "loss 1 higher\n",
            "loss 1 higher\n",
            "loss 1 higher\n",
            "loss 1 higher\n",
            "loss 1 higher\n",
            "loss 1 higher\n",
            "loss 1 higher\n",
            "loss 1 higher\n",
            "loss 1 higher\n",
            "loss 1 higher\n",
            "loss 1 higher\n",
            "loss 1 higher\n",
            "loss 1 higher\n",
            "loss 1 higher\n",
            "loss 1 higher\n",
            "loss 1 higher\n",
            "loss 1 higher\n",
            "loss 1 higher\n",
            "loss 1 higher\n",
            "loss 1 higher\n",
            "loss 1 higher\n",
            "loss 1 higher\n",
            "loss 1 higher\n",
            "loss 1 higher\n",
            "loss 1 higher\n",
            "loss 1 higher\n",
            "loss 1 higher\n",
            "loss 1 higher\n",
            "loss 1 higher\n",
            "loss 1 higher\n",
            "loss 1 higher\n",
            "loss 1 higher\n",
            "loss 1 higher\n",
            "loss 1 higher\n",
            "loss 1 higher\n",
            "loss 1 higher\n",
            "avg_loss step  6100tensor(24.8934, device='cuda:0', grad_fn=<DivBackward0>)\n",
            "loss 1 higher\n",
            "loss 1 higher\n",
            "loss 1 higher\n",
            "loss 1 higher\n",
            "loss 1 higher\n",
            "loss 1 higher\n",
            "loss 1 higher\n",
            "loss 1 higher\n",
            "loss 1 higher\n",
            "loss 1 higher\n",
            "loss 1 higher\n",
            "loss 1 higher\n",
            "loss 1 higher\n",
            "loss 1 higher\n",
            "loss 1 higher\n",
            "loss 1 higher\n",
            "loss 1 higher\n",
            "loss 1 higher\n",
            "loss 1 higher\n",
            "loss 1 higher\n",
            "loss 1 higher\n",
            "loss 1 higher\n",
            "loss 1 higher\n",
            "loss 1 higher\n",
            "loss 1 higher\n",
            "loss 1 higher\n",
            "loss 1 higher\n",
            "loss 1 higher\n",
            "loss 1 higher\n",
            "loss 1 higher\n",
            "loss 1 higher\n",
            "loss 1 higher\n",
            "loss 1 higher\n",
            "loss 1 higher\n",
            "loss 1 higher\n",
            "loss 1 higher\n",
            "loss 1 higher\n",
            "loss 1 higher\n",
            "loss 1 higher\n",
            "loss 1 higher\n",
            "loss 1 higher\n",
            "loss 1 higher\n",
            "loss 1 higher\n",
            "loss 1 higher\n",
            "loss 1 higher\n",
            "loss 1 higher\n",
            "loss 1 higher\n",
            "loss 1 higher\n",
            "loss 1 higher\n",
            "loss 1 higher\n",
            "avg_loss step  6200tensor(24.8934, device='cuda:0', grad_fn=<DivBackward0>)\n",
            "loss 1 higher\n",
            "loss 1 higher\n",
            "loss 1 higher\n",
            "loss 1 higher\n",
            "loss 1 higher\n",
            "loss 1 higher\n",
            "loss 1 higher\n",
            "loss 1 higher\n",
            "loss 1 higher\n",
            "loss 1 higher\n",
            "loss 1 higher\n",
            "loss 1 higher\n",
            "loss 1 higher\n",
            "loss 1 higher\n",
            "loss 1 higher\n",
            "loss 1 higher\n",
            "loss 1 higher\n",
            "loss 1 higher\n",
            "loss 1 higher\n",
            "loss 1 higher\n",
            "loss 1 higher\n",
            "loss 1 higher\n",
            "loss 1 higher\n",
            "loss 1 higher\n",
            "loss 1 higher\n",
            "loss 1 higher\n",
            "loss 1 higher\n",
            "loss 1 higher\n",
            "loss 1 higher\n",
            "loss 1 higher\n",
            "loss 1 higher\n",
            "loss 1 higher\n",
            "loss 1 higher\n",
            "loss 1 higher\n",
            "loss 1 higher\n",
            "loss 1 higher\n",
            "loss 1 higher\n",
            "loss 1 higher\n",
            "loss 1 higher\n",
            "loss 1 higher\n",
            "loss 1 higher\n",
            "loss 1 higher\n",
            "loss 1 higher\n",
            "loss 1 higher\n",
            "loss 1 higher\n",
            "loss 1 higher\n",
            "loss 1 higher\n",
            "loss 1 higher\n",
            "loss 1 higher\n",
            "loss 1 higher\n",
            "avg_loss step  6300tensor(24.8934, device='cuda:0', grad_fn=<DivBackward0>)\n",
            "loss 1 higher\n",
            "loss 1 higher\n",
            "loss 1 higher\n",
            "loss 1 higher\n",
            "loss 1 higher\n",
            "loss 1 higher\n",
            "loss 1 higher\n",
            "loss 1 higher\n",
            "loss 1 higher\n",
            "loss 1 higher\n",
            "loss 1 higher\n",
            "loss 1 higher\n",
            "loss 1 higher\n",
            "loss 1 higher\n",
            "loss 1 higher\n",
            "loss 1 higher\n",
            "loss 1 higher\n",
            "loss 1 higher\n",
            "loss 1 higher\n",
            "loss 1 higher\n",
            "loss 1 higher\n",
            "loss 1 higher\n",
            "loss 1 higher\n",
            "loss 1 higher\n",
            "loss 1 higher\n",
            "loss 1 higher\n",
            "loss 1 higher\n",
            "loss 1 higher\n",
            "loss 1 higher\n",
            "loss 1 higher\n",
            "loss 1 higher\n",
            "loss 1 higher\n",
            "loss 1 higher\n",
            "loss 1 higher\n",
            "loss 1 higher\n",
            "loss 1 higher\n",
            "loss 1 higher\n",
            "loss 1 higher\n",
            "loss 1 higher\n",
            "loss 1 higher\n",
            "loss 1 higher\n",
            "loss 1 higher\n",
            "loss 1 higher\n",
            "loss 1 higher\n",
            "loss 1 higher\n",
            "loss 1 higher\n",
            "loss 1 higher\n",
            "loss 1 higher\n",
            "loss 1 higher\n",
            "loss 1 higher\n",
            "avg_loss step  6400tensor(24.8934, device='cuda:0', grad_fn=<DivBackward0>)\n",
            "loss 1 higher\n",
            "loss 1 higher\n",
            "loss 1 higher\n",
            "loss 1 higher\n",
            "loss 1 higher\n",
            "loss 1 higher\n",
            "loss 1 higher\n",
            "loss 1 higher\n",
            "loss 1 higher\n",
            "loss 1 higher\n",
            "loss 1 higher\n",
            "loss 1 higher\n",
            "loss 1 higher\n",
            "loss 1 higher\n",
            "loss 1 higher\n",
            "loss 1 higher\n",
            "loss 1 higher\n",
            "loss 1 higher\n",
            "loss 1 higher\n",
            "loss 1 higher\n",
            "loss 1 higher\n",
            "loss 1 higher\n",
            "loss 1 higher\n",
            "loss 1 higher\n",
            "loss 1 higher\n",
            "loss 1 higher\n",
            "loss 1 higher\n",
            "loss 1 higher\n",
            "loss 1 higher\n",
            "loss 1 higher\n",
            "loss 1 higher\n",
            "loss 1 higher\n",
            "loss 1 higher\n",
            "loss 1 higher\n",
            "loss 1 higher\n",
            "loss 1 higher\n",
            "loss 1 higher\n",
            "loss 1 higher\n",
            "loss 1 higher\n",
            "loss 1 higher\n",
            "loss 1 higher\n",
            "loss 1 higher\n",
            "loss 1 higher\n",
            "loss 1 higher\n",
            "loss 1 higher\n",
            "loss 1 higher\n",
            "loss 1 higher\n",
            "loss 1 higher\n",
            "loss 1 higher\n",
            "loss 1 higher\n",
            "avg_loss step  6500tensor(24.8934, device='cuda:0', grad_fn=<DivBackward0>)\n",
            "loss 1 higher\n",
            "loss 1 higher\n",
            "loss 1 higher\n",
            "loss 1 higher\n",
            "loss 1 higher\n",
            "loss 1 higher\n",
            "loss 1 higher\n",
            "loss 1 higher\n",
            "loss 1 higher\n",
            "loss 1 higher\n",
            "loss 1 higher\n",
            "loss 1 higher\n",
            "loss 1 higher\n",
            "loss 1 higher\n",
            "loss 1 higher\n",
            "loss 1 higher\n",
            "loss 1 higher\n",
            "loss 1 higher\n",
            "loss 1 higher\n",
            "loss 1 higher\n",
            "loss 1 higher\n",
            "loss 1 higher\n",
            "loss 1 higher\n",
            "loss 1 higher\n",
            "loss 1 higher\n",
            "loss 1 higher\n",
            "loss 1 higher\n",
            "loss 1 higher\n",
            "loss 1 higher\n",
            "loss 1 higher\n",
            "loss 1 higher\n",
            "loss 1 higher\n",
            "loss 1 higher\n",
            "loss 1 higher\n",
            "loss 1 higher\n",
            "loss 1 higher\n",
            "loss 1 higher\n",
            "loss 1 higher\n",
            "loss 1 higher\n",
            "loss 1 higher\n",
            "loss 1 higher\n",
            "loss 1 higher\n",
            "loss 1 higher\n",
            "loss 1 higher\n",
            "loss 1 higher\n",
            "loss 1 higher\n",
            "loss 1 higher\n",
            "loss 1 higher\n",
            "loss 1 higher\n",
            "loss 1 higher\n",
            "avg_loss step  6600tensor(24.8934, device='cuda:0', grad_fn=<DivBackward0>)\n",
            "loss 1 higher\n",
            "loss 1 higher\n",
            "loss 1 higher\n",
            "loss 1 higher\n",
            "loss 1 higher\n",
            "loss 1 higher\n",
            "loss 1 higher\n",
            "loss 1 higher\n",
            "loss 1 higher\n",
            "loss 1 higher\n",
            "loss 1 higher\n",
            "loss 1 higher\n",
            "loss 1 higher\n",
            "loss 1 higher\n",
            "loss 1 higher\n",
            "loss 1 higher\n",
            "loss 1 higher\n",
            "loss 1 higher\n",
            "loss 1 higher\n",
            "loss 1 higher\n",
            "loss 1 higher\n",
            "loss 1 higher\n",
            "loss 1 higher\n",
            "loss 1 higher\n",
            "loss 1 higher\n",
            "loss 1 higher\n",
            "loss 1 higher\n",
            "loss 1 higher\n",
            "loss 1 higher\n",
            "loss 1 higher\n",
            "loss 1 higher\n",
            "loss 1 higher\n",
            "loss 1 higher\n",
            "loss 1 higher\n",
            "loss 1 higher\n",
            "loss 1 higher\n",
            "loss 1 higher\n",
            "loss 1 higher\n",
            "loss 1 higher\n",
            "loss 1 higher\n",
            "loss 1 higher\n",
            "loss 1 higher\n",
            "loss 1 higher\n",
            "loss 1 higher\n",
            "loss 1 higher\n",
            "loss 1 higher\n",
            "loss 1 higher\n",
            "loss 1 higher\n",
            "loss 1 higher\n",
            "loss 1 higher\n",
            "avg_loss step  6700tensor(24.8934, device='cuda:0', grad_fn=<DivBackward0>)\n",
            "loss 1 higher\n",
            "loss 1 higher\n",
            "loss 1 higher\n",
            "loss 1 higher\n",
            "loss 1 higher\n",
            "loss 1 higher\n",
            "loss 1 higher\n",
            "loss 1 higher\n",
            "loss 1 higher\n",
            "loss 1 higher\n",
            "loss 1 higher\n",
            "loss 1 higher\n",
            "loss 1 higher\n",
            "loss 1 higher\n",
            "loss 1 higher\n",
            "loss 1 higher\n",
            "loss 1 higher\n",
            "loss 1 higher\n",
            "loss 1 higher\n",
            "loss 1 higher\n",
            "loss 1 higher\n",
            "loss 1 higher\n",
            "loss 1 higher\n",
            "loss 1 higher\n",
            "loss 1 higher\n",
            "loss 1 higher\n",
            "loss 1 higher\n",
            "loss 1 higher\n",
            "loss 1 higher\n",
            "loss 1 higher\n",
            "loss 1 higher\n",
            "loss 1 higher\n",
            "loss 1 higher\n",
            "loss 1 higher\n",
            "loss 1 higher\n",
            "loss 1 higher\n",
            "loss 1 higher\n",
            "loss 1 higher\n",
            "loss 1 higher\n",
            "loss 1 higher\n",
            "loss 1 higher\n",
            "loss 1 higher\n",
            "loss 1 higher\n",
            "loss 1 higher\n",
            "loss 1 higher\n",
            "loss 1 higher\n",
            "loss 1 higher\n",
            "loss 1 higher\n",
            "loss 1 higher\n",
            "loss 1 higher\n",
            "avg_loss step  6800tensor(24.8934, device='cuda:0', grad_fn=<DivBackward0>)\n",
            "loss 1 higher\n",
            "loss 1 higher\n",
            "loss 1 higher\n",
            "loss 1 higher\n",
            "loss 1 higher\n",
            "loss 1 higher\n",
            "loss 1 higher\n",
            "loss 1 higher\n",
            "loss 1 higher\n",
            "loss 1 higher\n",
            "loss 1 higher\n",
            "loss 1 higher\n",
            "loss 1 higher\n",
            "loss 1 higher\n",
            "loss 1 higher\n",
            "loss 1 higher\n",
            "loss 1 higher\n",
            "loss 1 higher\n",
            "loss 1 higher\n",
            "loss 1 higher\n",
            "loss 1 higher\n",
            "loss 1 higher\n",
            "loss 1 higher\n",
            "loss 1 higher\n",
            "loss 1 higher\n",
            "loss 1 higher\n",
            "loss 1 higher\n",
            "loss 1 higher\n",
            "loss 1 higher\n",
            "loss 1 higher\n",
            "loss 1 higher\n",
            "loss 1 higher\n",
            "loss 1 higher\n",
            "loss 1 higher\n",
            "loss 1 higher\n",
            "loss 1 higher\n",
            "loss 1 higher\n",
            "loss 1 higher\n",
            "loss 1 higher\n",
            "loss 1 higher\n",
            "loss 1 higher\n",
            "loss 1 higher\n",
            "loss 1 higher\n",
            "loss 1 higher\n",
            "loss 1 higher\n",
            "loss 1 higher\n",
            "loss 1 higher\n",
            "loss 1 higher\n",
            "loss 1 higher\n",
            "loss 1 higher\n",
            "avg_loss step  6900tensor(24.8934, device='cuda:0', grad_fn=<DivBackward0>)\n",
            "loss 1 higher\n",
            "loss 1 higher\n",
            "loss 1 higher\n",
            "loss 1 higher\n",
            "loss 1 higher\n",
            "loss 1 higher\n",
            "loss 1 higher\n",
            "loss 1 higher\n",
            "loss 1 higher\n",
            "loss 1 higher\n",
            "loss 1 higher\n",
            "loss 1 higher\n",
            "loss 1 higher\n",
            "loss 1 higher\n",
            "loss 1 higher\n",
            "loss 1 higher\n",
            "loss 1 higher\n",
            "loss 1 higher\n",
            "loss 1 higher\n",
            "loss 1 higher\n",
            "loss 1 higher\n",
            "loss 1 higher\n",
            "loss 1 higher\n",
            "loss 1 higher\n",
            "loss 1 higher\n",
            "loss 1 higher\n",
            "loss 1 higher\n",
            "loss 1 higher\n",
            "loss 1 higher\n",
            "loss 1 higher\n",
            "loss 1 higher\n",
            "loss 1 higher\n",
            "loss 1 higher\n",
            "loss 1 higher\n",
            "loss 1 higher\n",
            "loss 1 higher\n",
            "loss 1 higher\n",
            "loss 1 higher\n",
            "loss 1 higher\n",
            "loss 1 higher\n",
            "loss 1 higher\n",
            "loss 1 higher\n",
            "loss 1 higher\n",
            "loss 1 higher\n",
            "loss 1 higher\n",
            "loss 1 higher\n",
            "loss 1 higher\n",
            "loss 1 higher\n",
            "loss 1 higher\n",
            "loss 1 higher\n",
            "avg_loss step  7000tensor(24.8934, device='cuda:0', grad_fn=<DivBackward0>)\n",
            "loss 1 higher\n",
            "loss 1 higher\n",
            "loss 1 higher\n",
            "loss 1 higher\n",
            "loss 1 higher\n",
            "loss 1 higher\n",
            "loss 1 higher\n",
            "loss 1 higher\n",
            "loss 1 higher\n",
            "loss 1 higher\n",
            "loss 1 higher\n",
            "loss 1 higher\n",
            "loss 1 higher\n",
            "loss 1 higher\n",
            "loss 1 higher\n",
            "loss 1 higher\n",
            "loss 1 higher\n",
            "loss 1 higher\n",
            "loss 1 higher\n",
            "loss 1 higher\n",
            "loss 1 higher\n",
            "loss 1 higher\n",
            "loss 1 higher\n",
            "loss 1 higher\n",
            "loss 1 higher\n",
            "loss 1 higher\n",
            "loss 1 higher\n",
            "loss 1 higher\n",
            "loss 1 higher\n",
            "loss 1 higher\n",
            "loss 1 higher\n",
            "loss 1 higher\n",
            "loss 1 higher\n",
            "loss 1 higher\n",
            "loss 1 higher\n",
            "loss 1 higher\n",
            "loss 1 higher\n",
            "loss 1 higher\n",
            "loss 1 higher\n",
            "loss 1 higher\n",
            "loss 1 higher\n",
            "loss 1 higher\n",
            "loss 1 higher\n",
            "loss 1 higher\n",
            "loss 1 higher\n",
            "loss 1 higher\n",
            "loss 1 higher\n",
            "loss 1 higher\n",
            "loss 1 higher\n",
            "loss 1 higher\n",
            "avg_loss step  7100tensor(24.8934, device='cuda:0', grad_fn=<DivBackward0>)\n",
            "loss 1 higher\n",
            "loss 1 higher\n",
            "loss 1 higher\n",
            "loss 1 higher\n",
            "loss 1 higher\n",
            "loss 1 higher\n",
            "loss 1 higher\n",
            "loss 1 higher\n",
            "loss 1 higher\n",
            "loss 1 higher\n",
            "loss 1 higher\n",
            "loss 1 higher\n",
            "loss 1 higher\n",
            "loss 1 higher\n",
            "loss 1 higher\n",
            "loss 1 higher\n",
            "loss 1 higher\n",
            "loss 1 higher\n",
            "loss 1 higher\n",
            "loss 1 higher\n",
            "loss 1 higher\n",
            "loss 1 higher\n",
            "loss 1 higher\n",
            "loss 1 higher\n",
            "loss 1 higher\n",
            "loss 1 higher\n",
            "loss 1 higher\n",
            "loss 1 higher\n",
            "loss 1 higher\n",
            "loss 1 higher\n",
            "loss 1 higher\n",
            "loss 1 higher\n",
            "loss 1 higher\n",
            "loss 1 higher\n",
            "loss 1 higher\n",
            "loss 1 higher\n",
            "loss 1 higher\n",
            "loss 1 higher\n",
            "loss 1 higher\n",
            "loss 1 higher\n",
            "loss 1 higher\n",
            "loss 1 higher\n",
            "loss 1 higher\n",
            "loss 1 higher\n",
            "loss 1 higher\n",
            "loss 1 higher\n",
            "loss 1 higher\n",
            "loss 1 higher\n",
            "loss 1 higher\n",
            "loss 1 higher\n",
            "avg_loss step  7200tensor(24.8934, device='cuda:0', grad_fn=<DivBackward0>)\n",
            "loss 1 higher\n",
            "loss 1 higher\n",
            "loss 1 higher\n",
            "loss 1 higher\n",
            "loss 1 higher\n",
            "loss 1 higher\n",
            "loss 1 higher\n",
            "loss 1 higher\n",
            "loss 1 higher\n",
            "loss 1 higher\n",
            "loss 1 higher\n",
            "loss 1 higher\n",
            "loss 1 higher\n",
            "loss 1 higher\n",
            "loss 1 higher\n",
            "loss 1 higher\n",
            "loss 1 higher\n",
            "loss 1 higher\n",
            "loss 1 higher\n",
            "loss 1 higher\n",
            "loss 1 higher\n",
            "loss 1 higher\n",
            "loss 1 higher\n",
            "loss 1 higher\n",
            "loss 1 higher\n",
            "loss 1 higher\n",
            "loss 1 higher\n",
            "loss 1 higher\n",
            "loss 1 higher\n",
            "loss 1 higher\n",
            "loss 1 higher\n",
            "loss 1 higher\n",
            "loss 1 higher\n",
            "loss 1 higher\n",
            "loss 1 higher\n",
            "loss 1 higher\n",
            "loss 1 higher\n"
          ],
          "name": "stdout"
        },
        {
          "output_type": "error",
          "ename": "KeyboardInterrupt",
          "evalue": "ignored",
          "traceback": [
            "\u001b[0;31m---------------------------------------------------------------------------\u001b[0m",
            "\u001b[0;31mKeyboardInterrupt\u001b[0m                         Traceback (most recent call last)",
            "\u001b[0;32m<ipython-input-254-c6845832c56f>\u001b[0m in \u001b[0;36m<module>\u001b[0;34m()\u001b[0m\n\u001b[1;32m     65\u001b[0m \u001b[0;34m\u001b[0m\u001b[0m\n\u001b[1;32m     66\u001b[0m     \u001b[0mz_semi\u001b[0m\u001b[0;34m.\u001b[0m\u001b[0mgrad\u001b[0m \u001b[0;34m=\u001b[0m \u001b[0;32mNone\u001b[0m\u001b[0;34m\u001b[0m\u001b[0;34m\u001b[0m\u001b[0m\n\u001b[0;32m---> 67\u001b[0;31m     \u001b[0mloss\u001b[0m\u001b[0;34m.\u001b[0m\u001b[0mbackward\u001b[0m\u001b[0;34m(\u001b[0m\u001b[0mretain_graph\u001b[0m\u001b[0;34m=\u001b[0m\u001b[0;32mTrue\u001b[0m\u001b[0;34m)\u001b[0m\u001b[0;34m\u001b[0m\u001b[0;34m\u001b[0m\u001b[0m\n\u001b[0m\u001b[1;32m     68\u001b[0m     \u001b[0;31m#optimizer.step()\u001b[0m\u001b[0;34m\u001b[0m\u001b[0;34m\u001b[0m\u001b[0;34m\u001b[0m\u001b[0m\n\u001b[1;32m     69\u001b[0m     \u001b[0mz_semi\u001b[0m\u001b[0;34m.\u001b[0m\u001b[0mrequires_grad\u001b[0m \u001b[0;34m=\u001b[0m \u001b[0;32mFalse\u001b[0m\u001b[0;34m\u001b[0m\u001b[0;34m\u001b[0m\u001b[0m\n",
            "\u001b[0;32m/usr/local/lib/python3.7/dist-packages/torch/_tensor.py\u001b[0m in \u001b[0;36mbackward\u001b[0;34m(self, gradient, retain_graph, create_graph, inputs)\u001b[0m\n\u001b[1;32m    253\u001b[0m                 \u001b[0mcreate_graph\u001b[0m\u001b[0;34m=\u001b[0m\u001b[0mcreate_graph\u001b[0m\u001b[0;34m,\u001b[0m\u001b[0;34m\u001b[0m\u001b[0;34m\u001b[0m\u001b[0m\n\u001b[1;32m    254\u001b[0m                 inputs=inputs)\n\u001b[0;32m--> 255\u001b[0;31m         \u001b[0mtorch\u001b[0m\u001b[0;34m.\u001b[0m\u001b[0mautograd\u001b[0m\u001b[0;34m.\u001b[0m\u001b[0mbackward\u001b[0m\u001b[0;34m(\u001b[0m\u001b[0mself\u001b[0m\u001b[0;34m,\u001b[0m \u001b[0mgradient\u001b[0m\u001b[0;34m,\u001b[0m \u001b[0mretain_graph\u001b[0m\u001b[0;34m,\u001b[0m \u001b[0mcreate_graph\u001b[0m\u001b[0;34m,\u001b[0m \u001b[0minputs\u001b[0m\u001b[0;34m=\u001b[0m\u001b[0minputs\u001b[0m\u001b[0;34m)\u001b[0m\u001b[0;34m\u001b[0m\u001b[0;34m\u001b[0m\u001b[0m\n\u001b[0m\u001b[1;32m    256\u001b[0m \u001b[0;34m\u001b[0m\u001b[0m\n\u001b[1;32m    257\u001b[0m     \u001b[0;32mdef\u001b[0m \u001b[0mregister_hook\u001b[0m\u001b[0;34m(\u001b[0m\u001b[0mself\u001b[0m\u001b[0;34m,\u001b[0m \u001b[0mhook\u001b[0m\u001b[0;34m)\u001b[0m\u001b[0;34m:\u001b[0m\u001b[0;34m\u001b[0m\u001b[0;34m\u001b[0m\u001b[0m\n",
            "\u001b[0;32m/usr/local/lib/python3.7/dist-packages/torch/autograd/__init__.py\u001b[0m in \u001b[0;36mbackward\u001b[0;34m(tensors, grad_tensors, retain_graph, create_graph, grad_variables, inputs)\u001b[0m\n\u001b[1;32m    147\u001b[0m     Variable._execution_engine.run_backward(\n\u001b[1;32m    148\u001b[0m         \u001b[0mtensors\u001b[0m\u001b[0;34m,\u001b[0m \u001b[0mgrad_tensors_\u001b[0m\u001b[0;34m,\u001b[0m \u001b[0mretain_graph\u001b[0m\u001b[0;34m,\u001b[0m \u001b[0mcreate_graph\u001b[0m\u001b[0;34m,\u001b[0m \u001b[0minputs\u001b[0m\u001b[0;34m,\u001b[0m\u001b[0;34m\u001b[0m\u001b[0;34m\u001b[0m\u001b[0m\n\u001b[0;32m--> 149\u001b[0;31m         allow_unreachable=True, accumulate_grad=True)  # allow_unreachable flag\n\u001b[0m\u001b[1;32m    150\u001b[0m \u001b[0;34m\u001b[0m\u001b[0m\n\u001b[1;32m    151\u001b[0m \u001b[0;34m\u001b[0m\u001b[0m\n",
            "\u001b[0;31mKeyboardInterrupt\u001b[0m: "
          ]
        }
      ]
    },
    {
      "cell_type": "code",
      "metadata": {
        "colab": {
          "base_uri": "https://localhost:8080/"
        },
        "id": "b_3P2rtkfJxb",
        "outputId": "ad2d4f31-1582-40c1-dde0-bd23cd9f03c9"
      },
      "source": [
        "loss1"
      ],
      "execution_count": 249,
      "outputs": [
        {
          "output_type": "execute_result",
          "data": {
            "text/plain": [
              "tensor(0.9006, device='cuda:0', grad_fn=<MeanBackward0>)"
            ]
          },
          "metadata": {},
          "execution_count": 249
        }
      ]
    },
    {
      "cell_type": "code",
      "metadata": {
        "colab": {
          "base_uri": "https://localhost:8080/"
        },
        "id": "Ahgi18klWxEz",
        "outputId": "c335bb4e-a1c0-4b4a-830c-908673a80597"
      },
      "source": [
        "loss5"
      ],
      "execution_count": 250,
      "outputs": [
        {
          "output_type": "execute_result",
          "data": {
            "text/plain": [
              "tensor(0.8192, device='cuda:0', grad_fn=<L1LossBackward>)"
            ]
          },
          "metadata": {},
          "execution_count": 250
        }
      ]
    },
    {
      "cell_type": "code",
      "metadata": {
        "colab": {
          "base_uri": "https://localhost:8080/",
          "height": 282
        },
        "id": "DMUDQZzJpsYr",
        "outputId": "20cfe739-4172-4280-9837-6efb924ac5ca"
      },
      "source": [
        "# Plotting the semi factual image according to the cf found by the latent dimension loss and target class provided\n",
        "\n",
        "G_img= G(z_org)\n",
        "G_img = G_img.to('cpu')\n",
        "npimgs = G_img[0].detach().numpy()\n",
        "#print(npimgs.shape)\n",
        "plt.imshow(npimgs[0],cmap='Greys_r')"
      ],
      "execution_count": 224,
      "outputs": [
        {
          "output_type": "execute_result",
          "data": {
            "text/plain": [
              "<matplotlib.image.AxesImage at 0x7f6264fece90>"
            ]
          },
          "metadata": {},
          "execution_count": 224
        },
        {
          "output_type": "display_data",
          "data": {
            "image/png": "[encoded data removed]",
            "text/plain": [
              "<Figure size 432x288 with 1 Axes>"
            ]
          },
          "metadata": {
            "needs_background": "light"
          }
        }
      ]
    },
    {
      "cell_type": "code",
      "metadata": {
        "colab": {
          "base_uri": "https://localhost:8080/",
          "height": 282
        },
        "id": "ALn0JSlAAWtz",
        "outputId": "966bd03a-5882-4a3a-8698-c53f0414b878"
      },
      "source": [
        "# Plotting the semi factual image according to the cf found by the latent dimension loss and target class provided\n",
        "\n",
        "\n",
        "G_img= G((z_original_array + z_semi_final)[1,:,:,:].unsqueeze(0))\n",
        "G_img = G_img.to('cpu')\n",
        "npimgs = G_img[0].detach().numpy()\n",
        "#print(npimgs.shape)\n",
        "plt.imshow(npimgs[0],cmap='Greys_r')"
      ],
      "execution_count": 246,
      "outputs": [
        {
          "output_type": "execute_result",
          "data": {
            "text/plain": [
              "<matplotlib.image.AxesImage at 0x7f6264cc4d50>"
            ]
          },
          "metadata": {},
          "execution_count": 246
        },
        {
          "output_type": "display_data",
          "data": {
            "image/png": "[encoded data removed]",
            "text/plain": [
              "<Figure size 432x288 with 1 Axes>"
            ]
          },
          "metadata": {
            "needs_background": "light"
          }
        }
      ]
    },
    {
      "cell_type": "code",
      "metadata": {
        "colab": {
          "base_uri": "https://localhost:8080/",
          "height": 282
        },
        "id": "gY524VgHCSwl",
        "outputId": "e06a3822-347b-4fc2-f9ec-2cc4fa61b075"
      },
      "source": [
        "# Plotting the semi factual image according to the cf found by the latent dimension loss and target class provided\n",
        "\n",
        "\n",
        "G_img= G((z_original_array + z_semi_final)[0,:,:,:].unsqueeze(0))\n",
        "G_img = G_img.to('cpu')\n",
        "npimgs = G_img[0].detach().numpy()\n",
        "#print(npimgs.shape)\n",
        "plt.imshow(npimgs[0],cmap='Greys_r')"
      ],
      "execution_count": 247,
      "outputs": [
        {
          "output_type": "execute_result",
          "data": {
            "text/plain": [
              "<matplotlib.image.AxesImage at 0x7f6264cac3d0>"
            ]
          },
          "metadata": {},
          "execution_count": 247
        },
        {
          "output_type": "display_data",
          "data": {
            "image/png": "[encoded data removed]",
            "text/plain": [
              "<Figure size 432x288 with 1 Axes>"
            ]
          },
          "metadata": {
            "needs_background": "light"
          }
        }
      ]
    },
    {
      "cell_type": "code",
      "metadata": {
        "colab": {
          "base_uri": "https://localhost:8080/"
        },
        "id": "TjXkZ9zqAgvx",
        "outputId": "e74bff50-b23f-4ccc-f487-d896982180cb"
      },
      "source": [
        "D(G((z_original_array + z_semi)[0,:,:,:].unsqueeze(0)))"
      ],
      "execution_count": 251,
      "outputs": [
        {
          "output_type": "execute_result",
          "data": {
            "text/plain": [
              "tensor([0.6883], device='cuda:0', grad_fn=<SqueezeBackward1>)"
            ]
          },
          "metadata": {},
          "execution_count": 251
        }
      ]
    },
    {
      "cell_type": "code",
      "metadata": {
        "colab": {
          "base_uri": "https://localhost:8080/"
        },
        "id": "F7jOMuVeUWf5",
        "outputId": "e99d6299-70fe-47bd-a6ef-c75648861587"
      },
      "source": [
        "l1_loss(G(z_semi[1,:,:,:].unsqueeze(0)), sample_image)"
      ],
      "execution_count": 252,
      "outputs": [
        {
          "output_type": "execute_result",
          "data": {
            "text/plain": [
              "tensor(0.2895, device='cuda:0', grad_fn=<L1LossBackward>)"
            ]
          },
          "metadata": {},
          "execution_count": 252
        }
      ]
    },
    {
      "cell_type": "code",
      "metadata": {
        "colab": {
          "base_uri": "https://localhost:8080/"
        },
        "id": "rxynykyrpvPq",
        "outputId": "b5de5f78-2120-44e7-efec-b0d0fa1be71f"
      },
      "source": [
        "Classifier_model_logits(G((z_original_array + z_semi)[1,:,:,:].unsqueeze(0)))[0]"
      ],
      "execution_count": 253,
      "outputs": [
        {
          "output_type": "execute_result",
          "data": {
            "text/plain": [
              "tensor([[1.0000e+00, 4.8674e-14, 4.0598e-12, 4.3837e-16, 7.1081e-17, 2.9398e-11,\n",
              "         2.3440e-07, 5.7049e-13, 2.5084e-13, 2.7069e-13]], device='cuda:0',\n",
              "       grad_fn=<SoftmaxBackward>)"
            ]
          },
          "metadata": {},
          "execution_count": 253
        }
      ]
    },
    {
      "cell_type": "code",
      "metadata": {
        "colab": {
          "base_uri": "https://localhost:8080/",
          "height": 486
        },
        "id": "RLD0oG9oqK5g",
        "outputId": "9c7f1e91-a68f-4730-a7e1-6de86b4c7c13"
      },
      "source": [
        "imgs_grid = torch.tensor([]).to(device)\n",
        "\n",
        "for i in range(64):\n",
        "  \n",
        "   imgs_grid = torch.cat([imgs_grid,  G(latent_z_journey[i])], dim=0)\n",
        "\n",
        "\n",
        "imgs_grid = imgs_grid.to('cpu')\n",
        "imshow(imgs_grid)"
      ],
      "execution_count": 170,
      "outputs": [
        {
          "output_type": "stream",
          "text": [
            "Clipping input data to the valid range for imshow with RGB data ([0..1] for floats or [0..255] for integers).\n"
          ],
          "name": "stderr"
        },
        {
          "output_type": "display_data",
          "data": {
            "image/png": "[encoded data removed]",
            "text/plain": [
              "<Figure size 576x576 with 1 Axes>"
            ]
          },
          "metadata": {}
        }
      ]
    },
    {
      "cell_type": "code",
      "metadata": {
        "colab": {
          "base_uri": "https://localhost:8080/",
          "height": 486
        },
        "id": "c71NHt5a6BWE",
        "outputId": "496a6ab7-5745-4a34-89f3-9332a076ec11"
      },
      "source": [
        "imgs_grid = torch.tensor([]).to(device)\n",
        "\n",
        "for i in range(64):\n",
        "  \n",
        "   imgs_grid = torch.cat([imgs_grid,  G(latent_z_journey[i])], dim=0)\n",
        "\n",
        "\n",
        "imgs_grid = imgs_grid.to('cpu')\n",
        "imshow(imgs_grid)"
      ],
      "execution_count": 69,
      "outputs": [
        {
          "output_type": "stream",
          "text": [
            "Clipping input data to the valid range for imshow with RGB data ([0..1] for floats or [0..255] for integers).\n"
          ],
          "name": "stderr"
        },
        {
          "output_type": "display_data",
          "data": {
            "image/png": "[encoded data removed]",
            "text/plain": [
              "<Figure size 576x576 with 1 Axes>"
            ]
          },
          "metadata": {}
        }
      ]
    },
    {
      "cell_type": "code",
      "metadata": {
        "colab": {
          "base_uri": "https://localhost:8080/"
        },
        "id": "YlPFw8xQ8m8y",
        "outputId": "b397ca55-6a10-4d7f-84e2-12380b3e1cef"
      },
      "source": [
        "diversity_loss = nn.CosineEmbeddingLoss()\n",
        "print(diversity_loss(z_semi,z_org,torch.tensor([1]).to(device)))"
      ],
      "execution_count": 77,
      "outputs": [
        {
          "output_type": "stream",
          "text": [
            "tensor(0.0122, device='cuda:0')\n"
          ],
          "name": "stdout"
        }
      ]
    },
    {
      "cell_type": "code",
      "metadata": {
        "id": "qAdqvhQb828p"
      },
      "source": [
        "z_semi = z_org.clone().detach().to(device)\n",
        "  \n",
        "for i in range(2):\n",
        "  z_semi = torch.cat([z_semi, z_semi] , dim=0)"
      ],
      "execution_count": 85,
      "outputs": []
    },
    {
      "cell_type": "code",
      "metadata": {
        "colab": {
          "base_uri": "https://localhost:8080/"
        },
        "id": "7xBUugo0-SmT",
        "outputId": "6e955434-53d7-470c-f97b-e7df7cad95fe"
      },
      "source": [
        "z_semi.shape"
      ],
      "execution_count": 86,
      "outputs": [
        {
          "output_type": "execute_result",
          "data": {
            "text/plain": [
              "torch.Size([4, 100, 1, 1])"
            ]
          },
          "metadata": {},
          "execution_count": 86
        }
      ]
    },
    {
      "cell_type": "code",
      "metadata": {
        "colab": {
          "base_uri": "https://localhost:8080/"
        },
        "id": "9HgY6-qq-cy-",
        "outputId": "72525307-f047-4771-dd5c-5d2a9ffd5781"
      },
      "source": [
        "z_org.shape"
      ],
      "execution_count": 84,
      "outputs": [
        {
          "output_type": "execute_result",
          "data": {
            "text/plain": [
              "torch.Size([1, 100, 1, 1])"
            ]
          },
          "metadata": {},
          "execution_count": 84
        }
      ]
    },
    {
      "cell_type": "code",
      "metadata": {
        "colab": {
          "base_uri": "https://localhost:8080/"
        },
        "id": "_0lJI58N-jgT",
        "outputId": "795feb52-6c80-4d58-c334-0cddf88e8f71"
      },
      "source": [
        "loss1"
      ],
      "execution_count": 191,
      "outputs": [
        {
          "output_type": "execute_result",
          "data": {
            "text/plain": [
              "tensor(1.1983, device='cuda:0', grad_fn=<L1LossBackward>)"
            ]
          },
          "metadata": {},
          "execution_count": 191
        }
      ]
    },
    {
      "cell_type": "code",
      "metadata": {
        "id": "SaZd8TIRV3Er"
      },
      "source": [
        ""
      ],
      "execution_count": null,
      "outputs": []
    }
  ]
}