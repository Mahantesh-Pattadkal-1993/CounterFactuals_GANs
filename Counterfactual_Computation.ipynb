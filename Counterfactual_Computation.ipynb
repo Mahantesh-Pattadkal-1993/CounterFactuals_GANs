{
  "nbformat": 4,
  "nbformat_minor": 0,
  "metadata": {
    "colab": {
      "name": "Counterfactual Computation.ipynb",
      "provenance": [],
      "authorship_tag": "ABX9TyMYnznkkrGFEbPppXJ3jVZJ",
      "include_colab_link": true
    },
    "kernelspec": {
      "name": "python3",
      "display_name": "Python 3"
    },
    "language_info": {
      "name": "python"
    }
  },
  "cells": [
    {
      "cell_type": "markdown",
      "metadata": {
        "id": "view-in-github",
        "colab_type": "text"
      },
      "source": [
        "<a href=\"https://colab.research.google.com/github/Mahantesh-Pattadkal-1993/CounterFactuals_GANs/blob/main/Counterfactual_Computation.ipynb\" target=\"_parent\"><img src=\"https://colab.research.google.com/assets/colab-badge.svg\" alt=\"Open In Colab\"/></a>"
      ]
    },
    {
      "cell_type": "code",
      "metadata": {
        "colab": {
          "base_uri": "https://localhost:8080/"
        },
        "id": "nWIBBfXcP_kz",
        "outputId": "b738389c-9b5a-476e-f987-d4ed090a369f"
      },
      "source": [
        "from google.colab import drive\n",
        "drive.mount('/content/gdrive')"
      ],
      "execution_count": 1,
      "outputs": [
        {
          "output_type": "stream",
          "text": [
            "Mounted at /content/gdrive\n"
          ],
          "name": "stdout"
        }
      ]
    },
    {
      "cell_type": "code",
      "metadata": {
        "id": "uma5W4TFQSwX"
      },
      "source": [
        "#Setting up the path for GAN Training\n",
        "import os\n",
        "os.chdir('/content/gdrive/MyDrive/Github/CounterFactuals_GANs/MNIST')"
      ],
      "execution_count": 2,
      "outputs": []
    },
    {
      "cell_type": "code",
      "metadata": {
        "colab": {
          "base_uri": "https://localhost:8080/"
        },
        "id": "amOxIb6xQVbM",
        "outputId": "db65ba8c-3229-48a4-add7-eef307f207bb"
      },
      "source": [
        "#Import the libraries \n",
        "import torch\n",
        "import torch.optim as opt\n",
        "import torch.nn as nn\n",
        "import torch.nn.functional as F\n",
        "import torchvision\n",
        "import torchvision.transforms as transforms\n",
        "\n",
        "import random\n",
        "import numpy as np\n",
        "import matplotlib.pyplot as plt\n",
        "%matplotlib inline\n",
        "from GAN_Models import DC_Generator, DC_Discriminator, Net, CNN\n",
        "device = torch.device(\"cuda\" if torch.cuda.is_available() else \"cpu\") # PyTorch v0.4.0\n",
        "\n",
        "\n",
        "\n",
        "\n",
        "# Set random seed for reproducibility\n",
        "manualSeed = 2021\n",
        "#manualSeed = random.randint(1, 10000) # use if you want new results\n",
        "print(\"Random Seed: \", manualSeed)\n",
        "random.seed(manualSeed)\n",
        "torch.manual_seed(manualSeed)\n"
      ],
      "execution_count": 3,
      "outputs": [
        {
          "output_type": "stream",
          "text": [
            "Random Seed:  2021\n"
          ],
          "name": "stdout"
        },
        {
          "output_type": "execute_result",
          "data": {
            "text/plain": [
              "<torch._C.Generator at 0x7f9a25d1cf90>"
            ]
          },
          "metadata": {},
          "execution_count": 3
        }
      ]
    },
    {
      "cell_type": "code",
      "metadata": {
        "colab": {
          "base_uri": "https://localhost:8080/"
        },
        "id": "xBnkacTUZQu_",
        "outputId": "1ec14c9e-3ecc-4078-ae4d-d8061fa97825"
      },
      "source": [
        "#Load the Generator  \n",
        "G = DC_Generator(1,100,28)\n",
        "D = DC_Discriminator(nc=1,ndf =28)\n",
        "\n",
        "checkpoint = torch.load(\"Weights/G_checkpoint_latest_99.pth\", map_location=torch.device('cpu'))\n",
        "G.load_state_dict(checkpoint['state_dict'])\n",
        "\n",
        "checkpoint = torch.load(\"Weights/D_checkpoint_latest_99.pth\", map_location=torch.device('cpu'))\n",
        "D.load_state_dict(checkpoint['state_dict'])"
      ],
      "execution_count": 4,
      "outputs": [
        {
          "output_type": "execute_result",
          "data": {
            "text/plain": [
              "<All keys matched successfully>"
            ]
          },
          "metadata": {},
          "execution_count": 4
        }
      ]
    },
    {
      "cell_type": "code",
      "metadata": {
        "colab": {
          "base_uri": "https://localhost:8080/"
        },
        "id": "IxUuFeUMQdht",
        "outputId": "41fba1db-4964-492d-e0ed-830063295b63"
      },
      "source": [
        "#Load the Classifier\n",
        "Classifier_model = Net()\n",
        "Classifier_checkpoint = torch.load(\"Weights/Classifier.pth\", map_location=torch.device('cpu'))\n",
        "Classifier_model.load_state_dict(Classifier_checkpoint['state_dict'])\n",
        "Classifier_model.eval()"
      ],
      "execution_count": 5,
      "outputs": [
        {
          "output_type": "execute_result",
          "data": {
            "text/plain": [
              "Net(\n",
              "  (conv1): Conv2d(1, 32, kernel_size=(3, 3), stride=(1, 1))\n",
              "  (conv2): Conv2d(32, 64, kernel_size=(3, 3), stride=(1, 1))\n",
              "  (dropout1): Dropout(p=0.25, inplace=False)\n",
              "  (dropout2): Dropout(p=0.5, inplace=False)\n",
              "  (fc1): Linear(in_features=9216, out_features=128, bias=True)\n",
              "  (fc2): Linear(in_features=128, out_features=10, bias=True)\n",
              ")"
            ]
          },
          "metadata": {},
          "execution_count": 5
        }
      ]
    },
    {
      "cell_type": "code",
      "metadata": {
        "id": "sur5CGLPYCj4"
      },
      "source": [
        "#Load Eoins Classifier\n",
        "Classifier_model_eoin = CNN()\n",
        "Classifier_checkpoint = torch.load(\"Weights/pytorch_cnn.pth\", map_location=torch.device('cpu'))\n",
        "#Classifier_model.load_state_dict(Classifier_checkpoint['state_dict'])\n",
        "Classifier_model_eoin.eval()\n",
        "\n",
        "# Gettin weird predictions, maybe the state dict is missing"
      ],
      "execution_count": null,
      "outputs": []
    },
    {
      "cell_type": "code",
      "metadata": {
        "colab": {
          "base_uri": "https://localhost:8080/"
        },
        "id": "vHnhp6XXRCby",
        "outputId": "a5ed1ee1-0294-4268-9cd1-a7a7806df22a"
      },
      "source": [
        "#Loading the data\n",
        "\n",
        "mb_size = 64\n",
        "\n",
        "transform = transforms.ToTensor()\n",
        "\n",
        "trainData = torchvision.datasets.MNIST('./data/', download=True, transform=transform, train=True)\n",
        "\n",
        "trainLoader = torch.utils.data.DataLoader(trainData, shuffle=True, batch_size=mb_size)\n",
        "\n",
        "dataIter = iter(trainLoader)\n",
        "\n",
        "imgs, labels = dataIter.next()\n",
        "print(imgs.shape)\n"
      ],
      "execution_count": 6,
      "outputs": [
        {
          "output_type": "stream",
          "text": [
            "/usr/local/lib/python3.7/dist-packages/torchvision/datasets/mnist.py:498: UserWarning: The given NumPy array is not writeable, and PyTorch does not support non-writeable tensors. This means you can write to the underlying (supposedly non-writeable) NumPy array using the tensor. You may want to copy the array to protect its data or make it writeable before converting it to a tensor. This type of warning will be suppressed for the rest of this program. (Triggered internally at  /pytorch/torch/csrc/utils/tensor_numpy.cpp:180.)\n",
            "  return torch.from_numpy(parsed.astype(m[2], copy=False)).view(*s)\n"
          ],
          "name": "stderr"
        },
        {
          "output_type": "stream",
          "text": [
            "torch.Size([64, 1, 28, 28])\n"
          ],
          "name": "stdout"
        }
      ]
    },
    {
      "cell_type": "code",
      "metadata": {
        "colab": {
          "base_uri": "https://localhost:8080/",
          "height": 282
        },
        "id": "J4QajikfSHfx",
        "outputId": "2cbbf9ac-f2dc-4bcb-ad3d-85e817916d39"
      },
      "source": [
        "dataIter = iter(trainLoader)\n",
        "\n",
        "imgs, labels = dataIter.next()\n",
        "sample_image = imgs[0,:,:,:] #first image in this batch \n",
        "sample_image= sample_image.reshape([1,1,28,28])\n",
        "\n",
        "npimgs = sample_image[0].detach().numpy()\n",
        "plt.imshow(npimgs[0],cmap='Greys_r')"
      ],
      "execution_count": 11,
      "outputs": [
        {
          "output_type": "execute_result",
          "data": {
            "text/plain": [
              "<matplotlib.image.AxesImage at 0x7f9a22ab1990>"
            ]
          },
          "metadata": {},
          "execution_count": 11
        },
        {
          "output_type": "display_data",
          "data": {
            "image/png": "[encoded data removed]",
            "text/plain": [
              "<Figure size 432x288 with 1 Axes>"
            ]
          },
          "metadata": {
            "needs_background": "light"
          }
        }
      ]
    },
    {
      "cell_type": "code",
      "metadata": {
        "id": "--otHGKdTbBh"
      },
      "source": [
        "import torch\n",
        "torch.manual_seed(100)\n",
        "z = torch.randn(1, 100,1,1).to(device)\n",
        "step_size = 0.001"
      ],
      "execution_count": 26,
      "outputs": []
    },
    {
      "cell_type": "code",
      "metadata": {
        "colab": {
          "base_uri": "https://localhost:8080/",
          "height": 970
        },
        "id": "kBQFg3WiaO4G",
        "outputId": "9cd2073a-d9ae-4f08-b181-0cb13e5299ec"
      },
      "source": [
        "#find the z_org that respresents the latent representation of given image\n",
        "\n",
        "def latent_representation(z,sample_image,pred):\n",
        "  overall_loss = 0\n",
        "  loss = 0\n",
        "  avg_loss = 1000\n",
        "  avg_loss_old = 1000\n",
        "  i=1\n",
        "  while (avg_loss_old>=avg_loss):\n",
        "    z.requires_grad = True\n",
        "    loss1 = torch.square(torch.abs(sample_image-G(z))).sum() \n",
        "    loss2 = torch.log(Classifier_model(G(z))[0][pred])\n",
        "\n",
        "    #loss = loss1 - 10*loss2 - 10*loss3\n",
        "    loss = loss1 - 10*loss2\n",
        "\n",
        "    z.grad = None\n",
        "    loss.backward()\n",
        "    z.requires_grad = False\n",
        "    z = z - z.grad * step_size\n",
        "    i = i+1\n",
        "\n",
        "    overall_loss= overall_loss + loss\n",
        "    if (i%500==0):\n",
        "      #print(\"loss \" + \"step \" + str(i) + str (loss))\n",
        "      avg_loss_old = avg_loss\n",
        "      avg_loss = overall_loss/500.0\n",
        "      print(\"avg_loss \" + \"step \" + \" \" +str(i) + str (avg_loss))\n",
        "      print(\"avg_loss_old \" + \"step \" + str(i) + str (avg_loss_old))\n",
        "      overall_loss = 0 \n",
        "    \n",
        "    if(i==10000):\n",
        "      break\n",
        "\n",
        "  return z\n",
        "\n",
        "z_org = latent_representation(z,sample_image,4)\n",
        "\n",
        "G_img= G(z_org)\n",
        "npimgs = G_img[0].detach().numpy()\n",
        "print(npimgs.shape)\n",
        "plt.imshow(npimgs[0],cmap='Greys_r')"
      ],
      "execution_count": 27,
      "outputs": [
        {
          "output_type": "stream",
          "text": [
            "avg_loss step  500tensor(49.5241, grad_fn=<DivBackward0>)\n",
            "avg_loss_old step 5001000\n",
            "avg_loss step  1000tensor(37.5040, grad_fn=<DivBackward0>)\n",
            "avg_loss_old step 1000tensor(49.5241, grad_fn=<DivBackward0>)\n",
            "avg_loss step  1500tensor(35.6153, grad_fn=<DivBackward0>)\n",
            "avg_loss_old step 1500tensor(37.5040, grad_fn=<DivBackward0>)\n",
            "avg_loss step  2000tensor(33.7706, grad_fn=<DivBackward0>)\n",
            "avg_loss_old step 2000tensor(35.6153, grad_fn=<DivBackward0>)\n",
            "avg_loss step  2500tensor(31.7434, grad_fn=<DivBackward0>)\n",
            "avg_loss_old step 2500tensor(33.7706, grad_fn=<DivBackward0>)\n",
            "avg_loss step  3000tensor(29.4205, grad_fn=<DivBackward0>)\n",
            "avg_loss_old step 3000tensor(31.7434, grad_fn=<DivBackward0>)\n",
            "avg_loss step  3500tensor(28.6807, grad_fn=<DivBackward0>)\n",
            "avg_loss_old step 3500tensor(29.4205, grad_fn=<DivBackward0>)\n",
            "avg_loss step  4000tensor(28.0653, grad_fn=<DivBackward0>)\n",
            "avg_loss_old step 4000tensor(28.6807, grad_fn=<DivBackward0>)\n",
            "avg_loss step  4500tensor(27.4834, grad_fn=<DivBackward0>)\n",
            "avg_loss_old step 4500tensor(28.0653, grad_fn=<DivBackward0>)\n",
            "avg_loss step  5000tensor(26.9838, grad_fn=<DivBackward0>)\n",
            "avg_loss_old step 5000tensor(27.4834, grad_fn=<DivBackward0>)\n",
            "avg_loss step  5500tensor(26.6525, grad_fn=<DivBackward0>)\n",
            "avg_loss_old step 5500tensor(26.9838, grad_fn=<DivBackward0>)\n",
            "avg_loss step  6000tensor(26.4104, grad_fn=<DivBackward0>)\n",
            "avg_loss_old step 6000tensor(26.6525, grad_fn=<DivBackward0>)\n",
            "avg_loss step  6500tensor(26.1981, grad_fn=<DivBackward0>)\n",
            "avg_loss_old step 6500tensor(26.4104, grad_fn=<DivBackward0>)\n",
            "avg_loss step  7000tensor(26.0343, grad_fn=<DivBackward0>)\n",
            "avg_loss_old step 7000tensor(26.1981, grad_fn=<DivBackward0>)\n",
            "avg_loss step  7500tensor(25.8755, grad_fn=<DivBackward0>)\n",
            "avg_loss_old step 7500tensor(26.0343, grad_fn=<DivBackward0>)\n",
            "avg_loss step  8000tensor(25.6708, grad_fn=<DivBackward0>)\n",
            "avg_loss_old step 8000tensor(25.8755, grad_fn=<DivBackward0>)\n",
            "avg_loss step  8500tensor(25.1266, grad_fn=<DivBackward0>)\n",
            "avg_loss_old step 8500tensor(25.6708, grad_fn=<DivBackward0>)\n",
            "avg_loss step  9000tensor(24.9429, grad_fn=<DivBackward0>)\n",
            "avg_loss_old step 9000tensor(25.1266, grad_fn=<DivBackward0>)\n",
            "avg_loss step  9500tensor(24.8375, grad_fn=<DivBackward0>)\n",
            "avg_loss_old step 9500tensor(24.9429, grad_fn=<DivBackward0>)\n",
            "avg_loss step  10000tensor(24.6938, grad_fn=<DivBackward0>)\n",
            "avg_loss_old step 10000tensor(24.8375, grad_fn=<DivBackward0>)\n",
            "(1, 28, 28)\n"
          ],
          "name": "stdout"
        },
        {
          "output_type": "execute_result",
          "data": {
            "text/plain": [
              "<matplotlib.image.AxesImage at 0x7f9a1d3bf0d0>"
            ]
          },
          "metadata": {},
          "execution_count": 27
        },
        {
          "output_type": "display_data",
          "data": {
            "image/png": "[encoded data removed]",
            "text/plain": [
              "<Figure size 432x288 with 1 Axes>"
            ]
          },
          "metadata": {
            "needs_background": "light"
          }
        }
      ]
    },
    {
      "cell_type": "code",
      "metadata": {
        "colab": {
          "base_uri": "https://localhost:8080/"
        },
        "id": "KJCFW5KPwnBn",
        "outputId": "1ee5f536-9364-4ddf-8b62-8dc9409fecab"
      },
      "source": [
        "Classifier_model(G(z_org))[0]"
      ],
      "execution_count": 28,
      "outputs": [
        {
          "output_type": "execute_result",
          "data": {
            "text/plain": [
              "tensor([5.8124e-20, 1.4615e-22, 1.4803e-12, 4.5612e-20, 1.0000e+00, 4.2899e-16,\n",
              "        1.6857e-13, 5.9303e-14, 6.6829e-20, 3.1299e-06],\n",
              "       grad_fn=<SelectBackward>)"
            ]
          },
          "metadata": {},
          "execution_count": 28
        }
      ]
    },
    {
      "cell_type": "markdown",
      "metadata": {
        "id": "CHzqEQW8qZUM"
      },
      "source": [
        "## Latent dimension loss "
      ]
    },
    {
      "cell_type": "code",
      "metadata": {
        "colab": {
          "base_uri": "https://localhost:8080/",
          "height": 937
        },
        "id": "2FRhTyamqTNh",
        "outputId": "e3c24350-f855-4cd1-fd1f-67e20d1d7ced"
      },
      "source": [
        "#using latent dimension distance and PR loss\n",
        "import torch\n",
        "torch.manual_seed(100)\n",
        "z = torch.randn(1, 100,1,1).to(device)\n",
        "step_size = 0.001\n",
        "\n",
        "\n",
        "def counterfactual_eluclidian(z,z_org,target_class):\n",
        "\n",
        "  overall_loss = 0\n",
        "  loss = 0\n",
        "  avg_loss = 1000\n",
        "  avg_loss_old = 1000\n",
        "  i=1\n",
        "  while (avg_loss_old>=avg_loss):\n",
        "    z.requires_grad = True\n",
        "    loss1 = torch.square(torch.abs(z_org-z)).sum() \n",
        "    loss2 = torch.log(Classifier_model(G(z))[0][target_class])\n",
        "    loss3 = torch.log(D(G(z)))\n",
        "\n",
        "    loss = loss1 - 10*loss2 - loss3\n",
        "    #loss = loss1 - 10*loss2\n",
        "\n",
        "    z.grad = None\n",
        "    loss.backward()\n",
        "    z.requires_grad = False\n",
        "    z = z - z.grad * step_size\n",
        "    i = i+1\n",
        "\n",
        "    overall_loss= overall_loss + loss\n",
        "    if (i%500==0):\n",
        "      #print(\"loss \" + \"step \" + str(i) + str (loss))\n",
        "      avg_loss_old = avg_loss\n",
        "      avg_loss = overall_loss/500.0\n",
        "      print(\"avg_loss \" + \"step \" + \" \" +str(i) + str (avg_loss))\n",
        "      print(\"avg_loss_old \" + \"step \" + str(i) + str (avg_loss_old))\n",
        "      overall_loss = 0 \n",
        "  return z\n",
        "\n",
        "\n",
        "z = counterfactual_eluclidian(z,z_org,5)\n",
        "#Check if the image generated is close to the real image\n",
        "\n",
        "G_img= G(z)\n",
        "npimgs = G_img[0].detach().numpy()\n",
        "print(npimgs.shape)\n",
        "plt.imshow(npimgs[0],cmap='Greys_r')"
      ],
      "execution_count": 18,
      "outputs": [
        {
          "output_type": "stream",
          "text": [
            "avg_loss step  500tensor([28.9334], grad_fn=<DivBackward0>)\n",
            "avg_loss_old step 5001000\n",
            "avg_loss step  1000tensor([3.8907], grad_fn=<DivBackward0>)\n",
            "avg_loss_old step 1000tensor([28.9334], grad_fn=<DivBackward0>)\n",
            "avg_loss step  1500tensor([1.4119], grad_fn=<DivBackward0>)\n",
            "avg_loss_old step 1500tensor([3.8907], grad_fn=<DivBackward0>)\n",
            "avg_loss step  2000tensor([0.9583], grad_fn=<DivBackward0>)\n",
            "avg_loss_old step 2000tensor([1.4119], grad_fn=<DivBackward0>)\n",
            "avg_loss step  2500tensor([0.8945], grad_fn=<DivBackward0>)\n",
            "avg_loss_old step 2500tensor([0.9583], grad_fn=<DivBackward0>)\n",
            "avg_loss step  3000tensor([0.8567], grad_fn=<DivBackward0>)\n",
            "avg_loss_old step 3000tensor([0.8945], grad_fn=<DivBackward0>)\n",
            "avg_loss step  3500tensor([0.8431], grad_fn=<DivBackward0>)\n",
            "avg_loss_old step 3500tensor([0.8567], grad_fn=<DivBackward0>)\n",
            "avg_loss step  4000tensor([0.8391], grad_fn=<DivBackward0>)\n",
            "avg_loss_old step 4000tensor([0.8431], grad_fn=<DivBackward0>)\n",
            "avg_loss step  4500tensor([0.8023], grad_fn=<DivBackward0>)\n",
            "avg_loss_old step 4500tensor([0.8391], grad_fn=<DivBackward0>)\n",
            "avg_loss step  5000tensor([0.5365], grad_fn=<DivBackward0>)\n",
            "avg_loss_old step 5000tensor([0.8023], grad_fn=<DivBackward0>)\n",
            "avg_loss step  5500tensor([0.4963], grad_fn=<DivBackward0>)\n",
            "avg_loss_old step 5500tensor([0.5365], grad_fn=<DivBackward0>)\n",
            "avg_loss step  6000tensor([0.4911], grad_fn=<DivBackward0>)\n",
            "avg_loss_old step 6000tensor([0.4963], grad_fn=<DivBackward0>)\n",
            "avg_loss step  6500tensor([0.4903], grad_fn=<DivBackward0>)\n",
            "avg_loss_old step 6500tensor([0.4911], grad_fn=<DivBackward0>)\n",
            "avg_loss step  7000tensor([0.4679], grad_fn=<DivBackward0>)\n",
            "avg_loss_old step 7000tensor([0.4903], grad_fn=<DivBackward0>)\n",
            "avg_loss step  7500tensor([0.4595], grad_fn=<DivBackward0>)\n",
            "avg_loss_old step 7500tensor([0.4679], grad_fn=<DivBackward0>)\n",
            "avg_loss step  8000tensor([0.4589], grad_fn=<DivBackward0>)\n",
            "avg_loss_old step 8000tensor([0.4595], grad_fn=<DivBackward0>)\n",
            "avg_loss step  8500tensor([0.4589], grad_fn=<DivBackward0>)\n",
            "avg_loss_old step 8500tensor([0.4589], grad_fn=<DivBackward0>)\n",
            "avg_loss step  9000tensor([0.4589], grad_fn=<DivBackward0>)\n",
            "avg_loss_old step 9000tensor([0.4589], grad_fn=<DivBackward0>)\n",
            "avg_loss step  9500tensor([0.4589], grad_fn=<DivBackward0>)\n",
            "avg_loss_old step 9500tensor([0.4589], grad_fn=<DivBackward0>)\n",
            "(1, 28, 28)\n"
          ],
          "name": "stdout"
        },
        {
          "output_type": "execute_result",
          "data": {
            "text/plain": [
              "<matplotlib.image.AxesImage at 0x7f9a1d55c810>"
            ]
          },
          "metadata": {},
          "execution_count": 18
        },
        {
          "output_type": "display_data",
          "data": {
            "image/png": "[encoded data removed]",
            "text/plain": [
              "<Figure size 432x288 with 1 Axes>"
            ]
          },
          "metadata": {
            "needs_background": "light"
          }
        }
      ]
    },
    {
      "cell_type": "code",
      "metadata": {
        "colab": {
          "base_uri": "https://localhost:8080/"
        },
        "id": "xFnCruWDtsLu",
        "outputId": "39140773-70c2-4c4f-babb-e6c5c61b0881"
      },
      "source": [
        "Classifier_model(G(z))[0]"
      ],
      "execution_count": 17,
      "outputs": [
        {
          "output_type": "execute_result",
          "data": {
            "text/plain": [
              "tensor([3.1863e-10, 1.1846e-06, 9.9174e-01, 2.1092e-08, 3.0014e-04, 8.2560e-08,\n",
              "        1.4449e-10, 5.4091e-09, 1.9396e-03, 6.0206e-03],\n",
              "       grad_fn=<SelectBackward>)"
            ]
          },
          "metadata": {},
          "execution_count": 17
        }
      ]
    },
    {
      "cell_type": "code",
      "metadata": {
        "colab": {
          "base_uri": "https://localhost:8080/",
          "height": 634
        },
        "id": "0ejFwG9tsNvD",
        "outputId": "b13dbdcd-74fd-449c-fe0a-6e320ba7309b"
      },
      "source": [
        "#using latent dimension distance and without PR loss\n",
        "\n",
        "#This can be used as the baselines that do not talk about plausibility\n",
        "\n",
        "import torch\n",
        "torch.manual_seed(100)\n",
        "z = torch.randn(1, 100,1,1).to(device)\n",
        "step_size = 0.001\n",
        "\n",
        "\n",
        "def counterfactual_eluclidian(z,z_org,target_class):\n",
        "\n",
        "  overall_loss = 0\n",
        "  loss = 0\n",
        "  avg_loss = 1000\n",
        "  avg_loss_old = 1000\n",
        "  i=1\n",
        "  while (avg_loss_old>=avg_loss):\n",
        "    z.requires_grad = True\n",
        "    loss1 = torch.square(torch.abs(z_org-z)).sum() \n",
        "    loss2 = torch.log(Classifier_model(G(z))[0][target_class])\n",
        "    loss3 = torch.log(D(G(z)))\n",
        "\n",
        "    #loss = loss1 - 10*loss2 - loss3\n",
        "    loss = loss1 - 10*loss2\n",
        "\n",
        "    z.grad = None\n",
        "    loss.backward()\n",
        "    z.requires_grad = False\n",
        "    z = z - z.grad * step_size\n",
        "    i = i+1\n",
        "\n",
        "    overall_loss= overall_loss + loss\n",
        "    if (i%500==0):\n",
        "      #print(\"loss \" + \"step \" + str(i) + str (loss))\n",
        "      avg_loss_old = avg_loss\n",
        "      avg_loss = overall_loss/500.0\n",
        "      print(\"avg_loss \" + \"step \" + \" \" +str(i) + str (avg_loss))\n",
        "      print(\"avg_loss_old \" + \"step \" + str(i) + str (avg_loss_old))\n",
        "      overall_loss = 0 \n",
        "  return z\n",
        "\n",
        "z = counterfactual_eluclidian(z,z_org,3)\n",
        "\n",
        "#Check if the image generated is close to the real image\n",
        "G_img= G(z)\n",
        "npimgs = G_img[0].detach().numpy()\n",
        "print(npimgs.shape)\n",
        "plt.imshow(npimgs[0],cmap='Greys_r')"
      ],
      "execution_count": 177,
      "outputs": [
        {
          "output_type": "stream",
          "text": [
            "avg_loss step  500tensor(48.3900, grad_fn=<DivBackward0>)\n",
            "avg_loss_old step 5001000\n",
            "avg_loss step  1000tensor(16.9182, grad_fn=<DivBackward0>)\n",
            "avg_loss_old step 1000tensor(48.3900, grad_fn=<DivBackward0>)\n",
            "avg_loss step  1500tensor(13.0249, grad_fn=<DivBackward0>)\n",
            "avg_loss_old step 1500tensor(16.9182, grad_fn=<DivBackward0>)\n",
            "avg_loss step  2000tensor(12.7657, grad_fn=<DivBackward0>)\n",
            "avg_loss_old step 2000tensor(13.0249, grad_fn=<DivBackward0>)\n",
            "avg_loss step  2500tensor(12.6995, grad_fn=<DivBackward0>)\n",
            "avg_loss_old step 2500tensor(12.7657, grad_fn=<DivBackward0>)\n",
            "avg_loss step  3000tensor(12.6908, grad_fn=<DivBackward0>)\n",
            "avg_loss_old step 3000tensor(12.6995, grad_fn=<DivBackward0>)\n",
            "avg_loss step  3500tensor(12.6878, grad_fn=<DivBackward0>)\n",
            "avg_loss_old step 3500tensor(12.6908, grad_fn=<DivBackward0>)\n",
            "avg_loss step  4000tensor(12.6876, grad_fn=<DivBackward0>)\n",
            "avg_loss_old step 4000tensor(12.6878, grad_fn=<DivBackward0>)\n",
            "avg_loss step  4500tensor(12.6864, grad_fn=<DivBackward0>)\n",
            "avg_loss_old step 4500tensor(12.6876, grad_fn=<DivBackward0>)\n",
            "avg_loss step  5000tensor(12.6871, grad_fn=<DivBackward0>)\n",
            "avg_loss_old step 5000tensor(12.6864, grad_fn=<DivBackward0>)\n",
            "(1, 28, 28)\n"
          ],
          "name": "stdout"
        },
        {
          "output_type": "execute_result",
          "data": {
            "text/plain": [
              "<matplotlib.image.AxesImage at 0x7f03fab9b310>"
            ]
          },
          "metadata": {},
          "execution_count": 177
        },
        {
          "output_type": "display_data",
          "data": {
            "image/png": "[encoded data removed]",
            "text/plain": [
              "<Figure size 432x288 with 1 Axes>"
            ]
          },
          "metadata": {
            "needs_background": "light"
          }
        }
      ]
    },
    {
      "cell_type": "code",
      "metadata": {
        "colab": {
          "base_uri": "https://localhost:8080/",
          "height": 970
        },
        "id": "pCKydwVltbGi",
        "outputId": "b6ed1aed-0e19-4e3d-8007-759ecb46956e"
      },
      "source": [
        "#using latent dimension distance but cosine similarity\n",
        "import torch\n",
        "cos = nn.CosineSimilarity(dim=1, eps=1e-6)\n",
        "\n",
        "def counterfactual_cosine(z,z_org,target_class):\n",
        "  #print(target_class)\n",
        "  overall_loss = 0\n",
        "  loss = 0\n",
        "  avg_loss = 1000\n",
        "  avg_loss_old = 1000\n",
        "  i=1\n",
        "  while (avg_loss_old>=avg_loss):\n",
        "    z.requires_grad = True\n",
        "    loss1 =  torch.log(0.1+torch.abs(cos(z_org,z)).mean())\n",
        "    loss2 = torch.log(Classifier_model(G(z))[0][target_class])\n",
        "    #print(Classifier_model(G(z))[0][target_class])\n",
        "    loss3 = torch.log(D(G(z)))\n",
        "\n",
        "    loss = -loss1 - loss2 - loss3\n",
        "    #loss = loss1 - 10*loss2\n",
        "\n",
        "    z.grad = None\n",
        "    loss.backward()\n",
        "    z.requires_grad = False\n",
        "    z = z - z.grad * step_size\n",
        "    i = i+1\n",
        "\n",
        "    overall_loss= overall_loss + loss\n",
        "    if (i%500==0):\n",
        "      #print(\"loss \" + \"step \" + str(i) + str (loss))\n",
        "      avg_loss_old = avg_loss\n",
        "      avg_loss = overall_loss/500.0\n",
        "      print(\"avg_loss \" + \"step \" + \" \" +str(i) + str (avg_loss))\n",
        "      print(\"avg_loss_old \" + \"step \" + str(i) + str (avg_loss_old))\n",
        "      overall_loss = 0 \n",
        "    if(i==10000):\n",
        "      break\n",
        "  return z\n",
        "\n",
        "\n",
        "torch.manual_seed(100)\n",
        "z = torch.randn(1, 100,1,1).to(device)\n",
        "step_size = 0.01\n",
        "\n",
        "\n",
        "z = counterfactual_cosine(z,z_org,0)\n",
        "#Check if the image generated is close to the real image\n",
        "\n",
        "G_img= G(z)\n",
        "npimgs = G_img[0].detach().numpy()\n",
        "print(npimgs.shape)\n",
        "plt.imshow(npimgs[0],cmap='Greys_r')"
      ],
      "execution_count": 267,
      "outputs": [
        {
          "output_type": "stream",
          "text": [
            "avg_loss step  500tensor([2.0529], grad_fn=<DivBackward0>)\n",
            "avg_loss_old step 5001000\n",
            "avg_loss step  1000tensor([-0.0304], grad_fn=<DivBackward0>)\n",
            "avg_loss_old step 1000tensor([2.0529], grad_fn=<DivBackward0>)\n",
            "avg_loss step  1500tensor([-0.0327], grad_fn=<DivBackward0>)\n",
            "avg_loss_old step 1500tensor([-0.0304], grad_fn=<DivBackward0>)\n",
            "avg_loss step  2000tensor([-0.0345], grad_fn=<DivBackward0>)\n",
            "avg_loss_old step 2000tensor([-0.0327], grad_fn=<DivBackward0>)\n",
            "avg_loss step  2500tensor([-0.0362], grad_fn=<DivBackward0>)\n",
            "avg_loss_old step 2500tensor([-0.0345], grad_fn=<DivBackward0>)\n",
            "avg_loss step  3000tensor([-0.0377], grad_fn=<DivBackward0>)\n",
            "avg_loss_old step 3000tensor([-0.0362], grad_fn=<DivBackward0>)\n",
            "avg_loss step  3500tensor([-0.0391], grad_fn=<DivBackward0>)\n",
            "avg_loss_old step 3500tensor([-0.0377], grad_fn=<DivBackward0>)\n",
            "avg_loss step  4000tensor([-0.0403], grad_fn=<DivBackward0>)\n",
            "avg_loss_old step 4000tensor([-0.0391], grad_fn=<DivBackward0>)\n",
            "avg_loss step  4500tensor([-0.0413], grad_fn=<DivBackward0>)\n",
            "avg_loss_old step 4500tensor([-0.0403], grad_fn=<DivBackward0>)\n",
            "avg_loss step  5000tensor([-0.0422], grad_fn=<DivBackward0>)\n",
            "avg_loss_old step 5000tensor([-0.0413], grad_fn=<DivBackward0>)\n",
            "avg_loss step  5500tensor([-0.0429], grad_fn=<DivBackward0>)\n",
            "avg_loss_old step 5500tensor([-0.0422], grad_fn=<DivBackward0>)\n",
            "avg_loss step  6000tensor([-0.0437], grad_fn=<DivBackward0>)\n",
            "avg_loss_old step 6000tensor([-0.0429], grad_fn=<DivBackward0>)\n",
            "avg_loss step  6500tensor([-0.0444], grad_fn=<DivBackward0>)\n",
            "avg_loss_old step 6500tensor([-0.0437], grad_fn=<DivBackward0>)\n",
            "avg_loss step  7000tensor([-0.0452], grad_fn=<DivBackward0>)\n",
            "avg_loss_old step 7000tensor([-0.0444], grad_fn=<DivBackward0>)\n",
            "avg_loss step  7500tensor([-0.0459], grad_fn=<DivBackward0>)\n",
            "avg_loss_old step 7500tensor([-0.0452], grad_fn=<DivBackward0>)\n",
            "avg_loss step  8000tensor([-0.0465], grad_fn=<DivBackward0>)\n",
            "avg_loss_old step 8000tensor([-0.0459], grad_fn=<DivBackward0>)\n",
            "avg_loss step  8500tensor([-0.0470], grad_fn=<DivBackward0>)\n",
            "avg_loss_old step 8500tensor([-0.0465], grad_fn=<DivBackward0>)\n",
            "avg_loss step  9000tensor([-0.0474], grad_fn=<DivBackward0>)\n",
            "avg_loss_old step 9000tensor([-0.0470], grad_fn=<DivBackward0>)\n",
            "avg_loss step  9500tensor([-0.0478], grad_fn=<DivBackward0>)\n",
            "avg_loss_old step 9500tensor([-0.0474], grad_fn=<DivBackward0>)\n",
            "avg_loss step  10000tensor([-0.0482], grad_fn=<DivBackward0>)\n",
            "avg_loss_old step 10000tensor([-0.0478], grad_fn=<DivBackward0>)\n",
            "(1, 28, 28)\n"
          ],
          "name": "stdout"
        },
        {
          "output_type": "execute_result",
          "data": {
            "text/plain": [
              "<matplotlib.image.AxesImage at 0x7f03fa7ba1d0>"
            ]
          },
          "metadata": {},
          "execution_count": 267
        },
        {
          "output_type": "display_data",
          "data": {
            "image/png": "[encoded data removed]",
            "text/plain": [
              "<Figure size 432x288 with 1 Axes>"
            ]
          },
          "metadata": {
            "needs_background": "light"
          }
        }
      ]
    },
    {
      "cell_type": "code",
      "metadata": {
        "colab": {
          "base_uri": "https://localhost:8080/"
        },
        "id": "KrFSX3BIDRdr",
        "outputId": "7b339be8-ae02-4478-eea9-961b7a1ebb9c"
      },
      "source": [
        "Classifier_model(G(z))[0]"
      ],
      "execution_count": 264,
      "outputs": [
        {
          "output_type": "execute_result",
          "data": {
            "text/plain": [
              "tensor([1.4663e-10, 5.1856e-08, 4.4245e-10, 5.4238e-10, 3.2776e-05, 1.8631e-04,\n",
              "        5.8319e-09, 3.4236e-04, 9.9791e-01, 1.5309e-03],\n",
              "       grad_fn=<SelectBackward>)"
            ]
          },
          "metadata": {},
          "execution_count": 264
        }
      ]
    },
    {
      "cell_type": "code",
      "metadata": {
        "colab": {
          "base_uri": "https://localhost:8080/"
        },
        "id": "9KZ7HdRgDtEA",
        "outputId": "82e04fc0-cf96-493b-85f6-0319cc2d3b32"
      },
      "source": [
        "D(G(z))"
      ],
      "execution_count": 266,
      "outputs": [
        {
          "output_type": "execute_result",
          "data": {
            "text/plain": [
              "tensor([0.9997], grad_fn=<SqueezeBackward1>)"
            ]
          },
          "metadata": {},
          "execution_count": 266
        }
      ]
    },
    {
      "cell_type": "code",
      "metadata": {
        "id": "TGKLCxij9k4u"
      },
      "source": [
        ""
      ],
      "execution_count": null,
      "outputs": []
    },
    {
      "cell_type": "code",
      "metadata": {
        "id": "Jne0Os8N55iQ"
      },
      "source": [
        ""
      ],
      "execution_count": null,
      "outputs": []
    },
    {
      "cell_type": "markdown",
      "metadata": {
        "id": "Q7AzwDhvuHX-"
      },
      "source": [
        "###Find the image which is on a borderline i.e. semi-factual"
      ]
    },
    {
      "cell_type": "markdown",
      "metadata": {
        "id": "wIyWCd2ZuL0f"
      },
      "source": [
        "Idea: Use the metric **Pred - argmax2nd highest** to identify the borderline semi factual"
      ]
    },
    {
      "cell_type": "code",
      "metadata": {
        "id": "j65ZpSd4uGZg"
      },
      "source": [
        "#Find the image distant from the original one but still has the same class perdiction\n",
        "\n",
        "#using latent dimension distance\n",
        "cos = nn.CosineSimilarity(dim=1, eps=1e-6)\n",
        "\n",
        "import torch\n",
        "torch.manual_seed(100)\n",
        "z_semi = torch.randn(1, 100,1,1).to(device)\n",
        "step_size = 0.001\n",
        "\n",
        "\n",
        "def semifactuals(z_org,z_semi,given_class):\n",
        "  overall_loss = 0\n",
        "  loss = 0\n",
        "  avg_loss = 1000\n",
        "  avg_loss_old = 1000\n",
        "  i=1\n",
        "  while (avg_loss_old>=avg_loss):\n",
        "    z_semi.requires_grad = True\n",
        "    #loss1 = torch.square(torch.abs(z_org-z_semi)).sum() # distance in latent dimension euclidean\n",
        "    \n",
        "    loss1 =  torch.log(0.1+torch.abs(cos(z_org,z_semi)).mean()) # distance using cosine similarity\n",
        "    loss2 = torch.log(Classifier_model(G(z_semi))[0][given_class]) # ensure the class is maintained \n",
        "    temp = Classifier_model(G(z_semi))[0]\n",
        "    loss3 = torch.log(1.1 - (temp[torch.topk(temp,2).indices[0]] - temp[torch.topk(temp,2).indices[1]])) # diference between highest and argmax 2\n",
        "    loss4 = torch.log(D(G(z_semi))) # Plausibility\n",
        "\n",
        "    \n",
        "    \n",
        "  #loss = loss1 - loss2 - 5*loss3 # without PR\n",
        "    loss = -loss1 - loss2 - loss3 - loss4 #with PR\n",
        "    z_semi.grad = None\n",
        "    loss.backward()\n",
        "    z_semi.requires_grad = False\n",
        "    z_semi = z_semi - z_semi.grad * step_size\n",
        "    i = i+1\n",
        "\n",
        "    overall_loss= overall_loss + loss\n",
        "    if (i%500==0):\n",
        "      #print(\"loss \" + \"step \" + str(i) + str (loss))\n",
        "      avg_loss_old = avg_loss\n",
        "      avg_loss = overall_loss/500.0\n",
        "      print(\"avg_loss \" + \"step \" + \" \" +str(i) + str (avg_loss))\n",
        "      print(\"avg_loss_old \" + \"step \" + str(i) + str (avg_loss_old))\n",
        "      overall_loss = 0 \n",
        "  \n",
        "  if (i==10000):\n",
        "    break\n",
        "\n",
        "  return z_semi\n",
        "\n",
        "#-------------------------------------------------------------------\n",
        "# Run the function from here\n",
        "given_class = 4\n",
        "\n",
        "\n",
        "z_semi = semifactuals(z_semi,z_org,given_class)\n",
        "\n",
        "G_img= G(z_semi)\n",
        "npimgs = G_img[0].detach().numpy()\n",
        "print(npimgs.shape)\n",
        "plt.imshow(npimgs[0],cmap='Greys_r')"
      ],
      "execution_count": null,
      "outputs": []
    },
    {
      "cell_type": "code",
      "metadata": {
        "colab": {
          "base_uri": "https://localhost:8080/"
        },
        "id": "8YJZyOUDu5At",
        "outputId": "1094ddc7-b64a-444f-ac75-de39bbdf5d4f"
      },
      "source": [
        "Classifier_model(G(z_semi))[0]"
      ],
      "execution_count": 34,
      "outputs": [
        {
          "output_type": "execute_result",
          "data": {
            "text/plain": [
              "tensor([2.5007e-18, 3.6975e-24, 5.3301e-15, 5.0015e-22, 4.2488e-01, 5.9710e-10,\n",
              "        7.9007e-18, 4.6906e-13, 1.2912e-17, 5.7512e-01],\n",
              "       grad_fn=<SelectBackward>)"
            ]
          },
          "metadata": {},
          "execution_count": 34
        }
      ]
    },
    {
      "cell_type": "code",
      "metadata": {
        "colab": {
          "base_uri": "https://localhost:8080/"
        },
        "id": "Grw0cPaQvSy6",
        "outputId": "d9dcd152-da10-49d7-ba5f-7e29692281d5"
      },
      "source": [
        "torch.topk(Classifier_model(G(z_semi))[0],2)"
      ],
      "execution_count": 38,
      "outputs": [
        {
          "output_type": "execute_result",
          "data": {
            "text/plain": [
              "torch.return_types.topk(values=tensor([0.5236, 0.4764], grad_fn=<TopkBackward>), indices=tensor([4, 9]))"
            ]
          },
          "metadata": {},
          "execution_count": 38
        }
      ]
    },
    {
      "cell_type": "code",
      "metadata": {
        "colab": {
          "base_uri": "https://localhost:8080/"
        },
        "id": "vVyvVi0qvarn",
        "outputId": "c23e226b-76ed-4e40-eaca-0c13fa35ced8"
      },
      "source": [
        "torch.topk(Classifier_model(G(z_org))[0],2)"
      ],
      "execution_count": 39,
      "outputs": [
        {
          "output_type": "execute_result",
          "data": {
            "text/plain": [
              "torch.return_types.topk(values=tensor([1.0000e+00, 3.1299e-06], grad_fn=<TopkBackward>), indices=tensor([4, 9]))"
            ]
          },
          "metadata": {},
          "execution_count": 39
        }
      ]
    },
    {
      "cell_type": "code",
      "metadata": {
        "id": "8Te8MATiweMU"
      },
      "source": [
        ""
      ],
      "execution_count": null,
      "outputs": []
    },
    {
      "cell_type": "markdown",
      "metadata": {
        "id": "nyGDsY2j4NfG"
      },
      "source": [
        "###Find the image which is on a borderline i.e. semi-factual provided a target class"
      ]
    },
    {
      "cell_type": "code",
      "metadata": {
        "colab": {
          "base_uri": "https://localhost:8080/",
          "height": 1000
        },
        "id": "KW5JYRmG4ONB",
        "outputId": "01226966-61a8-4a75-dfea-7a9916d43f2e"
      },
      "source": [
        "#Find the image distant from the original one but still has the same class perdiction\n",
        "\n",
        "#using latent dimension distance\n",
        "\n",
        "import torch\n",
        "torch.manual_seed(100)\n",
        "z_semi = torch.randn(1, 100,1,1).to(device)\n",
        "step_size = 0.001\n",
        "\n",
        "overall_loss = 0\n",
        "loss = 0\n",
        "avg_loss = 1000\n",
        "avg_loss_old = 1000\n",
        "i=1\n",
        "while (avg_loss_old>=avg_loss):\n",
        "  z_semi.requires_grad = True\n",
        "  #loss1 = torch.square(torch.abs(z_org-z_semi)).sum() # distance in latent dimension\n",
        "  \n",
        "  loss1 = torch.log(0.1+torch.abs(cos(z_org,z_semi)).mean()) # distance using cosine similarity\n",
        "  loss2 = torch.log(Classifier_model(G(z_semi))[0][4]) # ensure the class is maintained \n",
        "  #temp = Classifier_model(G(z_semi))[0]\n",
        "  #loss3 = torch.log(1.1 - (temp[torch.topk(temp,2).indices[0]] - temp[torch.topk(temp,2).indices[1]])) # diference between highest and argmax 2\n",
        "  loss3 = torch.log(1.1 - torch.abs((Classifier_model(G(z_semi))[0][4] - Classifier_model(G(z_semi))[0][6]))) # difference between target class and img class\n",
        "  loss4 = torch.log(D(G(z_semi))) # Plausibility\n",
        "\n",
        "  \n",
        "  \n",
        "  loss = -loss1 - loss2 - loss3 -loss4 # without PR\n",
        "  #loss = loss1 - loss2 - 5*loss3 - loss4 #with PR\n",
        "  z_semi.grad = None\n",
        "  loss.backward()\n",
        "  z_semi.requires_grad = False\n",
        "  z_semi = z_semi - z_semi.grad * step_size\n",
        "  i = i+1\n",
        "\n",
        "  overall_loss= overall_loss + loss\n",
        "  if (i%500==0):\n",
        "    #print(\"loss \" + \"step \" + str(i) + str (loss))\n",
        "    avg_loss_old = avg_loss\n",
        "    avg_loss = overall_loss/500.0\n",
        "    print(\"avg_loss \" + \"step \" + \" \" +str(i) + str (avg_loss))\n",
        "    print(\"avg_loss_old \" + \"step \" + str(i) + str (avg_loss_old))\n",
        "    overall_loss = 0 \n",
        " "
      ],
      "execution_count": 40,
      "outputs": [
        {
          "output_type": "stream",
          "text": [
            "avg_loss step  500tensor([20.6390], grad_fn=<DivBackward0>)\n",
            "avg_loss_old step 5001000\n",
            "avg_loss step  1000tensor([13.3473], grad_fn=<DivBackward0>)\n",
            "avg_loss_old step 1000tensor([20.6390], grad_fn=<DivBackward0>)\n",
            "avg_loss step  1500tensor([4.3748], grad_fn=<DivBackward0>)\n",
            "avg_loss_old step 1500tensor([13.3473], grad_fn=<DivBackward0>)\n",
            "avg_loss step  2000tensor([1.3290], grad_fn=<DivBackward0>)\n",
            "avg_loss_old step 2000tensor([4.3748], grad_fn=<DivBackward0>)\n",
            "avg_loss step  2500tensor([1.3171], grad_fn=<DivBackward0>)\n",
            "avg_loss_old step 2500tensor([1.3290], grad_fn=<DivBackward0>)\n",
            "avg_loss step  3000tensor([1.3115], grad_fn=<DivBackward0>)\n",
            "avg_loss_old step 3000tensor([1.3171], grad_fn=<DivBackward0>)\n",
            "avg_loss step  3500tensor([1.3066], grad_fn=<DivBackward0>)\n",
            "avg_loss_old step 3500tensor([1.3115], grad_fn=<DivBackward0>)\n",
            "avg_loss step  4000tensor([1.3037], grad_fn=<DivBackward0>)\n",
            "avg_loss_old step 4000tensor([1.3066], grad_fn=<DivBackward0>)\n",
            "avg_loss step  4500tensor([1.3015], grad_fn=<DivBackward0>)\n",
            "avg_loss_old step 4500tensor([1.3037], grad_fn=<DivBackward0>)\n",
            "avg_loss step  5000tensor([1.2994], grad_fn=<DivBackward0>)\n",
            "avg_loss_old step 5000tensor([1.3015], grad_fn=<DivBackward0>)\n",
            "avg_loss step  5500tensor([1.2973], grad_fn=<DivBackward0>)\n",
            "avg_loss_old step 5500tensor([1.2994], grad_fn=<DivBackward0>)\n",
            "avg_loss step  6000tensor([1.2954], grad_fn=<DivBackward0>)\n",
            "avg_loss_old step 6000tensor([1.2973], grad_fn=<DivBackward0>)\n",
            "avg_loss step  6500tensor([1.2936], grad_fn=<DivBackward0>)\n",
            "avg_loss_old step 6500tensor([1.2954], grad_fn=<DivBackward0>)\n",
            "avg_loss step  7000tensor([1.2920], grad_fn=<DivBackward0>)\n",
            "avg_loss_old step 7000tensor([1.2936], grad_fn=<DivBackward0>)\n",
            "avg_loss step  7500tensor([1.2903], grad_fn=<DivBackward0>)\n",
            "avg_loss_old step 7500tensor([1.2920], grad_fn=<DivBackward0>)\n",
            "avg_loss step  8000tensor([1.2887], grad_fn=<DivBackward0>)\n",
            "avg_loss_old step 8000tensor([1.2903], grad_fn=<DivBackward0>)\n",
            "avg_loss step  8500tensor([1.2869], grad_fn=<DivBackward0>)\n",
            "avg_loss_old step 8500tensor([1.2887], grad_fn=<DivBackward0>)\n",
            "avg_loss step  9000tensor([1.2854], grad_fn=<DivBackward0>)\n",
            "avg_loss_old step 9000tensor([1.2869], grad_fn=<DivBackward0>)\n",
            "avg_loss step  9500tensor([1.2839], grad_fn=<DivBackward0>)\n",
            "avg_loss_old step 9500tensor([1.2854], grad_fn=<DivBackward0>)\n",
            "avg_loss step  10000tensor([1.2825], grad_fn=<DivBackward0>)\n",
            "avg_loss_old step 10000tensor([1.2839], grad_fn=<DivBackward0>)\n"
          ],
          "name": "stdout"
        },
        {
          "output_type": "error",
          "ename": "KeyboardInterrupt",
          "evalue": "ignored",
          "traceback": [
            "\u001b[0;31m---------------------------------------------------------------------------\u001b[0m",
            "\u001b[0;31mKeyboardInterrupt\u001b[0m                         Traceback (most recent call last)",
            "\u001b[0;32m<ipython-input-40-f7adfbaebc99>\u001b[0m in \u001b[0;36m<module>\u001b[0;34m()\u001b[0m\n\u001b[1;32m     28\u001b[0m   \u001b[0;31m#loss = loss1 - loss2 - 5*loss3 - loss4 #with PR\u001b[0m\u001b[0;34m\u001b[0m\u001b[0;34m\u001b[0m\u001b[0;34m\u001b[0m\u001b[0m\n\u001b[1;32m     29\u001b[0m   \u001b[0mz_semi\u001b[0m\u001b[0;34m.\u001b[0m\u001b[0mgrad\u001b[0m \u001b[0;34m=\u001b[0m \u001b[0;32mNone\u001b[0m\u001b[0;34m\u001b[0m\u001b[0;34m\u001b[0m\u001b[0m\n\u001b[0;32m---> 30\u001b[0;31m   \u001b[0mloss\u001b[0m\u001b[0;34m.\u001b[0m\u001b[0mbackward\u001b[0m\u001b[0;34m(\u001b[0m\u001b[0;34m)\u001b[0m\u001b[0;34m\u001b[0m\u001b[0;34m\u001b[0m\u001b[0m\n\u001b[0m\u001b[1;32m     31\u001b[0m   \u001b[0mz_semi\u001b[0m\u001b[0;34m.\u001b[0m\u001b[0mrequires_grad\u001b[0m \u001b[0;34m=\u001b[0m \u001b[0;32mFalse\u001b[0m\u001b[0;34m\u001b[0m\u001b[0;34m\u001b[0m\u001b[0m\n\u001b[1;32m     32\u001b[0m   \u001b[0mz_semi\u001b[0m \u001b[0;34m=\u001b[0m \u001b[0mz_semi\u001b[0m \u001b[0;34m-\u001b[0m \u001b[0mz_semi\u001b[0m\u001b[0;34m.\u001b[0m\u001b[0mgrad\u001b[0m \u001b[0;34m*\u001b[0m \u001b[0mstep_size\u001b[0m\u001b[0;34m\u001b[0m\u001b[0;34m\u001b[0m\u001b[0m\n",
            "\u001b[0;32m/usr/local/lib/python3.7/dist-packages/torch/_tensor.py\u001b[0m in \u001b[0;36mbackward\u001b[0;34m(self, gradient, retain_graph, create_graph, inputs)\u001b[0m\n\u001b[1;32m    253\u001b[0m                 \u001b[0mcreate_graph\u001b[0m\u001b[0;34m=\u001b[0m\u001b[0mcreate_graph\u001b[0m\u001b[0;34m,\u001b[0m\u001b[0;34m\u001b[0m\u001b[0;34m\u001b[0m\u001b[0m\n\u001b[1;32m    254\u001b[0m                 inputs=inputs)\n\u001b[0;32m--> 255\u001b[0;31m         \u001b[0mtorch\u001b[0m\u001b[0;34m.\u001b[0m\u001b[0mautograd\u001b[0m\u001b[0;34m.\u001b[0m\u001b[0mbackward\u001b[0m\u001b[0;34m(\u001b[0m\u001b[0mself\u001b[0m\u001b[0;34m,\u001b[0m \u001b[0mgradient\u001b[0m\u001b[0;34m,\u001b[0m \u001b[0mretain_graph\u001b[0m\u001b[0;34m,\u001b[0m \u001b[0mcreate_graph\u001b[0m\u001b[0;34m,\u001b[0m \u001b[0minputs\u001b[0m\u001b[0;34m=\u001b[0m\u001b[0minputs\u001b[0m\u001b[0;34m)\u001b[0m\u001b[0;34m\u001b[0m\u001b[0;34m\u001b[0m\u001b[0m\n\u001b[0m\u001b[1;32m    256\u001b[0m \u001b[0;34m\u001b[0m\u001b[0m\n\u001b[1;32m    257\u001b[0m     \u001b[0;32mdef\u001b[0m \u001b[0mregister_hook\u001b[0m\u001b[0;34m(\u001b[0m\u001b[0mself\u001b[0m\u001b[0;34m,\u001b[0m \u001b[0mhook\u001b[0m\u001b[0;34m)\u001b[0m\u001b[0;34m:\u001b[0m\u001b[0;34m\u001b[0m\u001b[0;34m\u001b[0m\u001b[0m\n",
            "\u001b[0;32m/usr/local/lib/python3.7/dist-packages/torch/autograd/__init__.py\u001b[0m in \u001b[0;36mbackward\u001b[0;34m(tensors, grad_tensors, retain_graph, create_graph, grad_variables, inputs)\u001b[0m\n\u001b[1;32m    147\u001b[0m     Variable._execution_engine.run_backward(\n\u001b[1;32m    148\u001b[0m         \u001b[0mtensors\u001b[0m\u001b[0;34m,\u001b[0m \u001b[0mgrad_tensors_\u001b[0m\u001b[0;34m,\u001b[0m \u001b[0mretain_graph\u001b[0m\u001b[0;34m,\u001b[0m \u001b[0mcreate_graph\u001b[0m\u001b[0;34m,\u001b[0m \u001b[0minputs\u001b[0m\u001b[0;34m,\u001b[0m\u001b[0;34m\u001b[0m\u001b[0;34m\u001b[0m\u001b[0m\n\u001b[0;32m--> 149\u001b[0;31m         allow_unreachable=True, accumulate_grad=True)  # allow_unreachable flag\n\u001b[0m\u001b[1;32m    150\u001b[0m \u001b[0;34m\u001b[0m\u001b[0m\n\u001b[1;32m    151\u001b[0m \u001b[0;34m\u001b[0m\u001b[0m\n",
            "\u001b[0;31mKeyboardInterrupt\u001b[0m: "
          ]
        }
      ]
    },
    {
      "cell_type": "code",
      "metadata": {
        "colab": {
          "base_uri": "https://localhost:8080/",
          "height": 282
        },
        "id": "-KVqNzvO4Vj2",
        "outputId": "55828bcd-831f-423b-86d5-942ee581a068"
      },
      "source": [
        "# Plotting the semi factual image according to the cf found by the latent dimension loss and target class provided\n",
        "G_img= G(z_semi)\n",
        "npimgs = G_img[0].detach().numpy()\n",
        "#print(npimgs.shape)\n",
        "plt.imshow(npimgs[0],cmap='Greys_r')"
      ],
      "execution_count": 41,
      "outputs": [
        {
          "output_type": "execute_result",
          "data": {
            "text/plain": [
              "<matplotlib.image.AxesImage at 0x7f9a1d12f9d0>"
            ]
          },
          "metadata": {},
          "execution_count": 41
        },
        {
          "output_type": "display_data",
          "data": {
            "image/png": "[encoded data removed]",
            "text/plain": [
              "<Figure size 432x288 with 1 Axes>"
            ]
          },
          "metadata": {
            "needs_background": "light"
          }
        }
      ]
    },
    {
      "cell_type": "code",
      "metadata": {
        "colab": {
          "base_uri": "https://localhost:8080/"
        },
        "id": "HCPEMRJD51uB",
        "outputId": "633ec435-1430-43e5-f33e-857e61864bad"
      },
      "source": [
        "torch.topk(Classifier_model(G(z_semi))[0],2)"
      ],
      "execution_count": 42,
      "outputs": [
        {
          "output_type": "execute_result",
          "data": {
            "text/plain": [
              "torch.return_types.topk(values=tensor([0.5481, 0.4519], grad_fn=<TopkBackward>), indices=tensor([4, 9]))"
            ]
          },
          "metadata": {},
          "execution_count": 42
        }
      ]
    },
    {
      "cell_type": "code",
      "metadata": {
        "colab": {
          "base_uri": "https://localhost:8080/"
        },
        "id": "xss6bV4855Xu",
        "outputId": "0f0f807c-8c6c-4877-ebe3-61aa085f5ed9"
      },
      "source": [
        "loss3"
      ],
      "execution_count": 43,
      "outputs": [
        {
          "output_type": "execute_result",
          "data": {
            "text/plain": [
              "tensor(-0.5944, grad_fn=<LogBackward>)"
            ]
          },
          "metadata": {},
          "execution_count": 43
        }
      ]
    },
    {
      "cell_type": "code",
      "metadata": {
        "colab": {
          "base_uri": "https://localhost:8080/"
        },
        "id": "6ca1QkMn7qkr",
        "outputId": "bd71487e-4695-4202-afe0-b5ab7d98e7c7"
      },
      "source": [
        "torch.abs((Classifier_model(G(z_semi))[0][4] - Classifier_model(G(z_semi))[0][6]))"
      ],
      "execution_count": 44,
      "outputs": [
        {
          "output_type": "execute_result",
          "data": {
            "text/plain": [
              "tensor(0.5481, grad_fn=<AbsBackward>)"
            ]
          },
          "metadata": {},
          "execution_count": 44
        }
      ]
    },
    {
      "cell_type": "code",
      "metadata": {
        "id": "Zwi1rqET7vhE"
      },
      "source": [
        ""
      ],
      "execution_count": null,
      "outputs": []
    }
  ]
}