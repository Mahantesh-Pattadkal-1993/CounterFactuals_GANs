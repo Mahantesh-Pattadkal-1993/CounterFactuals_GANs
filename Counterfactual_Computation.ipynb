{
  "nbformat": 4,
  "nbformat_minor": 0,
  "metadata": {
    "colab": {
      "name": "Counterfactual Computation.ipynb",
      "provenance": [],
      "collapsed_sections": [
        "CHzqEQW8qZUM",
        "Q7AzwDhvuHX-",
        "nyGDsY2j4NfG"
      ],
      "authorship_tag": "ABX9TyPoaG86TM1l3/mUXSd14zHz",
      "include_colab_link": true
    },
    "kernelspec": {
      "name": "python3",
      "display_name": "Python 3"
    },
    "language_info": {
      "name": "python"
    },
    "accelerator": "GPU"
  },
  "cells": [
    {
      "cell_type": "markdown",
      "metadata": {
        "id": "view-in-github",
        "colab_type": "text"
      },
      "source": [
        "<a href=\"https://colab.research.google.com/github/Mahantesh-Pattadkal-1993/CounterFactuals_GANs/blob/main/Counterfactual_Computation.ipynb\" target=\"_parent\"><img src=\"https://colab.research.google.com/assets/colab-badge.svg\" alt=\"Open In Colab\"/></a>"
      ]
    },
    {
      "cell_type": "code",
      "metadata": {
        "colab": {
          "base_uri": "https://localhost:8080/"
        },
        "id": "nWIBBfXcP_kz",
        "outputId": "a43e8525-824e-4cba-e753-638d2ef3995f"
      },
      "source": [
        "from google.colab import drive\n",
        "drive.mount('/content/gdrive')"
      ],
      "execution_count": 1,
      "outputs": [
        {
          "output_type": "stream",
          "text": [
            "Mounted at /content/gdrive\n"
          ],
          "name": "stdout"
        }
      ]
    },
    {
      "cell_type": "code",
      "metadata": {
        "id": "uma5W4TFQSwX"
      },
      "source": [
        "#Setting up the path for GAN Training\n",
        "import os\n",
        "os.chdir('/content/gdrive/MyDrive/Github/CounterFactuals_GANs/MNIST')"
      ],
      "execution_count": 2,
      "outputs": []
    },
    {
      "cell_type": "code",
      "metadata": {
        "colab": {
          "base_uri": "https://localhost:8080/"
        },
        "id": "amOxIb6xQVbM",
        "outputId": "c1bc2235-b3fd-496f-930e-1ae91727e094"
      },
      "source": [
        "#Import the libraries \n",
        "import torch\n",
        "import torch.optim as opt\n",
        "import torch.nn as nn\n",
        "import torch.nn.functional as F\n",
        "import torchvision\n",
        "import torchvision.transforms as transforms\n",
        "\n",
        "import random\n",
        "import numpy as np\n",
        "import matplotlib.pyplot as plt\n",
        "%matplotlib inline\n",
        "from GAN_Models import DC_Generator, DC_Discriminator, Net, CNN, Net_logits\n",
        "device = torch.device(\"cuda\" if torch.cuda.is_available() else \"cpu\") # PyTorch v0.4.0\n",
        "\n",
        "\n",
        "\n",
        "\n",
        "# Set random seed for reproducibility\n",
        "manualSeed = 2021\n",
        "#manualSeed = random.randint(1, 10000) # use if you want new results\n",
        "print(\"Random Seed: \", manualSeed)\n",
        "random.seed(manualSeed)\n",
        "torch.manual_seed(manualSeed)\n"
      ],
      "execution_count": 3,
      "outputs": [
        {
          "output_type": "stream",
          "text": [
            "Random Seed:  2021\n"
          ],
          "name": "stdout"
        },
        {
          "output_type": "execute_result",
          "data": {
            "text/plain": [
              "<torch._C.Generator at 0x7fd6d729c050>"
            ]
          },
          "metadata": {},
          "execution_count": 3
        }
      ]
    },
    {
      "cell_type": "code",
      "metadata": {
        "colab": {
          "base_uri": "https://localhost:8080/"
        },
        "id": "xBnkacTUZQu_",
        "outputId": "bcf18402-ba5c-4ec6-875e-ae496903c597"
      },
      "source": [
        "#Load the Generator  \n",
        "# using the 150 epochs dataset\n",
        "\n",
        "\n",
        "device = torch.device(\"cuda\" if torch.cuda.is_available() else \"cpu\") # PyTorch v0.4.0\n",
        "\n",
        "G = DC_Generator().to(device)\n",
        "D = DC_Discriminator().to(device)\n",
        "\n",
        "\n",
        "checkpoint = torch.load(\"Weights/G_checkpoint_latest_149.pth\", map_location=torch.device('cuda'))\n",
        "G.load_state_dict(checkpoint['state_dict'])\n",
        "\n",
        "checkpoint = torch.load(\"Weights/D_checkpoint_latest_149.pth\", map_location=torch.device('cuda'))\n",
        "D.load_state_dict(checkpoint['state_dict'])"
      ],
      "execution_count": 26,
      "outputs": [
        {
          "output_type": "execute_result",
          "data": {
            "text/plain": [
              "<All keys matched successfully>"
            ]
          },
          "metadata": {},
          "execution_count": 26
        }
      ]
    },
    {
      "cell_type": "code",
      "metadata": {
        "colab": {
          "base_uri": "https://localhost:8080/"
        },
        "id": "IxUuFeUMQdht",
        "outputId": "f09ae4ac-6937-4de4-8b31-69b88479c9ed"
      },
      "source": [
        "#Load the Classifier\n",
        "Classifier_model = Net()\n",
        "Classifier_checkpoint = torch.load(\"Weights/Classifier_CNN.pth\", map_location=torch.device('cuda'))\n",
        "Classifier_model.load_state_dict(Classifier_checkpoint['state_dict'])\n",
        "Classifier_model.eval()"
      ],
      "execution_count": 6,
      "outputs": [
        {
          "output_type": "execute_result",
          "data": {
            "text/plain": [
              "Net(\n",
              "  (conv1): Conv2d(1, 32, kernel_size=(3, 3), stride=(1, 1))\n",
              "  (conv2): Conv2d(32, 64, kernel_size=(3, 3), stride=(1, 1))\n",
              "  (dropout1): Dropout(p=0.25, inplace=False)\n",
              "  (dropout2): Dropout(p=0.5, inplace=False)\n",
              "  (fc1): Linear(in_features=9216, out_features=128, bias=True)\n",
              "  (fc2): Linear(in_features=128, out_features=10, bias=True)\n",
              ")"
            ]
          },
          "metadata": {},
          "execution_count": 6
        }
      ]
    },
    {
      "cell_type": "code",
      "metadata": {
        "colab": {
          "base_uri": "https://localhost:8080/"
        },
        "id": "8QgUV9HIGHoI",
        "outputId": "9ccaca11-9e27-4658-e583-6554e60e63e4"
      },
      "source": [
        "#Load the Classifier Net_logits() and outputs :- softmax, logits\n",
        "Classifier_model_logits = Net_logits().to(device)\n",
        "Classifier_checkpoint = torch.load(\"Weights/Classifier_CNN_logits.pth\", map_location=torch.device('cuda'))\n",
        "Classifier_model_logits.load_state_dict(Classifier_checkpoint['state_dict'])\n",
        "Classifier_model_logits.eval()"
      ],
      "execution_count": 28,
      "outputs": [
        {
          "output_type": "execute_result",
          "data": {
            "text/plain": [
              "Net_logits(\n",
              "  (conv1): Conv2d(1, 32, kernel_size=(3, 3), stride=(1, 1))\n",
              "  (conv2): Conv2d(32, 64, kernel_size=(3, 3), stride=(1, 1))\n",
              "  (dropout1): Dropout(p=0.25, inplace=False)\n",
              "  (dropout2): Dropout(p=0.5, inplace=False)\n",
              "  (fc1): Linear(in_features=9216, out_features=128, bias=True)\n",
              "  (fc2): Linear(in_features=128, out_features=10, bias=True)\n",
              ")"
            ]
          },
          "metadata": {},
          "execution_count": 28
        }
      ]
    },
    {
      "cell_type": "code",
      "metadata": {
        "colab": {
          "base_uri": "https://localhost:8080/"
        },
        "id": "sur5CGLPYCj4",
        "outputId": "b1ae0602-e3e3-4b5b-dbef-3521ab7545bb"
      },
      "source": [
        "#Load Eoins Classifier\n",
        "Classifier_model_eoin = CNN()\n",
        "Classifier_checkpoint = torch.load(\"Weights/pytorch_cnn.pth\", map_location=torch.device('cpu'))\n",
        "#Classifier_model.load_state_dict(Classifier_checkpoint['state_dict'])\n",
        "Classifier_model_eoin.eval()\n",
        "\n",
        "# Gettin weird predictions, maybe the state dict is missing"
      ],
      "execution_count": 6,
      "outputs": [
        {
          "output_type": "execute_result",
          "data": {
            "text/plain": [
              "CNN(\n",
              "  (main): Sequential(\n",
              "    (0): Conv2d(1, 8, kernel_size=(5, 5), stride=(1, 1), padding=(2, 2))\n",
              "    (1): BatchNorm2d(8, eps=1e-05, momentum=0.1, affine=True, track_running_stats=True)\n",
              "    (2): ReLU(inplace=True)\n",
              "    (3): Dropout2d(p=0.1, inplace=False)\n",
              "    (4): Conv2d(8, 16, kernel_size=(5, 5), stride=(2, 2), padding=(2, 2))\n",
              "    (5): BatchNorm2d(16, eps=1e-05, momentum=0.1, affine=True, track_running_stats=True)\n",
              "    (6): ReLU(inplace=True)\n",
              "    (7): Dropout2d(p=0.1, inplace=False)\n",
              "    (8): Conv2d(16, 32, kernel_size=(5, 5), stride=(1, 1), padding=(2, 2))\n",
              "    (9): BatchNorm2d(32, eps=1e-05, momentum=0.1, affine=True, track_running_stats=True)\n",
              "    (10): ReLU(inplace=True)\n",
              "    (11): Dropout2d(p=0.1, inplace=False)\n",
              "    (12): Conv2d(32, 64, kernel_size=(5, 5), stride=(2, 2), padding=(2, 2))\n",
              "    (13): BatchNorm2d(64, eps=1e-05, momentum=0.1, affine=True, track_running_stats=True)\n",
              "    (14): ReLU(inplace=True)\n",
              "    (15): Dropout2d(p=0.2, inplace=False)\n",
              "    (16): Conv2d(64, 128, kernel_size=(3, 3), stride=(1, 1), padding=(1, 1))\n",
              "    (17): BatchNorm2d(128, eps=1e-05, momentum=0.1, affine=True, track_running_stats=True)\n",
              "    (18): ReLU(inplace=True)\n",
              "  )\n",
              "  (classifier): Sequential(\n",
              "    (0): Linear(in_features=128, out_features=10, bias=True)\n",
              "  )\n",
              ")"
            ]
          },
          "metadata": {},
          "execution_count": 6
        }
      ]
    },
    {
      "cell_type": "code",
      "metadata": {
        "colab": {
          "base_uri": "https://localhost:8080/"
        },
        "id": "vHnhp6XXRCby",
        "outputId": "20ff7276-a72b-4a9c-adfe-79a577978cc9"
      },
      "source": [
        "#Loading the data\n",
        "\n",
        "mb_size = 2\n",
        "\n",
        "transform = transforms.Compose(\n",
        "\t\t[transforms.ToTensor(),\n",
        "\t\t transforms.Normalize((0.5,), (0.5,))])\n",
        "\n",
        "trainData = torchvision.datasets.MNIST('./data/', download=True, transform=transform, train=True)\n",
        "\n",
        "trainLoader = torch.utils.data.DataLoader(trainData, shuffle=False, batch_size=mb_size)\n",
        "\n",
        "dataIter = iter(trainLoader)\n",
        "\n",
        "imgs, labels = dataIter.next()\n",
        "imgs = imgs.to(device)\n",
        "\n",
        "print(imgs.shape)\n",
        "print(labels)\n",
        "imgs.is_cuda"
      ],
      "execution_count": 42,
      "outputs": [
        {
          "output_type": "stream",
          "text": [
            "torch.Size([2, 1, 28, 28])\n",
            "tensor([5, 0])\n"
          ],
          "name": "stdout"
        },
        {
          "output_type": "execute_result",
          "data": {
            "text/plain": [
              "True"
            ]
          },
          "metadata": {},
          "execution_count": 42
        }
      ]
    },
    {
      "cell_type": "code",
      "metadata": {
        "colab": {
          "base_uri": "https://localhost:8080/"
        },
        "id": "U2b9tm8hblrI",
        "outputId": "ffac7a0c-bd67-4550-ec4d-4af26ef8779d"
      },
      "source": [
        "next(Classifier_model_logits.parameters()).device\n",
        "\n",
        "sample_image.is_cuda"
      ],
      "execution_count": 51,
      "outputs": [
        {
          "output_type": "execute_result",
          "data": {
            "text/plain": [
              "False"
            ]
          },
          "metadata": {},
          "execution_count": 51
        }
      ]
    },
    {
      "cell_type": "code",
      "metadata": {
        "colab": {
          "base_uri": "https://localhost:8080/",
          "height": 315
        },
        "id": "J4QajikfSHfx",
        "outputId": "e329176b-4c58-4c42-e4e7-814801878c93"
      },
      "source": [
        "sample_image = imgs[1,:,:,:] #first image in this batch \n",
        "sample_image= sample_image.reshape([1,1,28,28]) #adding the dimension for batch size\n",
        "sample_image = sample_image.to('cpu') #pushing it to cpu as that numpy conversion can be done\n",
        "\n",
        "\n",
        "npimgs = sample_image[0].detach().numpy()\n",
        "plt.imshow(npimgs[0],cmap='Greys_r')\n",
        "\n",
        "sample_image = sample_image.to('cuda')\n",
        "output, logits = Classifier_model_logits(sample_image)\n",
        "print(output)"
      ],
      "execution_count": 52,
      "outputs": [
        {
          "output_type": "stream",
          "text": [
            "tensor([[1.0000e+00, 8.4316e-11, 1.7799e-08, 5.8022e-12, 1.0353e-11, 1.9533e-13,\n",
            "         2.2826e-09, 1.6658e-10, 1.5406e-11, 1.8834e-11]], device='cuda:0',\n",
            "       grad_fn=<SoftmaxBackward>)\n"
          ],
          "name": "stdout"
        },
        {
          "output_type": "display_data",
          "data": {
            "image/png": "[encoded data removed]",
            "text/plain": [
              "<Figure size 432x288 with 1 Axes>"
            ]
          },
          "metadata": {
            "needs_background": "light"
          }
        }
      ]
    },
    {
      "cell_type": "code",
      "metadata": {
        "id": "--otHGKdTbBh"
      },
      "source": [
        "import torch\n",
        "torch.manual_seed(100)\n",
        "z = torch.randn(1, 100,1,1).to(device)\n",
        "step_size = 0.001"
      ],
      "execution_count": 53,
      "outputs": []
    },
    {
      "cell_type": "code",
      "metadata": {
        "colab": {
          "base_uri": "https://localhost:8080/",
          "height": 766
        },
        "id": "kBQFg3WiaO4G",
        "outputId": "ad9c5325-aa7d-4eb3-f7e1-76c7bc2d5109"
      },
      "source": [
        "#find the z_org that respresents the latent representation of given image\n",
        "\n",
        "def latent_representation(z,sample_image,pred):\n",
        "  overall_loss = 0\n",
        "  loss = 0\n",
        "  avg_loss = 1000\n",
        "  avg_loss_old = 1000\n",
        "  i=1\n",
        "  while (avg_loss_old>=avg_loss):\n",
        "    z.requires_grad = True\n",
        "    loss1 = torch.square(torch.abs(sample_image-G(z))).sum() \n",
        "    loss2 = torch.square(torch.abs(Classifier_model_logits(G(z))[0] - Classifier_model_logits(sample_image)[0]).sum())\n",
        "    #loss2 = torch.square(torch.abs(Classifier_model_logits(G(z)) - Classifier_model_logits(sample_image)).sum()) # use when Net() model is used\n",
        "    \n",
        "\n",
        "    loss = loss1 + loss2\n",
        "\n",
        "    z.grad = None\n",
        "    loss.backward()\n",
        "    z.requires_grad = False\n",
        "    z = z - z.grad * step_size\n",
        "    i = i+1\n",
        "\n",
        "    overall_loss= overall_loss + loss\n",
        "    if (i%500==0):\n",
        "      #print(\"loss \" + \"step \" + str(i) + str (loss))\n",
        "      avg_loss_old = avg_loss\n",
        "      avg_loss = overall_loss/500.0\n",
        "      print(\"avg_loss \" + \"step \" + \" \" +str(i) + str (avg_loss))\n",
        "      print(\"avg_loss_old \" + \"step \" + str(i) + str (avg_loss_old))\n",
        "      overall_loss = 0 \n",
        "    \n",
        "    if(i==10000):\n",
        "      break\n",
        "\n",
        "  return z\n",
        "\n",
        "z_org = latent_representation(z,sample_image,4)\n",
        "\n",
        "G_img= G(z_org) #generate the img\n",
        "G_img = G_img.to('cpu')  # bring it to cpu\n",
        "npimgs = G_img[0].detach().numpy()  #plot the image\n",
        "print(npimgs.shape)\n",
        "plt.imshow(npimgs[0],cmap='Greys_r')\n",
        "\n",
        "\n"
      ],
      "execution_count": 54,
      "outputs": [
        {
          "output_type": "stream",
          "text": [
            "avg_loss step  500tensor(208.4463, device='cuda:0', grad_fn=<DivBackward0>)\n",
            "avg_loss_old step 5001000\n",
            "avg_loss step  1000tensor(22.9522, device='cuda:0', grad_fn=<DivBackward0>)\n",
            "avg_loss_old step 1000tensor(208.4463, device='cuda:0', grad_fn=<DivBackward0>)\n",
            "avg_loss step  1500tensor(16.5105, device='cuda:0', grad_fn=<DivBackward0>)\n",
            "avg_loss_old step 1500tensor(22.9522, device='cuda:0', grad_fn=<DivBackward0>)\n",
            "avg_loss step  2000tensor(14.5849, device='cuda:0', grad_fn=<DivBackward0>)\n",
            "avg_loss_old step 2000tensor(16.5105, device='cuda:0', grad_fn=<DivBackward0>)\n",
            "avg_loss step  2500tensor(13.5970, device='cuda:0', grad_fn=<DivBackward0>)\n",
            "avg_loss_old step 2500tensor(14.5849, device='cuda:0', grad_fn=<DivBackward0>)\n",
            "avg_loss step  3000tensor(12.8471, device='cuda:0', grad_fn=<DivBackward0>)\n",
            "avg_loss_old step 3000tensor(13.5970, device='cuda:0', grad_fn=<DivBackward0>)\n",
            "avg_loss step  3500tensor(12.0381, device='cuda:0', grad_fn=<DivBackward0>)\n",
            "avg_loss_old step 3500tensor(12.8471, device='cuda:0', grad_fn=<DivBackward0>)\n",
            "avg_loss step  4000tensor(11.4672, device='cuda:0', grad_fn=<DivBackward0>)\n",
            "avg_loss_old step 4000tensor(12.0381, device='cuda:0', grad_fn=<DivBackward0>)\n",
            "avg_loss step  4500tensor(10.7907, device='cuda:0', grad_fn=<DivBackward0>)\n",
            "avg_loss_old step 4500tensor(11.4672, device='cuda:0', grad_fn=<DivBackward0>)\n",
            "avg_loss step  5000tensor(9.9972, device='cuda:0', grad_fn=<DivBackward0>)\n",
            "avg_loss_old step 5000tensor(10.7907, device='cuda:0', grad_fn=<DivBackward0>)\n",
            "avg_loss step  5500tensor(9.6282, device='cuda:0', grad_fn=<DivBackward0>)\n",
            "avg_loss_old step 5500tensor(9.9972, device='cuda:0', grad_fn=<DivBackward0>)\n",
            "avg_loss step  6000tensor(9.4002, device='cuda:0', grad_fn=<DivBackward0>)\n",
            "avg_loss_old step 6000tensor(9.6282, device='cuda:0', grad_fn=<DivBackward0>)\n",
            "avg_loss step  6500tensor(9.2269, device='cuda:0', grad_fn=<DivBackward0>)\n",
            "avg_loss_old step 6500tensor(9.4002, device='cuda:0', grad_fn=<DivBackward0>)\n",
            "avg_loss step  7000tensor(9.0863, device='cuda:0', grad_fn=<DivBackward0>)\n",
            "avg_loss_old step 7000tensor(9.2269, device='cuda:0', grad_fn=<DivBackward0>)\n",
            "avg_loss step  7500tensor(8.9015, device='cuda:0', grad_fn=<DivBackward0>)\n",
            "avg_loss_old step 7500tensor(9.0863, device='cuda:0', grad_fn=<DivBackward0>)\n",
            "avg_loss step  8000tensor(8.9059, device='cuda:0', grad_fn=<DivBackward0>)\n",
            "avg_loss_old step 8000tensor(8.9015, device='cuda:0', grad_fn=<DivBackward0>)\n"
          ],
          "name": "stdout"
        },
        {
          "output_type": "error",
          "ename": "TypeError",
          "evalue": "ignored",
          "traceback": [
            "\u001b[0;31m---------------------------------------------------------------------------\u001b[0m",
            "\u001b[0;31mTypeError\u001b[0m                                 Traceback (most recent call last)",
            "\u001b[0;32m<ipython-input-54-b0acd2abdaa0>\u001b[0m in \u001b[0;36m<module>\u001b[0;34m()\u001b[0m\n\u001b[1;32m     39\u001b[0m \u001b[0;34m\u001b[0m\u001b[0m\n\u001b[1;32m     40\u001b[0m \u001b[0mG_img\u001b[0m\u001b[0;34m=\u001b[0m \u001b[0mG\u001b[0m\u001b[0;34m(\u001b[0m\u001b[0mz_org\u001b[0m\u001b[0;34m)\u001b[0m\u001b[0;34m\u001b[0m\u001b[0;34m\u001b[0m\u001b[0m\n\u001b[0;32m---> 41\u001b[0;31m \u001b[0mnpimgs\u001b[0m \u001b[0;34m=\u001b[0m \u001b[0mG_img\u001b[0m\u001b[0;34m[\u001b[0m\u001b[0;36m0\u001b[0m\u001b[0;34m]\u001b[0m\u001b[0;34m.\u001b[0m\u001b[0mdetach\u001b[0m\u001b[0;34m(\u001b[0m\u001b[0;34m)\u001b[0m\u001b[0;34m.\u001b[0m\u001b[0mnumpy\u001b[0m\u001b[0;34m(\u001b[0m\u001b[0;34m)\u001b[0m\u001b[0;34m\u001b[0m\u001b[0;34m\u001b[0m\u001b[0m\n\u001b[0m\u001b[1;32m     42\u001b[0m \u001b[0mprint\u001b[0m\u001b[0;34m(\u001b[0m\u001b[0mnpimgs\u001b[0m\u001b[0;34m.\u001b[0m\u001b[0mshape\u001b[0m\u001b[0;34m)\u001b[0m\u001b[0;34m\u001b[0m\u001b[0;34m\u001b[0m\u001b[0m\n\u001b[1;32m     43\u001b[0m \u001b[0mplt\u001b[0m\u001b[0;34m.\u001b[0m\u001b[0mimshow\u001b[0m\u001b[0;34m(\u001b[0m\u001b[0mnpimgs\u001b[0m\u001b[0;34m[\u001b[0m\u001b[0;36m0\u001b[0m\u001b[0;34m]\u001b[0m\u001b[0;34m,\u001b[0m\u001b[0mcmap\u001b[0m\u001b[0;34m=\u001b[0m\u001b[0;34m'Greys_r'\u001b[0m\u001b[0;34m)\u001b[0m\u001b[0;34m\u001b[0m\u001b[0;34m\u001b[0m\u001b[0m\n",
            "\u001b[0;31mTypeError\u001b[0m: can't convert cuda:0 device type tensor to numpy. Use Tensor.cpu() to copy the tensor to host memory first."
          ]
        }
      ]
    },
    {
      "cell_type": "code",
      "metadata": {
        "colab": {
          "base_uri": "https://localhost:8080/"
        },
        "id": "KJCFW5KPwnBn",
        "outputId": "dffc8707-6684-448f-a014-2f9dca46fe15"
      },
      "source": [
        "Classifier_model_logits(G(z))[0]"
      ],
      "execution_count": 56,
      "outputs": [
        {
          "output_type": "execute_result",
          "data": {
            "text/plain": [
              "tensor([[1.3555e-06, 9.3431e-12, 2.9211e-12, 1.9332e-12, 3.1462e-12, 5.2353e-05,\n",
              "         9.9993e-01, 1.9209e-13, 2.0184e-05, 2.9865e-13]], device='cuda:0',\n",
              "       grad_fn=<SoftmaxBackward>)"
            ]
          },
          "metadata": {},
          "execution_count": 56
        }
      ]
    },
    {
      "cell_type": "markdown",
      "metadata": {
        "id": "CHzqEQW8qZUM"
      },
      "source": [
        "## Latent dimension loss "
      ]
    },
    {
      "cell_type": "code",
      "metadata": {
        "colab": {
          "base_uri": "https://localhost:8080/",
          "height": 534
        },
        "id": "2FRhTyamqTNh",
        "outputId": "ff6e7abb-3a35-4e47-c94c-93dc95f033f1"
      },
      "source": [
        "#using latent dimension euclidean distance and PR loss\n",
        "import torch\n",
        "torch.manual_seed(100)\n",
        "z = torch.randn(1, 100,1,1).to(device)\n",
        "step_size = 0.001\n",
        "\n",
        "\n",
        "def counterfactual_eluclidian(z,z_org,target_class):\n",
        "\n",
        "  overall_loss = 0\n",
        "  loss = 0\n",
        "  avg_loss = 1000\n",
        "  avg_loss_old = 1000\n",
        "  i=1\n",
        "  while (avg_loss_old>=avg_loss):\n",
        "    z.requires_grad = True\n",
        "    loss1 = torch.square(torch.abs(z_org-z)).sum() #latent dim euclidean loss\n",
        "    loss2 = torch.log(Classifier_model_logits(G(z))[0][0][target_class]) #as classifier gives 2 outputs we take 0th index\n",
        "    loss3 = torch.log(D(G(z))) #plausibility\n",
        "\n",
        "    loss = loss1 - loss2 \n",
        "    #loss = loss1 - 10*loss2\n",
        "\n",
        "    z.grad = None\n",
        "    loss.backward()\n",
        "    z.requires_grad = False\n",
        "    z = z - z.grad * step_size\n",
        "    i = i+1\n",
        "\n",
        "    overall_loss= overall_loss + loss\n",
        "    if (i%500==0):\n",
        "      #print(\"loss \" + \"step \" + str(i) + str (loss))\n",
        "      avg_loss_old = avg_loss\n",
        "      avg_loss = overall_loss/500.0\n",
        "      print(\"avg_loss \" + \"step \" + \" \" +str(i) + str (avg_loss))\n",
        "      print(\"avg_loss_old \" + \"step \" + str(i) + str (avg_loss_old))\n",
        "      overall_loss = 0 \n",
        "  return z, loss1, loss2, loss3\n",
        "\n",
        "target_class = 1\n",
        "z_eucli, loss1, loss2, loss3 = counterfactual_eluclidian(z,z_org,target_class)\n",
        "#Check if the image generated is close to the real image\n",
        "\n",
        "G_img= G(z_eucli)\n",
        "npimgs = G_img[0].detach().numpy()\n",
        "print(npimgs.shape)\n",
        "plt.imshow(npimgs[0],cmap='Greys_r')"
      ],
      "execution_count": 23,
      "outputs": [
        {
          "output_type": "stream",
          "text": [
            "avg_loss step  500tensor(44.3367, grad_fn=<DivBackward0>)\n",
            "avg_loss_old step 5001000\n",
            "avg_loss step  1000tensor(11.3798, grad_fn=<DivBackward0>)\n",
            "avg_loss_old step 1000tensor(44.3367, grad_fn=<DivBackward0>)\n",
            "avg_loss step  1500tensor(5.1295, grad_fn=<DivBackward0>)\n",
            "avg_loss_old step 1500tensor(11.3798, grad_fn=<DivBackward0>)\n",
            "avg_loss step  2000tensor(4.1300, grad_fn=<DivBackward0>)\n",
            "avg_loss_old step 2000tensor(5.1295, grad_fn=<DivBackward0>)\n",
            "avg_loss step  2500tensor(3.9595, grad_fn=<DivBackward0>)\n",
            "avg_loss_old step 2500tensor(4.1300, grad_fn=<DivBackward0>)\n",
            "avg_loss step  3000tensor(3.9356, grad_fn=<DivBackward0>)\n",
            "avg_loss_old step 3000tensor(3.9595, grad_fn=<DivBackward0>)\n",
            "avg_loss step  3500tensor(3.9402, grad_fn=<DivBackward0>)\n",
            "avg_loss_old step 3500tensor(3.9356, grad_fn=<DivBackward0>)\n",
            "(1, 28, 28)\n"
          ],
          "name": "stdout"
        },
        {
          "output_type": "execute_result",
          "data": {
            "text/plain": [
              "<matplotlib.image.AxesImage at 0x7fbb386abb50>"
            ]
          },
          "metadata": {},
          "execution_count": 23
        },
        {
          "output_type": "display_data",
          "data": {
            "image/png": "[encoded data removed]",
            "text/plain": [
              "<Figure size 432x288 with 1 Axes>"
            ]
          },
          "metadata": {
            "needs_background": "light"
          }
        }
      ]
    },
    {
      "cell_type": "code",
      "metadata": {
        "colab": {
          "base_uri": "https://localhost:8080/"
        },
        "id": "xFnCruWDtsLu",
        "outputId": "2e2feda7-da48-45e2-d0f4-e3d8aa5b7b91"
      },
      "source": [
        "Classifier_model_logits(G(z_eucli))[0]"
      ],
      "execution_count": 24,
      "outputs": [
        {
          "output_type": "execute_result",
          "data": {
            "text/plain": [
              "tensor([[1.8972e-03, 4.9882e-01, 1.5683e-01, 6.7859e-02, 1.2414e-01, 2.1038e-05,\n",
              "         1.3386e-01, 1.0421e-02, 6.0656e-03, 8.5337e-05]],\n",
              "       grad_fn=<SoftmaxBackward>)"
            ]
          },
          "metadata": {},
          "execution_count": 24
        }
      ]
    },
    {
      "cell_type": "code",
      "metadata": {
        "colab": {
          "base_uri": "https://localhost:8080/",
          "height": 634
        },
        "id": "0ejFwG9tsNvD",
        "outputId": "b13dbdcd-74fd-449c-fe0a-6e320ba7309b"
      },
      "source": [
        "#using latent dimension distance and without PR loss\n",
        "\n",
        "#This can be used as the baselines that do not talk about plausibility\n",
        "\n",
        "import torch\n",
        "torch.manual_seed(100)\n",
        "z = torch.randn(1, 100,1,1).to(device)\n",
        "step_size = 0.001\n",
        "\n",
        "\n",
        "def counterfactual_eluclidian(z,z_org,target_class):\n",
        "\n",
        "  overall_loss = 0\n",
        "  loss = 0\n",
        "  avg_loss = 1000\n",
        "  avg_loss_old = 1000\n",
        "  i=1\n",
        "  while (avg_loss_old>=avg_loss):\n",
        "    z.requires_grad = True\n",
        "    loss1 = torch.square(torch.abs(z_org-z)).sum() \n",
        "    loss2 = torch.log(Classifier_model_logits(G(z))[0][0][target_class])\n",
        "    loss3 = torch.log(D(G(z)))\n",
        "\n",
        "    #loss = loss1 - 10*loss2 - loss3\n",
        "    loss = loss1 - 10*loss2\n",
        "\n",
        "    z.grad = None\n",
        "    loss.backward()\n",
        "    z.requires_grad = False\n",
        "    z = z - z.grad * step_size\n",
        "    i = i+1\n",
        "\n",
        "    overall_loss= overall_loss + loss\n",
        "    if (i%500==0):\n",
        "      #print(\"loss \" + \"step \" + str(i) + str (loss))\n",
        "      avg_loss_old = avg_loss\n",
        "      avg_loss = overall_loss/500.0\n",
        "      print(\"avg_loss \" + \"step \" + \" \" +str(i) + str (avg_loss))\n",
        "      print(\"avg_loss_old \" + \"step \" + str(i) + str (avg_loss_old))\n",
        "      overall_loss = 0 \n",
        "  return z\n",
        "\n",
        "z = counterfactual_eluclidian(z,z_org,3)\n",
        "\n",
        "#Check if the image generated is close to the real image\n",
        "G_img= G(z)\n",
        "npimgs = G_img[0].detach().numpy()\n",
        "print(npimgs.shape)\n",
        "plt.imshow(npimgs[0],cmap='Greys_r')"
      ],
      "execution_count": 177,
      "outputs": [
        {
          "output_type": "stream",
          "text": [
            "avg_loss step  500tensor(48.3900, grad_fn=<DivBackward0>)\n",
            "avg_loss_old step 5001000\n",
            "avg_loss step  1000tensor(16.9182, grad_fn=<DivBackward0>)\n",
            "avg_loss_old step 1000tensor(48.3900, grad_fn=<DivBackward0>)\n",
            "avg_loss step  1500tensor(13.0249, grad_fn=<DivBackward0>)\n",
            "avg_loss_old step 1500tensor(16.9182, grad_fn=<DivBackward0>)\n",
            "avg_loss step  2000tensor(12.7657, grad_fn=<DivBackward0>)\n",
            "avg_loss_old step 2000tensor(13.0249, grad_fn=<DivBackward0>)\n",
            "avg_loss step  2500tensor(12.6995, grad_fn=<DivBackward0>)\n",
            "avg_loss_old step 2500tensor(12.7657, grad_fn=<DivBackward0>)\n",
            "avg_loss step  3000tensor(12.6908, grad_fn=<DivBackward0>)\n",
            "avg_loss_old step 3000tensor(12.6995, grad_fn=<DivBackward0>)\n",
            "avg_loss step  3500tensor(12.6878, grad_fn=<DivBackward0>)\n",
            "avg_loss_old step 3500tensor(12.6908, grad_fn=<DivBackward0>)\n",
            "avg_loss step  4000tensor(12.6876, grad_fn=<DivBackward0>)\n",
            "avg_loss_old step 4000tensor(12.6878, grad_fn=<DivBackward0>)\n",
            "avg_loss step  4500tensor(12.6864, grad_fn=<DivBackward0>)\n",
            "avg_loss_old step 4500tensor(12.6876, grad_fn=<DivBackward0>)\n",
            "avg_loss step  5000tensor(12.6871, grad_fn=<DivBackward0>)\n",
            "avg_loss_old step 5000tensor(12.6864, grad_fn=<DivBackward0>)\n",
            "(1, 28, 28)\n"
          ],
          "name": "stdout"
        },
        {
          "output_type": "execute_result",
          "data": {
            "text/plain": [
              "<matplotlib.image.AxesImage at 0x7f03fab9b310>"
            ]
          },
          "metadata": {},
          "execution_count": 177
        },
        {
          "output_type": "display_data",
          "data": {
            "image/png": "[encoded data removed]",
            "text/plain": [
              "<Figure size 432x288 with 1 Axes>"
            ]
          },
          "metadata": {
            "needs_background": "light"
          }
        }
      ]
    },
    {
      "cell_type": "code",
      "metadata": {
        "id": "pCKydwVltbGi"
      },
      "source": [
        "#using latent dimension distance but cosine similarity\n",
        "import torch\n",
        "cos = nn.CosineSimilarity(dim=1, eps=1e-6)\n",
        "\n",
        "def counterfactual_cosine(z,z_org,target_class):\n",
        "  #print(target_class)\n",
        "  overall_loss = 0\n",
        "  loss = 0\n",
        "  avg_loss = 1000\n",
        "  avg_loss_old = 1000\n",
        "  i=1\n",
        "  while (avg_loss_old>=avg_loss):\n",
        "    z.requires_grad = True\n",
        "    loss1 =  torch.log(0.1+torch.abs(cos(z_org,z)).mean())\n",
        "    loss2 = torch.log(Classifier_model(G(z))[0][0][target_class])\n",
        "    #print(Classifier_model(G(z))[0][target_class])\n",
        "    loss3 = torch.log(D(G(z)))\n",
        "\n",
        "    loss = -loss1 - loss2 - loss3\n",
        "    #loss = loss1 - 10*loss2\n",
        "\n",
        "    z.grad = None\n",
        "    loss.backward()\n",
        "    z.requires_grad = False\n",
        "    z = z - z.grad * step_size\n",
        "    i = i+1\n",
        "\n",
        "    overall_loss= overall_loss + loss\n",
        "    if (i%500==0):\n",
        "      #print(\"loss \" + \"step \" + str(i) + str (loss))\n",
        "      avg_loss_old = avg_loss\n",
        "      avg_loss = overall_loss/500.0\n",
        "      print(\"loss2\" + \" \" + str(loss2))\n",
        "      print(\"avg_loss \" + \"step \" + \" \" +str(i) + str (avg_loss))\n",
        "      print(\"avg_loss_old \" + \"step \" + str(i) + str (avg_loss_old))\n",
        "      overall_loss = 0 \n",
        "    if(i==10000):\n",
        "      break\n",
        "  \n",
        "  return z, loss1, loss2, loss3\n",
        "\n",
        "\n",
        "torch.manual_seed(100)\n",
        "z= torch.randn(1, 100,1,1).to(device)\n",
        "step_size = 0.01\n",
        "\n",
        "target_class = 1\n",
        "z_cf,loss1, loss2, loss3 = counterfactual_cosine(z,z_org,target_class)\n",
        "#Check if the image generated is close to the real image\n",
        "\n",
        "G_img= G(z_cf)\n",
        "npimgs = G_img[0].detach().numpy()\n",
        "print(npimgs.shape)\n",
        "plt.imshow(npimgs[0],cmap='Greys_r')"
      ],
      "execution_count": null,
      "outputs": []
    },
    {
      "cell_type": "code",
      "metadata": {
        "id": "ALKaTtg0Jagc"
      },
      "source": [
        "# Save the latent cfs for all the digits from 0-9\n",
        "latent_cfs = []\n",
        "for cnt in range(0,10,1):\n",
        "  torch.manual_seed(100)\n",
        "  z= torch.randn(1, 100,1,1).to(device)\n",
        "  step_size = 0.01\n",
        "\n",
        "  target_class = cnt\n",
        "  z_cf,loss1, loss2, loss3 = counterfactual_cosine(z,z_org,target_class)\n",
        "  latent_cfs.append(z_cf)"
      ],
      "execution_count": null,
      "outputs": []
    },
    {
      "cell_type": "code",
      "metadata": {
        "id": "uXNQzeiwFHNk"
      },
      "source": [
        "G_img= G(latent_cfs[0])\n",
        "npimgs = G_img[0].detach().numpy()\n",
        "print(npimgs.shape)\n",
        "plt.imshow(npimgs[0],cmap='Greys_r')"
      ],
      "execution_count": null,
      "outputs": []
    },
    {
      "cell_type": "code",
      "metadata": {
        "colab": {
          "base_uri": "https://localhost:8080/",
          "height": 298
        },
        "id": "7Y5tMQbn2eTP",
        "outputId": "d29c6afe-c0cf-4fd3-ce07-0dda7f0232e8"
      },
      "source": [
        "# Check how the original one looks\n",
        "G_img= G(z_org)\n",
        "npimgs = G_img[0].detach().numpy()\n",
        "print(npimgs.shape)\n",
        "plt.imshow(npimgs[0],cmap='Greys_r')"
      ],
      "execution_count": 84,
      "outputs": [
        {
          "output_type": "stream",
          "text": [
            "(1, 28, 28)\n"
          ],
          "name": "stdout"
        },
        {
          "output_type": "execute_result",
          "data": {
            "text/plain": [
              "<matplotlib.image.AxesImage at 0x7fa886641050>"
            ]
          },
          "metadata": {},
          "execution_count": 84
        },
        {
          "output_type": "display_data",
          "data": {
            "image/png": "[encoded data removed]",
            "text/plain": [
              "<Figure size 432x288 with 1 Axes>"
            ]
          },
          "metadata": {
            "needs_background": "light"
          }
        }
      ]
    },
    {
      "cell_type": "markdown",
      "metadata": {
        "id": "Q7AzwDhvuHX-"
      },
      "source": [
        "###Find the image which is on a borderline i.e. semi-factual"
      ]
    },
    {
      "cell_type": "markdown",
      "metadata": {
        "id": "wIyWCd2ZuL0f"
      },
      "source": [
        "Idea: Use the metric **Pred - argmax2nd highest** to identify the borderline semi factual"
      ]
    },
    {
      "cell_type": "code",
      "metadata": {
        "colab": {
          "base_uri": "https://localhost:8080/",
          "height": 366
        },
        "id": "j65ZpSd4uGZg",
        "outputId": "144ef507-28aa-475e-9a80-81704a936457"
      },
      "source": [
        "#Find the image distant from the original one but still has the same class perdiction\n",
        "\n",
        "#using latent dimension distance\n",
        "cos = nn.CosineSimilarity(dim=1, eps=1e-6)\n",
        "\n",
        "import torch\n",
        "torch.manual_seed(100)\n",
        "z_semi = torch.randn(1, 100,1,1).to(device)\n",
        "step_size = 0.01\n",
        "\n",
        "\n",
        "def semifactuals(z_org,z_semi,given_class):\n",
        "  overall_loss = 0\n",
        "  loss = 0\n",
        "  avg_loss = 1000\n",
        "  avg_loss_old = 1000\n",
        "  i=1\n",
        "  while (avg_loss_old>=avg_loss):\n",
        "    z_semi.requires_grad = True\n",
        "    #loss1 = torch.square(torch.abs(z_org-z_semi)).sum() # distance in latent dimension euclidean\n",
        "    \n",
        "    loss1 =  torch.log(0.1+torch.abs(cos(z_org,z_semi)).mean()) # distance using cosine similarity\n",
        "    loss2 = torch.log(Classifier_model(G(z_semi))[0][given_class]) # ensure the class is maintained \n",
        "    temp = Classifier_model(G(z_semi))[0]\n",
        "    loss3 = torch.log(1.000001 - (temp[torch.topk(temp,2).indices[0]] - temp[torch.topk(temp,2).indices[1]])) # diference between highest and argmax 2\n",
        "    loss4 = torch.log(D(G(z_semi))) # Plausibility\n",
        "\n",
        "    \n",
        "    \n",
        "  #loss = loss1 - loss2 - 5*loss3 # without PR\n",
        "    loss = -loss1 - loss2 - loss3 - loss4 #with PR\n",
        "    z_semi.grad = None\n",
        "    loss.backward()\n",
        "    z_semi.requires_grad = False\n",
        "    z_semi = z_semi - z_semi.grad * step_size\n",
        "    i = i+1\n",
        "\n",
        "    overall_loss= overall_loss + loss\n",
        "    if (i%500==0):\n",
        "      #print(\"loss \" + \"step \" + str(i) + str (loss))\n",
        "      avg_loss_old = avg_loss\n",
        "      avg_loss = overall_loss/500.0\n",
        "      print(\"avg_loss \" + \"step \" + \" \" +str(i) + str (avg_loss))\n",
        "      print(\"avg_loss_old \" + \"step \" + str(i) + str (avg_loss_old))\n",
        "      overall_loss = 0 \n",
        "  \n",
        "    if (i==1000):\n",
        "      break\n",
        "\n",
        "  return z_semi\n",
        "\n",
        "#-------------------------------------------------------------------\n",
        "# Run the function from here\n",
        "given_class = 0\n",
        "\n",
        "\n",
        "z_semi = semifactuals(z_semi,z_org,given_class)\n",
        "\n",
        "G_img= G(z_semi)\n",
        "npimgs = G_img[0].detach().numpy()\n",
        "print(npimgs.shape)\n",
        "plt.imshow(npimgs[0],cmap='Greys_r')"
      ],
      "execution_count": 111,
      "outputs": [
        {
          "output_type": "stream",
          "text": [
            "avg_loss step  500tensor([14.4118], grad_fn=<DivBackward0>)\n",
            "avg_loss_old step 5001000\n",
            "avg_loss step  1000tensor([14.1344], grad_fn=<DivBackward0>)\n",
            "avg_loss_old step 1000tensor([14.4118], grad_fn=<DivBackward0>)\n",
            "(1, 28, 28)\n"
          ],
          "name": "stdout"
        },
        {
          "output_type": "execute_result",
          "data": {
            "text/plain": [
              "<matplotlib.image.AxesImage at 0x7fa881853190>"
            ]
          },
          "metadata": {},
          "execution_count": 111
        },
        {
          "output_type": "display_data",
          "data": {
            "image/png": "[encoded data removed]",
            "text/plain": [
              "<Figure size 432x288 with 1 Axes>"
            ]
          },
          "metadata": {
            "needs_background": "light"
          }
        }
      ]
    },
    {
      "cell_type": "code",
      "metadata": {
        "colab": {
          "base_uri": "https://localhost:8080/"
        },
        "id": "8YJZyOUDu5At",
        "outputId": "057465dc-fe23-4851-88c9-7cc5ee20284f"
      },
      "source": [
        "Classifier_model(G(z_semi))[0]"
      ],
      "execution_count": 105,
      "outputs": [
        {
          "output_type": "execute_result",
          "data": {
            "text/plain": [
              "tensor([1.0000e+00, 6.8261e-16, 2.3747e-12, 1.5510e-16, 7.7738e-18, 1.2519e-17,\n",
              "        2.1426e-13, 8.3341e-14, 2.0627e-17, 7.0864e-16],\n",
              "       grad_fn=<SelectBackward>)"
            ]
          },
          "metadata": {},
          "execution_count": 105
        }
      ]
    },
    {
      "cell_type": "code",
      "metadata": {
        "colab": {
          "base_uri": "https://localhost:8080/"
        },
        "id": "Grw0cPaQvSy6",
        "outputId": "ce653775-fb14-4a99-dea6-ecafc185eb64"
      },
      "source": [
        "torch.topk(Classifier_model(G(z_semi))[0],2)"
      ],
      "execution_count": 106,
      "outputs": [
        {
          "output_type": "execute_result",
          "data": {
            "text/plain": [
              "torch.return_types.topk(values=tensor([1.0000e+00, 2.3747e-12], grad_fn=<TopkBackward>), indices=tensor([0, 2]))"
            ]
          },
          "metadata": {},
          "execution_count": 106
        }
      ]
    },
    {
      "cell_type": "code",
      "metadata": {
        "colab": {
          "base_uri": "https://localhost:8080/"
        },
        "id": "vVyvVi0qvarn",
        "outputId": "9ce753d3-cac1-47c9-8800-873f264126e9"
      },
      "source": [
        "torch.topk(Classifier_model(G(z_org))[0],2)"
      ],
      "execution_count": 107,
      "outputs": [
        {
          "output_type": "execute_result",
          "data": {
            "text/plain": [
              "torch.return_types.topk(values=tensor([1.0000e+00, 6.3456e-13], grad_fn=<TopkBackward>), indices=tensor([0, 6]))"
            ]
          },
          "metadata": {},
          "execution_count": 107
        }
      ]
    },
    {
      "cell_type": "code",
      "metadata": {
        "colab": {
          "base_uri": "https://localhost:8080/"
        },
        "id": "8Te8MATiweMU",
        "outputId": "bfa51e4b-4e70-4b4c-e0e4-45595a57c3cf"
      },
      "source": [
        "temp =   Classifier_model(G(z_semi))[0]\n",
        "torch.log(1.000001 - (temp[torch.topk(temp,2).indices[0]] - temp[torch.topk(temp,2).indices[1]]))\n",
        "1.1 - (temp[torch.topk(temp,2).indices[0]] - temp[torch.topk(temp,2).indices[1]])"
      ],
      "execution_count": 109,
      "outputs": [
        {
          "output_type": "execute_result",
          "data": {
            "text/plain": [
              "tensor(0.1000, grad_fn=<RsubBackward1>)"
            ]
          },
          "metadata": {},
          "execution_count": 109
        }
      ]
    },
    {
      "cell_type": "markdown",
      "metadata": {
        "id": "nyGDsY2j4NfG"
      },
      "source": [
        "###Find the image which is on a borderline i.e. semi-factual provided a target class"
      ]
    },
    {
      "cell_type": "code",
      "metadata": {
        "colab": {
          "base_uri": "https://localhost:8080/",
          "height": 246
        },
        "id": "KW5JYRmG4ONB",
        "outputId": "47169580-3226-4b9d-ecd3-30d45b0ae511"
      },
      "source": [
        "#Find the image distant from the original one but still has the same class perdiction\n",
        "import torch\n",
        "cos = nn.CosineSimilarity(dim=1, eps=1e-6)\n",
        "\n",
        "#using latent dimension distance\n",
        "\n",
        "import torch\n",
        "torch.manual_seed(100)\n",
        "z_semi = torch.randn(1, 100,1,1).to(device)\n",
        "step_size = 0.001\n",
        "\n",
        "given_class = 0\n",
        "\n",
        "overall_loss = 0\n",
        "loss = 0\n",
        "avg_loss = 1000\n",
        "avg_loss_old = 1000\n",
        "i=1\n",
        "while (avg_loss_old>=avg_loss):\n",
        "  z_semi.requires_grad = True\n",
        "  #loss1 = torch.square(torch.abs(z_org-z_semi)).sum() # distance in latent dimension\n",
        "  \n",
        "  loss1 = torch.log(0.1+torch.abs(cos(z_org,z_semi)).mean()) # distance using cosine similarity\n",
        "  loss2 = torch.log(Classifier_model(G(z_semi))[0][0][given_class]) # ensure the class is maintained \n",
        "  #temp = Classifier_model(G(z_semi))[0]\n",
        "  #loss3 = torch.log(1.1 - (temp[torch.topk(temp,2).indices[0]] - temp[torch.topk(temp,2).indices[1]])) # diference between highest and argmax 2\n",
        "  loss3 = torch.log(1.0001 - torch.abs((Classifier_model(G(z_semi))[0][0] - Classifier_model(G(z_semi))[0][1]))) # difference between target class and img class\n",
        "  loss4 = torch.log(D(G(z_semi))) # Plausibility\n",
        "\n",
        "  \n",
        "  \n",
        "  loss = -loss1 - loss2 - loss3 -loss4 # without PR\n",
        "  #loss = loss1 - loss2 - 5*loss3 - loss4 #with PR\n",
        "  z_semi.grad = None\n",
        "  loss.backward()\n",
        "  z_semi.requires_grad = False\n",
        "  z_semi = z_semi - z_semi.grad * step_size\n",
        "  i = i+1\n",
        "\n",
        "  overall_loss= overall_loss + loss\n",
        "  if (i%500==0):\n",
        "    #print(\"loss \" + \"step \" + str(i) + str (loss))\n",
        "    avg_loss_old = avg_loss\n",
        "    avg_loss = overall_loss/500.0\n",
        "    print(\"avg_loss \" + \"step \" + \" \" +str(i) + str (avg_loss))\n",
        "    print(\"avg_loss_old \" + \"step \" + str(i) + str (avg_loss_old))\n",
        "    overall_loss = 0 \n",
        " "
      ],
      "execution_count": 14,
      "outputs": [
        {
          "output_type": "error",
          "ename": "NameError",
          "evalue": "ignored",
          "traceback": [
            "\u001b[0;31m---------------------------------------------------------------------------\u001b[0m",
            "\u001b[0;31mNameError\u001b[0m                                 Traceback (most recent call last)",
            "\u001b[0;32m<ipython-input-14-5170ff78c746>\u001b[0m in \u001b[0;36m<module>\u001b[0;34m()\u001b[0m\n\u001b[1;32m     22\u001b[0m \u001b[0;34m\u001b[0m\u001b[0m\n\u001b[1;32m     23\u001b[0m   \u001b[0mloss1\u001b[0m \u001b[0;34m=\u001b[0m \u001b[0mtorch\u001b[0m\u001b[0;34m.\u001b[0m\u001b[0mlog\u001b[0m\u001b[0;34m(\u001b[0m\u001b[0;36m0.1\u001b[0m\u001b[0;34m+\u001b[0m\u001b[0mtorch\u001b[0m\u001b[0;34m.\u001b[0m\u001b[0mabs\u001b[0m\u001b[0;34m(\u001b[0m\u001b[0mcos\u001b[0m\u001b[0;34m(\u001b[0m\u001b[0mz_org\u001b[0m\u001b[0;34m,\u001b[0m\u001b[0mz_semi\u001b[0m\u001b[0;34m)\u001b[0m\u001b[0;34m)\u001b[0m\u001b[0;34m.\u001b[0m\u001b[0mmean\u001b[0m\u001b[0;34m(\u001b[0m\u001b[0;34m)\u001b[0m\u001b[0;34m)\u001b[0m \u001b[0;31m# distance using cosine similarity\u001b[0m\u001b[0;34m\u001b[0m\u001b[0;34m\u001b[0m\u001b[0m\n\u001b[0;32m---> 24\u001b[0;31m   \u001b[0mloss2\u001b[0m \u001b[0;34m=\u001b[0m \u001b[0mtorch\u001b[0m\u001b[0;34m.\u001b[0m\u001b[0mlog\u001b[0m\u001b[0;34m(\u001b[0m\u001b[0mClassifier_model\u001b[0m\u001b[0;34m(\u001b[0m\u001b[0mG\u001b[0m\u001b[0;34m(\u001b[0m\u001b[0mz_semi\u001b[0m\u001b[0;34m)\u001b[0m\u001b[0;34m)\u001b[0m\u001b[0;34m[\u001b[0m\u001b[0;36m0\u001b[0m\u001b[0;34m]\u001b[0m\u001b[0;34m[\u001b[0m\u001b[0;36m0\u001b[0m\u001b[0;34m]\u001b[0m\u001b[0;34m[\u001b[0m\u001b[0mgiven_class\u001b[0m\u001b[0;34m]\u001b[0m\u001b[0;34m)\u001b[0m \u001b[0;31m# ensure the class is maintained\u001b[0m\u001b[0;34m\u001b[0m\u001b[0;34m\u001b[0m\u001b[0m\n\u001b[0m\u001b[1;32m     25\u001b[0m   \u001b[0;31m#temp = Classifier_model(G(z_semi))[0]\u001b[0m\u001b[0;34m\u001b[0m\u001b[0;34m\u001b[0m\u001b[0;34m\u001b[0m\u001b[0m\n\u001b[1;32m     26\u001b[0m   \u001b[0;31m#loss3 = torch.log(1.1 - (temp[torch.topk(temp,2).indices[0]] - temp[torch.topk(temp,2).indices[1]])) # diference between highest and argmax 2\u001b[0m\u001b[0;34m\u001b[0m\u001b[0;34m\u001b[0m\u001b[0;34m\u001b[0m\u001b[0m\n",
            "\u001b[0;31mNameError\u001b[0m: name 'Classifier_model' is not defined"
          ]
        }
      ]
    },
    {
      "cell_type": "code",
      "metadata": {
        "colab": {
          "base_uri": "https://localhost:8080/",
          "height": 282
        },
        "id": "-KVqNzvO4Vj2",
        "outputId": "33c8f8cf-64dd-4091-c27b-abe0aa4455f6"
      },
      "source": [
        "# Plotting the semi factual image according to the cf found by the latent dimension loss and target class provided\n",
        "G_img= G(z_semi)\n",
        "npimgs = G_img[0].detach().numpy()\n",
        "#print(npimgs.shape)\n",
        "plt.imshow(npimgs[0],cmap='Greys_r')"
      ],
      "execution_count": 232,
      "outputs": [
        {
          "output_type": "execute_result",
          "data": {
            "text/plain": [
              "<matplotlib.image.AxesImage at 0x7fa880dc15d0>"
            ]
          },
          "metadata": {},
          "execution_count": 232
        },
        {
          "output_type": "display_data",
          "data": {
            "image/png": "[encoded data removed]",
            "text/plain": [
              "<Figure size 432x288 with 1 Axes>"
            ]
          },
          "metadata": {
            "needs_background": "light"
          }
        }
      ]
    },
    {
      "cell_type": "markdown",
      "metadata": {
        "id": "wNEy930ofePD"
      },
      "source": [
        "## Using the standard losses for CF calculation"
      ]
    },
    {
      "cell_type": "code",
      "metadata": {
        "colab": {
          "base_uri": "https://localhost:8080/"
        },
        "id": "Zwi1rqET7vhE",
        "outputId": "cd38b57c-5333-4b95-c73e-014f788e3aef"
      },
      "source": [
        "#Tried using nn.losses\n",
        "\n",
        "import torch.optim as optim\n",
        "import torch\n",
        "cos = nn.CosineSimilarity(dim=1, eps=1e-6)\n",
        "torch.manual_seed(100)\n",
        "z_semi = torch.randn(1, 100,1,1).to(device)\n",
        "step_size = 0.01\n",
        "\n",
        "#Find the image closer to the original one but target prediction\n",
        "criterion1 = nn.MSELoss()\n",
        "nll = nn.NLLLoss()\n",
        "CE_loss = nn.CrossEntropyLoss()\n",
        "l1_loss = nn.L1Loss()\n",
        "optimizer = optim.SGD([z_semi], lr=0.01)\n",
        "\n",
        "#using latent dimension distance\n",
        "latent_z = []\n",
        "for cnt in range(1,10,1):\n",
        "  z_semi = z_org.to(device)\n",
        "\n",
        "  overall_loss = 0\n",
        "  i=1\n",
        "  while (i<=10000):\n",
        "    z_semi.requires_grad = True\n",
        "    #loss1 = torch.square(torch.abs(z_org-z_semi)).sum() # distance in latent dimension\n",
        "    \n",
        "    loss1 = criterion1(z_org,z_semi) # distance using MSE\n",
        "    loss2 = CE_loss(Classifier_model_logits(G(z_semi))[1],torch.tensor([cnt]).to(device) ) # ensure the class is maintained \n",
        "    loss3 = l1_loss(D(G(z_semi)), torch.tensor([[1.0]]).to(device))\n",
        "\n",
        "       \n",
        "    #loss =  loss1 + loss2  # without PR\n",
        "    loss = loss1 + loss2 + 0.1*loss3 #with PR\n",
        "    \n",
        "    z_semi.grad = None\n",
        "    loss.backward(retain_graph=True)  \n",
        "    optimizer.step()  \n",
        "    z_semi.requires_grad = False\n",
        "    z_semi = z_semi - z_semi.grad * step_size\n",
        "    i = i+1\n",
        "    overall_loss= overall_loss + loss \n",
        "\n",
        "    if (i%500==0):\n",
        "           \n",
        "      avg_loss = overall_loss/500.0\n",
        "      print(\"avg_loss \" + \"step \" + \" \" +str(i) + str (avg_loss))\n",
        "      #print(\"avg_loss_old \" + \"step \" + str(i) + str (avg_loss_old))\n",
        "      overall_loss = 0 \n",
        "  latent_z.append(z_semi)\n",
        "  "
      ],
      "execution_count": 81,
      "outputs": [
        {
          "output_type": "stream",
          "text": [
            "/usr/local/lib/python3.7/dist-packages/torch/nn/modules/loss.py:97: UserWarning: Using a target size (torch.Size([1, 1])) that is different to the input size (torch.Size([1])). This will likely lead to incorrect results due to broadcasting. Please ensure they have the same size.\n",
            "  return F.l1_loss(input, target, reduction=self.reduction)\n"
          ],
          "name": "stderr"
        },
        {
          "output_type": "stream",
          "text": [
            "avg_loss step  500tensor(2.3126, device='cuda:0', grad_fn=<DivBackward0>)\n",
            "avg_loss step  1000tensor(0.1689, device='cuda:0', grad_fn=<DivBackward0>)\n",
            "avg_loss step  1500tensor(0.1592, device='cuda:0', grad_fn=<DivBackward0>)\n",
            "avg_loss step  2000tensor(0.1513, device='cuda:0', grad_fn=<DivBackward0>)\n",
            "avg_loss step  2500tensor(0.1459, device='cuda:0', grad_fn=<DivBackward0>)\n",
            "avg_loss step  3000tensor(0.1419, device='cuda:0', grad_fn=<DivBackward0>)\n",
            "avg_loss step  3500tensor(0.1393, device='cuda:0', grad_fn=<DivBackward0>)\n",
            "avg_loss step  4000tensor(0.1372, device='cuda:0', grad_fn=<DivBackward0>)\n",
            "avg_loss step  4500tensor(0.1357, device='cuda:0', grad_fn=<DivBackward0>)\n",
            "avg_loss step  5000tensor(0.1344, device='cuda:0', grad_fn=<DivBackward0>)\n",
            "avg_loss step  5500tensor(0.1333, device='cuda:0', grad_fn=<DivBackward0>)\n",
            "avg_loss step  6000tensor(0.1324, device='cuda:0', grad_fn=<DivBackward0>)\n",
            "avg_loss step  6500tensor(0.1317, device='cuda:0', grad_fn=<DivBackward0>)\n",
            "avg_loss step  7000tensor(0.1311, device='cuda:0', grad_fn=<DivBackward0>)\n",
            "avg_loss step  7500tensor(0.1307, device='cuda:0', grad_fn=<DivBackward0>)\n",
            "avg_loss step  8000tensor(0.1303, device='cuda:0', grad_fn=<DivBackward0>)\n",
            "avg_loss step  8500tensor(0.1300, device='cuda:0', grad_fn=<DivBackward0>)\n",
            "avg_loss step  9000tensor(0.1297, device='cuda:0', grad_fn=<DivBackward0>)\n",
            "avg_loss step  9500tensor(0.1295, device='cuda:0', grad_fn=<DivBackward0>)\n",
            "avg_loss step  10000tensor(0.1294, device='cuda:0', grad_fn=<DivBackward0>)\n",
            "avg_loss step  500tensor(1.1101, device='cuda:0', grad_fn=<DivBackward0>)\n",
            "avg_loss step  1000tensor(0.1455, device='cuda:0', grad_fn=<DivBackward0>)\n",
            "avg_loss step  1500tensor(0.1414, device='cuda:0', grad_fn=<DivBackward0>)\n",
            "avg_loss step  2000tensor(0.1392, device='cuda:0', grad_fn=<DivBackward0>)\n",
            "avg_loss step  2500tensor(0.1373, device='cuda:0', grad_fn=<DivBackward0>)\n",
            "avg_loss step  3000tensor(0.1357, device='cuda:0', grad_fn=<DivBackward0>)\n",
            "avg_loss step  3500tensor(0.1336, device='cuda:0', grad_fn=<DivBackward0>)\n",
            "avg_loss step  4000tensor(0.1321, device='cuda:0', grad_fn=<DivBackward0>)\n",
            "avg_loss step  4500tensor(0.1311, device='cuda:0', grad_fn=<DivBackward0>)\n",
            "avg_loss step  5000tensor(0.1303, device='cuda:0', grad_fn=<DivBackward0>)\n",
            "avg_loss step  5500tensor(0.1293, device='cuda:0', grad_fn=<DivBackward0>)\n",
            "avg_loss step  6000tensor(0.1283, device='cuda:0', grad_fn=<DivBackward0>)\n",
            "avg_loss step  6500tensor(0.1275, device='cuda:0', grad_fn=<DivBackward0>)\n",
            "avg_loss step  7000tensor(0.1269, device='cuda:0', grad_fn=<DivBackward0>)\n",
            "avg_loss step  7500tensor(0.1265, device='cuda:0', grad_fn=<DivBackward0>)\n",
            "avg_loss step  8000tensor(0.1262, device='cuda:0', grad_fn=<DivBackward0>)\n",
            "avg_loss step  8500tensor(0.1259, device='cuda:0', grad_fn=<DivBackward0>)\n",
            "avg_loss step  9000tensor(0.1257, device='cuda:0', grad_fn=<DivBackward0>)\n",
            "avg_loss step  9500tensor(0.1255, device='cuda:0', grad_fn=<DivBackward0>)\n",
            "avg_loss step  10000tensor(0.1254, device='cuda:0', grad_fn=<DivBackward0>)\n",
            "avg_loss step  500tensor(0.3128, device='cuda:0', grad_fn=<DivBackward0>)\n",
            "avg_loss step  1000tensor(0.1103, device='cuda:0', grad_fn=<DivBackward0>)\n",
            "avg_loss step  1500tensor(0.1088, device='cuda:0', grad_fn=<DivBackward0>)\n",
            "avg_loss step  2000tensor(0.0550, device='cuda:0', grad_fn=<DivBackward0>)\n",
            "avg_loss step  2500tensor(0.0077, device='cuda:0', grad_fn=<DivBackward0>)\n",
            "avg_loss step  3000tensor(0.0074, device='cuda:0', grad_fn=<DivBackward0>)\n",
            "avg_loss step  3500tensor(0.0072, device='cuda:0', grad_fn=<DivBackward0>)\n",
            "avg_loss step  4000tensor(0.0071, device='cuda:0', grad_fn=<DivBackward0>)\n",
            "avg_loss step  4500tensor(0.0070, device='cuda:0', grad_fn=<DivBackward0>)\n",
            "avg_loss step  5000tensor(0.0069, device='cuda:0', grad_fn=<DivBackward0>)\n",
            "avg_loss step  5500tensor(0.0068, device='cuda:0', grad_fn=<DivBackward0>)\n",
            "avg_loss step  6000tensor(0.0068, device='cuda:0', grad_fn=<DivBackward0>)\n",
            "avg_loss step  6500tensor(0.0067, device='cuda:0', grad_fn=<DivBackward0>)\n",
            "avg_loss step  7000tensor(0.0067, device='cuda:0', grad_fn=<DivBackward0>)\n",
            "avg_loss step  7500tensor(0.0066, device='cuda:0', grad_fn=<DivBackward0>)\n",
            "avg_loss step  8000tensor(0.0066, device='cuda:0', grad_fn=<DivBackward0>)\n",
            "avg_loss step  8500tensor(0.0066, device='cuda:0', grad_fn=<DivBackward0>)\n",
            "avg_loss step  9000tensor(0.0066, device='cuda:0', grad_fn=<DivBackward0>)\n",
            "avg_loss step  9500tensor(0.0066, device='cuda:0', grad_fn=<DivBackward0>)\n",
            "avg_loss step  10000tensor(0.0065, device='cuda:0', grad_fn=<DivBackward0>)\n",
            "avg_loss step  500tensor(1.7429, device='cuda:0', grad_fn=<DivBackward0>)\n",
            "avg_loss step  1000tensor(0.1599, device='cuda:0', grad_fn=<DivBackward0>)\n",
            "avg_loss step  1500tensor(0.1524, device='cuda:0', grad_fn=<DivBackward0>)\n",
            "avg_loss step  2000tensor(0.1469, device='cuda:0', grad_fn=<DivBackward0>)\n",
            "avg_loss step  2500tensor(0.1419, device='cuda:0', grad_fn=<DivBackward0>)\n",
            "avg_loss step  3000tensor(0.1381, device='cuda:0', grad_fn=<DivBackward0>)\n",
            "avg_loss step  3500tensor(0.1350, device='cuda:0', grad_fn=<DivBackward0>)\n",
            "avg_loss step  4000tensor(0.1325, device='cuda:0', grad_fn=<DivBackward0>)\n",
            "avg_loss step  4500tensor(0.1300, device='cuda:0', grad_fn=<DivBackward0>)\n",
            "avg_loss step  5000tensor(0.1273, device='cuda:0', grad_fn=<DivBackward0>)\n",
            "avg_loss step  5500tensor(0.1252, device='cuda:0', grad_fn=<DivBackward0>)\n",
            "avg_loss step  6000tensor(0.1241, device='cuda:0', grad_fn=<DivBackward0>)\n",
            "avg_loss step  6500tensor(0.1233, device='cuda:0', grad_fn=<DivBackward0>)\n",
            "avg_loss step  7000tensor(0.1228, device='cuda:0', grad_fn=<DivBackward0>)\n",
            "avg_loss step  7500tensor(0.1224, device='cuda:0', grad_fn=<DivBackward0>)\n",
            "avg_loss step  8000tensor(0.1220, device='cuda:0', grad_fn=<DivBackward0>)\n",
            "avg_loss step  8500tensor(0.1218, device='cuda:0', grad_fn=<DivBackward0>)\n",
            "avg_loss step  9000tensor(0.1215, device='cuda:0', grad_fn=<DivBackward0>)\n",
            "avg_loss step  9500tensor(0.1212, device='cuda:0', grad_fn=<DivBackward0>)\n",
            "avg_loss step  10000tensor(0.1210, device='cuda:0', grad_fn=<DivBackward0>)\n",
            "avg_loss step  500tensor(0.5069, device='cuda:0', grad_fn=<DivBackward0>)\n",
            "avg_loss step  1000tensor(0.1289, device='cuda:0', grad_fn=<DivBackward0>)\n",
            "avg_loss step  1500tensor(0.1248, device='cuda:0', grad_fn=<DivBackward0>)\n",
            "avg_loss step  2000tensor(0.1219, device='cuda:0', grad_fn=<DivBackward0>)\n",
            "avg_loss step  2500tensor(0.0511, device='cuda:0', grad_fn=<DivBackward0>)\n",
            "avg_loss step  3000tensor(0.0194, device='cuda:0', grad_fn=<DivBackward0>)\n",
            "avg_loss step  3500tensor(0.0182, device='cuda:0', grad_fn=<DivBackward0>)\n",
            "avg_loss step  4000tensor(0.0173, device='cuda:0', grad_fn=<DivBackward0>)\n",
            "avg_loss step  4500tensor(0.0168, device='cuda:0', grad_fn=<DivBackward0>)\n",
            "avg_loss step  5000tensor(0.0164, device='cuda:0', grad_fn=<DivBackward0>)\n",
            "avg_loss step  5500tensor(0.0162, device='cuda:0', grad_fn=<DivBackward0>)\n",
            "avg_loss step  6000tensor(0.0160, device='cuda:0', grad_fn=<DivBackward0>)\n",
            "avg_loss step  6500tensor(0.0158, device='cuda:0', grad_fn=<DivBackward0>)\n",
            "avg_loss step  7000tensor(0.0156, device='cuda:0', grad_fn=<DivBackward0>)\n",
            "avg_loss step  7500tensor(0.0155, device='cuda:0', grad_fn=<DivBackward0>)\n",
            "avg_loss step  8000tensor(0.0153, device='cuda:0', grad_fn=<DivBackward0>)\n",
            "avg_loss step  8500tensor(0.0151, device='cuda:0', grad_fn=<DivBackward0>)\n",
            "avg_loss step  9000tensor(0.0150, device='cuda:0', grad_fn=<DivBackward0>)\n",
            "avg_loss step  9500tensor(0.0150, device='cuda:0', grad_fn=<DivBackward0>)\n",
            "avg_loss step  10000tensor(0.0149, device='cuda:0', grad_fn=<DivBackward0>)\n",
            "avg_loss step  500tensor(2.0943, device='cuda:0', grad_fn=<DivBackward0>)\n",
            "avg_loss step  1000tensor(0.2858, device='cuda:0', grad_fn=<DivBackward0>)\n",
            "avg_loss step  1500tensor(0.2621, device='cuda:0', grad_fn=<DivBackward0>)\n",
            "avg_loss step  2000tensor(0.2531, device='cuda:0', grad_fn=<DivBackward0>)\n",
            "avg_loss step  2500tensor(0.2353, device='cuda:0', grad_fn=<DivBackward0>)\n",
            "avg_loss step  3000tensor(0.2178, device='cuda:0', grad_fn=<DivBackward0>)\n",
            "avg_loss step  3500tensor(0.2027, device='cuda:0', grad_fn=<DivBackward0>)\n",
            "avg_loss step  4000tensor(0.1695, device='cuda:0', grad_fn=<DivBackward0>)\n",
            "avg_loss step  4500tensor(0.1581, device='cuda:0', grad_fn=<DivBackward0>)\n",
            "avg_loss step  5000tensor(0.1504, device='cuda:0', grad_fn=<DivBackward0>)\n",
            "avg_loss step  5500tensor(0.1446, device='cuda:0', grad_fn=<DivBackward0>)\n",
            "avg_loss step  6000tensor(0.1398, device='cuda:0', grad_fn=<DivBackward0>)\n",
            "avg_loss step  6500tensor(0.1362, device='cuda:0', grad_fn=<DivBackward0>)\n",
            "avg_loss step  7000tensor(0.1329, device='cuda:0', grad_fn=<DivBackward0>)\n",
            "avg_loss step  7500tensor(0.1298, device='cuda:0', grad_fn=<DivBackward0>)\n",
            "avg_loss step  8000tensor(0.1277, device='cuda:0', grad_fn=<DivBackward0>)\n",
            "avg_loss step  8500tensor(0.1260, device='cuda:0', grad_fn=<DivBackward0>)\n",
            "avg_loss step  9000tensor(0.1246, device='cuda:0', grad_fn=<DivBackward0>)\n",
            "avg_loss step  9500tensor(0.1235, device='cuda:0', grad_fn=<DivBackward0>)\n",
            "avg_loss step  10000tensor(0.1227, device='cuda:0', grad_fn=<DivBackward0>)\n",
            "avg_loss step  500tensor(0.8001, device='cuda:0', grad_fn=<DivBackward0>)\n",
            "avg_loss step  1000tensor(0.1260, device='cuda:0', grad_fn=<DivBackward0>)\n",
            "avg_loss step  1500tensor(0.1235, device='cuda:0', grad_fn=<DivBackward0>)\n",
            "avg_loss step  2000tensor(0.1216, device='cuda:0', grad_fn=<DivBackward0>)\n",
            "avg_loss step  2500tensor(0.1202, device='cuda:0', grad_fn=<DivBackward0>)\n",
            "avg_loss step  3000tensor(0.1192, device='cuda:0', grad_fn=<DivBackward0>)\n",
            "avg_loss step  3500tensor(0.1184, device='cuda:0', grad_fn=<DivBackward0>)\n",
            "avg_loss step  4000tensor(0.1177, device='cuda:0', grad_fn=<DivBackward0>)\n",
            "avg_loss step  4500tensor(0.1165, device='cuda:0', grad_fn=<DivBackward0>)\n",
            "avg_loss step  5000tensor(0.1158, device='cuda:0', grad_fn=<DivBackward0>)\n",
            "avg_loss step  5500tensor(0.1154, device='cuda:0', grad_fn=<DivBackward0>)\n",
            "avg_loss step  6000tensor(0.1151, device='cuda:0', grad_fn=<DivBackward0>)\n",
            "avg_loss step  6500tensor(0.1148, device='cuda:0', grad_fn=<DivBackward0>)\n",
            "avg_loss step  7000tensor(0.1146, device='cuda:0', grad_fn=<DivBackward0>)\n",
            "avg_loss step  7500tensor(0.1144, device='cuda:0', grad_fn=<DivBackward0>)\n",
            "avg_loss step  8000tensor(0.1143, device='cuda:0', grad_fn=<DivBackward0>)\n",
            "avg_loss step  8500tensor(0.1142, device='cuda:0', grad_fn=<DivBackward0>)\n",
            "avg_loss step  9000tensor(0.1141, device='cuda:0', grad_fn=<DivBackward0>)\n",
            "avg_loss step  9500tensor(0.1140, device='cuda:0', grad_fn=<DivBackward0>)\n",
            "avg_loss step  10000tensor(0.1140, device='cuda:0', grad_fn=<DivBackward0>)\n",
            "avg_loss step  500tensor(0.5715, device='cuda:0', grad_fn=<DivBackward0>)\n",
            "avg_loss step  1000tensor(0.1409, device='cuda:0', grad_fn=<DivBackward0>)\n",
            "avg_loss step  1500tensor(0.1376, device='cuda:0', grad_fn=<DivBackward0>)\n",
            "avg_loss step  2000tensor(0.1352, device='cuda:0', grad_fn=<DivBackward0>)\n",
            "avg_loss step  2500tensor(0.1335, device='cuda:0', grad_fn=<DivBackward0>)\n",
            "avg_loss step  3000tensor(0.1324, device='cuda:0', grad_fn=<DivBackward0>)\n",
            "avg_loss step  3500tensor(0.1316, device='cuda:0', grad_fn=<DivBackward0>)\n",
            "avg_loss step  4000tensor(0.1309, device='cuda:0', grad_fn=<DivBackward0>)\n",
            "avg_loss step  4500tensor(0.1303, device='cuda:0', grad_fn=<DivBackward0>)\n",
            "avg_loss step  5000tensor(0.1298, device='cuda:0', grad_fn=<DivBackward0>)\n",
            "avg_loss step  5500tensor(0.1294, device='cuda:0', grad_fn=<DivBackward0>)\n",
            "avg_loss step  6000tensor(0.1291, device='cuda:0', grad_fn=<DivBackward0>)\n",
            "avg_loss step  6500tensor(0.1288, device='cuda:0', grad_fn=<DivBackward0>)\n",
            "avg_loss step  7000tensor(0.1285, device='cuda:0', grad_fn=<DivBackward0>)\n",
            "avg_loss step  7500tensor(0.1283, device='cuda:0', grad_fn=<DivBackward0>)\n",
            "avg_loss step  8000tensor(0.1281, device='cuda:0', grad_fn=<DivBackward0>)\n",
            "avg_loss step  8500tensor(0.1278, device='cuda:0', grad_fn=<DivBackward0>)\n",
            "avg_loss step  9000tensor(0.1276, device='cuda:0', grad_fn=<DivBackward0>)\n",
            "avg_loss step  9500tensor(0.1274, device='cuda:0', grad_fn=<DivBackward0>)\n",
            "avg_loss step  10000tensor(0.1270, device='cuda:0', grad_fn=<DivBackward0>)\n",
            "avg_loss step  500tensor(1.0099, device='cuda:0', grad_fn=<DivBackward0>)\n",
            "avg_loss step  1000tensor(0.1076, device='cuda:0', grad_fn=<DivBackward0>)\n",
            "avg_loss step  1500tensor(0.0654, device='cuda:0', grad_fn=<DivBackward0>)\n",
            "avg_loss step  2000tensor(0.0565, device='cuda:0', grad_fn=<DivBackward0>)\n",
            "avg_loss step  2500tensor(0.0494, device='cuda:0', grad_fn=<DivBackward0>)\n",
            "avg_loss step  3000tensor(0.0439, device='cuda:0', grad_fn=<DivBackward0>)\n",
            "avg_loss step  3500tensor(0.0396, device='cuda:0', grad_fn=<DivBackward0>)\n",
            "avg_loss step  4000tensor(0.0353, device='cuda:0', grad_fn=<DivBackward0>)\n",
            "avg_loss step  4500tensor(0.0323, device='cuda:0', grad_fn=<DivBackward0>)\n",
            "avg_loss step  5000tensor(0.0300, device='cuda:0', grad_fn=<DivBackward0>)\n",
            "avg_loss step  5500tensor(0.0276, device='cuda:0', grad_fn=<DivBackward0>)\n",
            "avg_loss step  6000tensor(0.0263, device='cuda:0', grad_fn=<DivBackward0>)\n",
            "avg_loss step  6500tensor(0.0253, device='cuda:0', grad_fn=<DivBackward0>)\n",
            "avg_loss step  7000tensor(0.0247, device='cuda:0', grad_fn=<DivBackward0>)\n",
            "avg_loss step  7500tensor(0.0240, device='cuda:0', grad_fn=<DivBackward0>)\n",
            "avg_loss step  8000tensor(0.0221, device='cuda:0', grad_fn=<DivBackward0>)\n",
            "avg_loss step  8500tensor(0.0204, device='cuda:0', grad_fn=<DivBackward0>)\n",
            "avg_loss step  9000tensor(0.0193, device='cuda:0', grad_fn=<DivBackward0>)\n",
            "avg_loss step  9500tensor(0.0189, device='cuda:0', grad_fn=<DivBackward0>)\n",
            "avg_loss step  10000tensor(0.0184, device='cuda:0', grad_fn=<DivBackward0>)\n"
          ],
          "name": "stdout"
        }
      ]
    },
    {
      "cell_type": "code",
      "metadata": {
        "colab": {
          "base_uri": "https://localhost:8080/"
        },
        "id": "zxzWmAMrRPLP",
        "outputId": "1b850a2c-5770-422d-9afa-d6554eec132c"
      },
      "source": [
        "loss1"
      ],
      "execution_count": 44,
      "outputs": [
        {
          "output_type": "execute_result",
          "data": {
            "text/plain": [
              "tensor(0.1253, grad_fn=<MseLossBackward>)"
            ]
          },
          "metadata": {},
          "execution_count": 44
        }
      ]
    },
    {
      "cell_type": "code",
      "metadata": {
        "colab": {
          "base_uri": "https://localhost:8080/"
        },
        "id": "UencMIl4AkeZ",
        "outputId": "87608f3d-4ed7-4ae0-e3de-a5c4e51f9f1e"
      },
      "source": [
        "CE_loss(Classifier_model_logits(G(z_semi))[1],torch.tensor([6]) )"
      ],
      "execution_count": 24,
      "outputs": [
        {
          "output_type": "execute_result",
          "data": {
            "text/plain": [
              "tensor(1.7275, grad_fn=<NllLossBackward>)"
            ]
          },
          "metadata": {},
          "execution_count": 24
        }
      ]
    },
    {
      "cell_type": "code",
      "metadata": {
        "colab": {
          "base_uri": "https://localhost:8080/"
        },
        "id": "_NsIdOjD4zg5",
        "outputId": "b27e3edc-c6ac-4ef9-bb0f-b7191e5a87cd"
      },
      "source": [
        "Classifier_model_logits(G(z_semi))[0]"
      ],
      "execution_count": 39,
      "outputs": [
        {
          "output_type": "execute_result",
          "data": {
            "text/plain": [
              "tensor([[4.7433e-07, 9.9904e-01, 2.4590e-07, 1.2178e-04, 2.9775e-04, 2.6639e-05,\n",
              "         1.0285e-07, 5.6574e-05, 2.2462e-04, 2.2825e-04]],\n",
              "       grad_fn=<SoftmaxBackward>)"
            ]
          },
          "metadata": {},
          "execution_count": 39
        }
      ]
    },
    {
      "cell_type": "code",
      "metadata": {
        "colab": {
          "base_uri": "https://localhost:8080/"
        },
        "id": "FUSfB-VW6CI8",
        "outputId": "432b3b94-f0ea-4ff1-d6a6-9e4468f977c6"
      },
      "source": [
        "loss2"
      ],
      "execution_count": 45,
      "outputs": [
        {
          "output_type": "execute_result",
          "data": {
            "text/plain": [
              "tensor(0.0075, grad_fn=<NllLossBackward>)"
            ]
          },
          "metadata": {},
          "execution_count": 45
        }
      ]
    },
    {
      "cell_type": "code",
      "metadata": {
        "colab": {
          "base_uri": "https://localhost:8080/"
        },
        "id": "M_liI5seW441",
        "outputId": "8fdaccab-f253-44c9-f2c0-0640ec33b2a3"
      },
      "source": [
        "loss3"
      ],
      "execution_count": 46,
      "outputs": [
        {
          "output_type": "execute_result",
          "data": {
            "text/plain": [
              "tensor(0.0019, grad_fn=<L1LossBackward>)"
            ]
          },
          "metadata": {},
          "execution_count": 46
        }
      ]
    },
    {
      "cell_type": "code",
      "metadata": {
        "colab": {
          "base_uri": "https://localhost:8080/",
          "height": 282
        },
        "id": "kfSI7W_C_MT_",
        "outputId": "01cfcb2f-3f2e-4ae8-ae6f-e726be3cedc6"
      },
      "source": [
        "# Plotting the semi factual image according to the cf found by the latent dimension loss and target class provided\n",
        "G_img= G(latent_z[8])\n",
        "G_img = G_img.to('cpu')\n",
        "npimgs = G_img[0].detach().numpy()\n",
        "#print(npimgs.shape)\n",
        "plt.imshow(npimgs[0],cmap='Greys_r')"
      ],
      "execution_count": 98,
      "outputs": [
        {
          "output_type": "execute_result",
          "data": {
            "text/plain": [
              "<matplotlib.image.AxesImage at 0x7fd63ba46a90>"
            ]
          },
          "metadata": {},
          "execution_count": 98
        },
        {
          "output_type": "display_data",
          "data": {
            "image/png": "[encoded data removed]",
            "text/plain": [
              "<Figure size 432x288 with 1 Axes>"
            ]
          },
          "metadata": {
            "needs_background": "light"
          }
        }
      ]
    },
    {
      "cell_type": "code",
      "metadata": {
        "colab": {
          "base_uri": "https://localhost:8080/"
        },
        "id": "KMhCvRGtXjyl",
        "outputId": "346148b5-d0a8-4f77-900b-9737be5eb832"
      },
      "source": [
        "\n",
        "Classifier_model_logits(G(latent_z[1]))[0]"
      ],
      "execution_count": 91,
      "outputs": [
        {
          "output_type": "execute_result",
          "data": {
            "text/plain": [
              "tensor([[2.7616e-03, 3.0601e-05, 9.9420e-01, 2.9991e-03, 2.4383e-08, 2.4623e-07,\n",
              "         4.0001e-06, 5.8101e-06, 7.3204e-08, 2.2983e-07]], device='cuda:0',\n",
              "       grad_fn=<SoftmaxBackward>)"
            ]
          },
          "metadata": {},
          "execution_count": 91
        }
      ]
    },
    {
      "cell_type": "code",
      "metadata": {
        "colab": {
          "base_uri": "https://localhost:8080/"
        },
        "id": "WdwdnjL3HDIe",
        "outputId": "e782fd87-43b3-4428-b2af-0eea8e68c00a"
      },
      "source": [
        "# trying some different optimisation technique\n",
        "\n",
        "#Find the image distant from the original one but still has the same class perdiction\n",
        "\n",
        "#using latent dimension distance\n",
        "cos = nn.CosineSimilarity(dim=1, eps=1e-6)\n",
        "\n",
        "\n",
        "import torch\n",
        "torch.manual_seed(100)\n",
        "z_semi = torch.randn(1, 100,1,1).to(device)\n",
        "step_size = 0.001\n",
        "\n",
        "overall_loss = 0\n",
        "loss = 0\n",
        "avg_loss = 1000\n",
        "avg_loss_old = 1000\n",
        "i=1\n",
        "print(torch.abs((Classifier_model(G(z_semi))[0][0] - Classifier_model(G(z_semi))[0][1])))\n",
        "while (torch.abs((Classifier_model(G(z_semi))[0][0] - Classifier_model(G(z_semi))[0][1]))>0.1):\n",
        "  z_semi.requires_grad = True\n",
        "  #loss1 = torch.square(torch.abs(z_org-z_semi)).sum() # distance in latent dimension\n",
        "  \n",
        "  loss1 = torch.log(0.1+torch.abs(cos(z_org,z_semi)).mean()) # distance using cosine similarity\n",
        "  loss2 = torch.log(Classifier_model(G(z_semi))[0][0]) # ensure the class is maintained \n",
        "  #temp = Classifier_model(G(z_semi))[0]\n",
        "  #loss3 = torch.log(1.1 - (temp[torch.topk(temp,2).indices[0]] - temp[torch.topk(temp,2).indices[1]])) # diference between highest and argmax 2\n",
        "  loss3 = torch.log(1.0001 - torch.abs((Classifier_model(G(z_semi))[0][0] - Classifier_model(G(z_semi))[0][1]))) # difference between target class and img class\n",
        "  loss4 = torch.log(D(G(z_semi))) # Plausibility\n",
        "\n",
        "  \n",
        "  \n",
        "  loss = -loss1 - loss2 - loss3 -loss4 # without PR\n",
        "  #loss = loss1 - loss2 - 5*loss3 - loss4 #with PR\n",
        "  z_semi.grad = None\n",
        "  loss.backward()\n",
        "  z_semi.requires_grad = False\n",
        "  z_semi = z_semi - z_semi.grad * step_size\n",
        "  i = i+1\n",
        "\n",
        "  overall_loss= overall_loss + loss\n",
        "  if (i%500==0):\n",
        "    #print(\"loss \" + \"step \" + str(i) + str (loss))\n",
        "    avg_loss_old = avg_loss\n",
        "    avg_loss = overall_loss/500.0\n",
        "    print(\"avg_loss \" + \"step \" + \" \" +str(i) + str (avg_loss))\n",
        "    print(\"avg_loss_old \" + \"step \" + str(i) + str (avg_loss_old))\n",
        "    overall_loss = 0 \n",
        " "
      ],
      "execution_count": 13,
      "outputs": [
        {
          "output_type": "stream",
          "text": [
            "tensor(7.4309e-06, grad_fn=<AbsBackward>)\n"
          ],
          "name": "stdout"
        }
      ]
    },
    {
      "cell_type": "code",
      "metadata": {
        "id": "zFzrer3duXem"
      },
      "source": [
        ""
      ],
      "execution_count": null,
      "outputs": []
    }
  ]
}